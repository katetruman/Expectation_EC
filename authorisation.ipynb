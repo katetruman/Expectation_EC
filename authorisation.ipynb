{
 "cells": [
  {
   "cell_type": "markdown",
   "source": "# Authorisation",
   "metadata": {
    "tags": [],
    "is_collapsed": false,
    "cell_id": "00000-1197549b-65d1-40a9-be60-1eccb6bb7711",
    "deepnote_cell_type": "text-cell-h1"
   }
  },
  {
   "cell_type": "markdown",
   "source": "This notebook tests granting and retracting authorisations for different levels of medical actor, and assigning medical staff a permission level.",
   "metadata": {
    "tags": [],
    "is_collapsed": false,
    "cell_id": "00001-44c5ba72-7bf1-4453-81d6-ae3d84df95a6",
    "deepnote_cell_type": "text-cell-p"
   }
  },
  {
   "cell_type": "code",
   "metadata": {
    "tags": [],
    "deepnote_to_be_reexecuted": false,
    "source_hash": "51d74c0a",
    "execution_start": 1638326981853,
    "execution_millis": 285,
    "cell_id": "00002-4e2b3cb0-5e1c-4eef-8362-12360ce6681c",
    "deepnote_cell_type": "code"
   },
   "source": "% Set up required to reset environment\n?- cd('~/work'), ['dec'].\n?- initialiseDEC.\n?- retractall(happensAtNarrative(_,_)).",
   "outputs": [
    {
     "name": "stdout",
     "text": "true.\nfalse.\ntrue.",
     "output_type": "stream"
    }
   ],
   "execution_count": 1
  },
  {
   "cell_type": "markdown",
   "source": "We initially expect that a diagnosis will have been made by a medical staff member authorised to do so. ",
   "metadata": {
    "tags": [],
    "is_collapsed": false,
    "cell_id": "00005-0b7c4f58-539f-4dfe-bb8e-1ff16fafbbc1",
    "deepnote_cell_type": "text-cell-p"
   }
  },
  {
   "cell_type": "markdown",
   "source": "The hospital is aware of various labs, which can be certified to perform various tests. Labs can have existing certifications upon being linked to the hospital, or have certifications added or withdrawn.",
   "metadata": {
    "tags": [],
    "is_collapsed": false,
    "deepnote_cell_type": "text-cell-p"
   }
  },
  {
   "cell_type": "markdown",
   "source": "Staff members have a permission level i.e. nurse or doctor. Different levels are able to perform different actions. A level can have actions granted or revoked, and a staff member can have their permission level changed.",
   "metadata": {
    "tags": [],
    "is_collapsed": false,
    "deepnote_cell_type": "text-cell-p"
   }
  },
  {
   "cell_type": "code",
   "metadata": {
    "tags": [],
    "deepnote_to_be_reexecuted": false,
    "source_hash": "14c18ad1",
    "execution_start": 1638326982099,
    "execution_millis": 42,
    "cell_id": "00006-e06b53cc-aa22-4cd3-a0c8-0a18a2bc2c26",
    "deepnote_cell_type": "code"
   },
   "source": "% File: labInitiates.pl\n\ninitially(exp_rule(diagnosed(_,_,_,_,Actor), individualAuthorised(diagnosis,Actor))).\n\n%initially(certified(Lab,Test)):- initially(lab(Lab,L)), member(Test,L).\n%initiates(certification(Lab,Test,true), certified(Lab,Test),_).\n%terminates(certification(Lab,Test,false), certified(Lab,Test),_).\n%initiates(labConnection(Lab,L), certified(Lab,Test),_):- member(Test,L).\n%initiates(labConnection(Lab,L), lab(Lab,L),_).\n%terminates(labWithdrawal(Lab), lab(Lab,_),_).\n\n%initiates(diagnosis(RID,PatID,Test,Result,Actor), diagnosed(RID,PatID,Test,Result,Actor),_).\n\n% New or old staff\ninitiates(newStaff(Actor,Level), medStaff(Actor,Level),_).\nterminates(oldStaff(Actor,Level), medStaff(Actor,Level),_).\nterminates(oldStaff(Actor,Level), individualAuthorised(Action,Actor),T):- holdsAt(levelAuthority(Level,Action),T).\n\n\n% Are staff authorised at time zero?\ninitially(individualAuthorised(Action,Actor)):- initially(levelAuthority(Level,Action)), initially(medStaff(Actor,Level)).\ninitiates(newStaff(_,Actor,Level), individualAuthorised(Action,Actor),T):- holdsAt(levelAuthority(Level,Action),T).\n\n% Add or revoke authorities for levels. \ninitiates(authorityAdd(Level, Action), levelAuthority(Level,Action),T).\nterminates(authorityRemove(Level, Action), levelAuthority(Level, Action),T).\n% Add or revoke level authorities to medical staff\ninitiates(authorityAdd(Level, Action), individualAuthorised(Action, Actor),T):- holdsAt(medStaff(Actor,Level),T).\nterminates(authorityRemove(Level,Action), individualAuthorised(Action,Actor),T):- holdsAt(medStaff(Actor,Level),T).\n\n% Demotions or Promotions\nterminates(promotion(Actor,NewLevel), medStaff(Actor,OldLevel),T).\ninitiates(promotion(Actor,NewLevel), medStaff(Actor,NewLevel),T).\ninitiates(promotion(Actor, NewLevel), individualAuthorised(Action,Actor),T):- holdsAt(levelAuthority(NewLevel,Action),T).\nterminates(promotion(Actor, NewLevel), individualAuthorised(Action,Actor),T):- holdsAt(levelAuthority(OldLevel,OldAction),T), \\+ holdsAt(authority(NewLevel,OldAction),T).",
   "outputs": [
    {
     "name": "stdout",
     "text": "",
     "output_type": "stream"
    }
   ],
   "execution_count": 2
  },
  {
   "cell_type": "code",
   "metadata": {
    "tags": [],
    "deepnote_to_be_reexecuted": false,
    "source_hash": "eb76684c",
    "execution_start": 1638326982121,
    "execution_millis": 21,
    "cell_id": "00007-fa812df3-1141-4f90-bc32-63f49c956c84",
    "deepnote_cell_type": "code"
   },
   "source": "% File: agents.pl\ninitially(levelAuthority(nurse,testRequests)).\ninitially(levelAuthority(doctor, testRequests)).\ninitially(levelAuthority(doctor, diagnosis)).\ninitially(levelAuthority(specialist, testRequests)).\ninitially(levelAuthority(specialist, diagnosis)).\ninitially(levelAuthority(specialist, brainDeath)).\n\n% TO DO: Need to add in lab test authorisations\n%initially(lab('Otago Blood')).\n%initially(lab('Wellington Main')).\n\ninitially(medStaff('AH',nurse)).\ninitially(medStaff('EH', nurse)).\ninitially(medStaff('PS', doctor)).\nhappensAtNarrative(authorityAdd(acceptor, donorDec),3).\nhappensAtNarrative(authorityAdd(nurse, nurseAct1),1).\nhappensAtNarrative(authorityAdd(nurse, nurseAct2),1).\nhappensAtNarrative(promotion('EH', doctor),2).\nhappensAtNarrative(authorityRemove(nurse, nurseAct2),4).\nhappensAtNarrative(newStaff('JW', specialist),0).\nhappensAtNarrative(oldStaff('JW', specialist),2).\nhappensAtNarrative(newStaff('GM', acceptor),2).\n\n%happensAtNarrative(certification('WM', 'HIV',true),2).\n%happensAtNarrative(labConnection('Auckland Central'),3).\n%happensAtNarrative(certification('WM', 'HIV',false),5).",
   "outputs": [
    {
     "name": "stdout",
     "text": "",
     "output_type": "stream"
    }
   ],
   "execution_count": 3
  },
  {
   "cell_type": "code",
   "metadata": {
    "tags": [],
    "deepnote_to_be_reexecuted": false,
    "source_hash": "177a11fc",
    "execution_start": 1638326982148,
    "execution_millis": 11,
    "cell_id": "00008-fe188a15-ef88-4d01-a6f7-9b8f74836a44",
    "deepnote_cell_type": "code"
   },
   "source": "% File: narrative.pl\nhappensAtNarrative(diagnosis(7,123,'HIV', pos,'JW'),1).\nhappensAtNarrative(diagnosis(7,123,'HIV', pos,'AH'),1).\n",
   "outputs": [
    {
     "name": "stdout",
     "text": "",
     "output_type": "stream"
    }
   ],
   "execution_count": 4
  },
  {
   "cell_type": "code",
   "metadata": {
    "tags": [],
    "deepnote_to_be_reexecuted": false,
    "source_hash": "6d3972d5",
    "execution_start": 1638326982165,
    "execution_millis": 13,
    "cell_id": "00009-a4d11ad0-e330-4c4f-bff7-acd7a127d089",
    "deepnote_cell_type": "code"
   },
   "source": "?- tick(0).\n?- holdsAt(F,0).\n?- happensAt(E,0).",
   "outputs": [
    {
     "name": "stdout",
     "text": "true.\nF = levelAuthority(nurse, testRequests) ;\nF = levelAuthority(doctor, testRequests) ;\nF = levelAuthority(doctor, diagnosis) ;\nF = levelAuthority(specialist, testRequests) ;\nF = levelAuthority(specialist, diagnosis) ;\nF = levelAuthority(specialist, brainDeath) ;\nF = individualAuthorised(testRequests, AH) ;\nF = individualAuthorised(testRequests, EH) ;\nF = individualAuthorised(testRequests, PS) ;\nF = individualAuthorised(diagnosis, PS) ;\nF = medStaff(AH, nurse) ;\nF = medStaff(EH, nurse) ;\nF = medStaff(PS, doctor) .\nE = newStaff(JW, specialist) .",
     "output_type": "stream"
    }
   ],
   "execution_count": 5
  },
  {
   "cell_type": "markdown",
   "source": "At time one, we know that the history for patient 123 has already been requested, and at this time, the history is granted.",
   "metadata": {
    "tags": [],
    "is_collapsed": false,
    "cell_id": "00010-f2f065cc-695e-416c-bbeb-ca3bb113951e",
    "deepnote_cell_type": "text-cell-p"
   }
  },
  {
   "cell_type": "code",
   "metadata": {
    "tags": [],
    "deepnote_to_be_reexecuted": false,
    "source_hash": "1bb38ad9",
    "execution_start": 1638326982229,
    "execution_millis": 3,
    "cell_id": "00011-69e01fbc-4905-48ce-b247-77847e63f029",
    "deepnote_cell_type": "code"
   },
   "source": "?- tick(1).\n?- holdsAt(F,1).\n?- happensAt(E,1).",
   "outputs": [
    {
     "name": "stdout",
     "text": "true.\nF = levelAuthority(nurse, testRequests) ;\nF = levelAuthority(doctor, testRequests) ;\nF = levelAuthority(doctor, diagnosis) ;\nF = levelAuthority(specialist, testRequests) ;\nF = levelAuthority(specialist, diagnosis) ;\nF = levelAuthority(specialist, brainDeath) ;\nF = individualAuthorised(testRequests, AH) ;\nF = individualAuthorised(testRequests, EH) ;\nF = individualAuthorised(testRequests, PS) ;\nF = individualAuthorised(diagnosis, PS) ;\nF = medStaff(AH, nurse) ;\nF = medStaff(EH, nurse) ;\nF = medStaff(PS, doctor) ;\nF = medStaff(JW, specialist) .\nE = authorityAdd(nurse, nurseAct1) ;\nE = authorityAdd(nurse, nurseAct2) ;\nE = diagnosis(7, 123, HIV, pos, JW) ;\nE = diagnosis(7, 123, HIV, pos, AH) .",
     "output_type": "stream"
    }
   ],
   "execution_count": 6
  },
  {
   "cell_type": "code",
   "source": "?- happensAt(authorityAdd(Level, Action),1), holdsAt(medStaff(Actor,Level),1).\n?- holdsAt(medStaff(Actor,Level),1).\n?- initiates(authorityAdd(A,B),C,1).",
   "metadata": {
    "tags": [],
    "cell_id": "00012-9287a4b7-3930-4a60-b9c2-81a0e127771a",
    "deepnote_to_be_reexecuted": false,
    "source_hash": "2368086e",
    "execution_start": 1638326982230,
    "execution_millis": 2,
    "deepnote_cell_type": "code"
   },
   "outputs": [
    {
     "name": "stdout",
     "text": "Level = nurse, Action = nurseAct1, Actor = AH ;\nLevel = nurse, Action = nurseAct1, Actor = EH ;\nLevel = nurse, Action = nurseAct2, Actor = AH ;\nLevel = nurse, Action = nurseAct2, Actor = EH .\nActor = AH, Level = nurse ;\nActor = EH, Level = nurse ;\nActor = PS, Level = doctor ;\nActor = JW, Level = specialist .\nA = _2960, B = _2962, C = levelAuthority(_2960, _2962) ;\nA = nurse, B = _2962, C = individualAuthorised(_2962, AH) ;\nA = nurse, B = _2962, C = individualAuthorised(_2962, EH) ;\nA = doctor, B = _2962, C = individualAuthorised(_2962, PS) ;\nA = specialist, B = _2962, C = individualAuthorised(_2962, JW) .",
     "output_type": "stream"
    }
   ],
   "execution_count": 7
  },
  {
   "cell_type": "markdown",
   "source": "At time 2, the earlier history request has been answered.",
   "metadata": {
    "tags": [],
    "is_collapsed": false,
    "cell_id": "00012-726388f8-7ec2-43dd-aa15-fcd1e8de45f0",
    "deepnote_cell_type": "text-cell-p"
   }
  },
  {
   "cell_type": "code",
   "metadata": {
    "tags": [],
    "deepnote_to_be_reexecuted": false,
    "source_hash": "4da4be1d",
    "execution_start": 1638326982230,
    "execution_millis": 44,
    "cell_id": "00013-82bdb1cc-b575-4077-955c-1f8574e0b087",
    "deepnote_cell_type": "code"
   },
   "source": "?- tick(2).\n?- holdsAt(individualAuthorised(X,Y),2).\n?- holdsAt(F,2).\n?- happensAt(O,2).\n?- happensAtNarrative(P,2).\n?- holdsAt(authority(nurse,X),2).\n?- holdsAt(individualAuthorised(Action,Actor),2).",
   "outputs": [
    {
     "name": "stdout",
     "text": "true.\nX = testRequests, Y = AH ;\nX = testRequests, Y = EH ;\nX = testRequests, Y = PS ;\nX = diagnosis, Y = PS ;\nX = nurseAct1, Y = AH ;\nX = nurseAct1, Y = EH ;\nX = nurseAct2, Y = AH ;\nX = nurseAct2, Y = EH .\nF = levelAuthority(nurse, testRequests) ;\nF = levelAuthority(doctor, testRequests) ;\nF = levelAuthority(doctor, diagnosis) ;\nF = levelAuthority(specialist, testRequests) ;\nF = levelAuthority(specialist, diagnosis) ;\nF = levelAuthority(specialist, brainDeath) ;\nF = levelAuthority(nurse, nurseAct1) ;\nF = levelAuthority(nurse, nurseAct2) ;\nF = individualAuthorised(testRequests, AH) ;\nF = individualAuthorised(testRequests, EH) ;\nF = individualAuthorised(testRequests, PS) ;\nF = individualAuthorised(diagnosis, PS) ;\nF = individualAuthorised(nurseAct1, AH) ;\nF = individualAuthorised(nurseAct1, EH) ;\nF = individualAuthorised(nurseAct2, AH) ;\nF = individualAuthorised(nurseAct2, EH) ;\nF = medStaff(AH, nurse) ;\nF = medStaff(EH, nurse) ;\nF = medStaff(PS, doctor) ;\nF = medStaff(JW, specialist) .\nO = promotion(EH, doctor) ;\nO = oldStaff(JW, specialist) ;\nO = newStaff(GM, acceptor) .\nP = promotion(EH, doctor) ;\nP = oldStaff(JW, specialist) ;\nP = newStaff(GM, acceptor) .\nfalse.\nAction = testRequests, Actor = AH ;\nAction = testRequests, Actor = EH ;\nAction = testRequests, Actor = PS ;\nAction = diagnosis, Actor = PS ;\nAction = nurseAct1, Actor = AH ;\nAction = nurseAct1, Actor = EH ;\nAction = nurseAct2, Actor = AH ;\nAction = nurseAct2, Actor = EH .",
     "output_type": "stream"
    }
   ],
   "execution_count": 8
  },
  {
   "cell_type": "markdown",
   "source": "The expectation of an answer has been fulfilled.",
   "metadata": {
    "tags": [],
    "is_collapsed": false,
    "cell_id": "00014-5758df51-e5db-49bc-a656-89ec65836570",
    "deepnote_cell_type": "text-cell-p"
   }
  },
  {
   "cell_type": "code",
   "metadata": {
    "tags": [],
    "deepnote_to_be_reexecuted": false,
    "source_hash": "92451ddb",
    "execution_start": 1638326982270,
    "execution_millis": 5,
    "cell_id": "00015-4c398e92-0c09-4dbe-aba3-f17359cb4c39",
    "deepnote_cell_type": "code"
   },
   "source": "?- tick(3).\n?- holdsAt(medStaff(ID,Level),3).\n?- holdsAt(authorised(Action,Actor),3).\n?- holdsAt(authority(Level, Action),3).\n?- holdsAt(X,3).\n?- happensAt(D,3).",
   "outputs": [
    {
     "name": "stdout",
     "text": "true.\nID = AH, Level = nurse ;\nID = PS, Level = doctor ;\nID = EH, Level = doctor ;\nID = GM, Level = acceptor .\nfalse.\nfalse.\nX = levelAuthority(nurse, testRequests) ;\nX = levelAuthority(doctor, testRequests) ;\nX = levelAuthority(doctor, diagnosis) ;\nX = levelAuthority(specialist, testRequests) ;\nX = levelAuthority(specialist, diagnosis) ;\nX = levelAuthority(specialist, brainDeath) ;\nX = levelAuthority(nurse, nurseAct1) ;\nX = levelAuthority(nurse, nurseAct2) ;\nX = individualAuthorised(testRequests, AH) ;\nX = individualAuthorised(testRequests, PS) ;\nX = individualAuthorised(diagnosis, PS) ;\nX = individualAuthorised(nurseAct1, AH) ;\nX = individualAuthorised(nurseAct2, AH) ;\nX = individualAuthorised(testRequests, EH) ;\nX = individualAuthorised(diagnosis, EH) ;\nX = medStaff(AH, nurse) ;\nX = medStaff(PS, doctor) ;\nX = medStaff(EH, doctor) ;\nX = medStaff(GM, acceptor) .\nD = authorityAdd(acceptor, donorDec) .",
     "output_type": "stream"
    }
   ],
   "execution_count": 9
  },
  {
   "cell_type": "code",
   "source": "",
   "metadata": {
    "tags": [],
    "cell_id": "00017-a15764d5-cc04-43da-bd28-ffc5278c5f38",
    "deepnote_to_be_reexecuted": false,
    "source_hash": "b623e53d",
    "execution_start": 1638326982276,
    "execution_millis": 5,
    "deepnote_cell_type": "code"
   },
   "outputs": [
    {
     "name": "stdout",
     "text": "",
     "output_type": "stream"
    }
   ],
   "execution_count": 10
  },
  {
   "cell_type": "code",
   "metadata": {
    "tags": [],
    "deepnote_to_be_reexecuted": false,
    "source_hash": "ec0bb11b",
    "execution_start": 1638326982327,
    "execution_millis": 2,
    "cell_id": "00016-8df996da-fa34-412d-a5d7-2cea2f3c44f8",
    "deepnote_cell_type": "code"
   },
   "source": "?- initialiseDEC.\n?- run(6).\n?- happensAt(B,4).\n?- holdsAt(authorised(Action,Actor),4).\n?- happensAt(D,5).\n?- holdsAt(levelAuthority(Level,Action),5).\n?- holdsAt(individualAuthorised(Action,Actor),5).\n?- holdsAt(medStaff(X,nurse),4).",
   "outputs": [
    {
     "name": "stdout",
     "text": "true.\ntrue.\nB = authorityRemove(nurse, nurseAct2) .\nfalse.\nfalse.\nLevel = nurse, Action = testRequests ;\nLevel = doctor, Action = testRequests ;\nLevel = doctor, Action = diagnosis ;\nLevel = specialist, Action = testRequests ;\nLevel = specialist, Action = diagnosis ;\nLevel = specialist, Action = brainDeath ;\nLevel = nurse, Action = nurseAct1 ;\nLevel = acceptor, Action = donorDec .\nAction = testRequests, Actor = AH ;\nAction = testRequests, Actor = PS ;\nAction = diagnosis, Actor = PS ;\nAction = nurseAct1, Actor = AH ;\nAction = testRequests, Actor = EH ;\nAction = diagnosis, Actor = EH ;\nAction = donorDec, Actor = GM .\nX = AH .",
     "output_type": "stream"
    }
   ],
   "execution_count": 11
  },
  {
   "cell_type": "markdown",
   "source": "<a style='text-decoration:none;line-height:16px;display:flex;color:#5B5B62;padding:10px;justify-content:end;' href='https://deepnote.com?utm_source=created-in-deepnote-cell&projectId=1527cc64-36a2-4b35-bd8b-8d493ca554fa' target=\"_blank\">\n<img alt='Created in deepnote.com' style='display:inline;max-height:16px;margin:0px;margin-right:7.5px;' src='data:image/svg+xml;base64,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' > </img>\nCreated in <span style='font-weight:600;margin-left:4px;'>Deepnote</span></a>",
   "metadata": {
    "tags": [],
    "created_in_deepnote_cell": true,
    "deepnote_cell_type": "markdown"
   }
  }
 ],
 "nbformat": 4,
 "nbformat_minor": 2,
 "metadata": {
  "orig_nbformat": 2,
  "deepnote": {
   "is_reactive": false
  },
  "deepnote_notebook_id": "7c844378-1505-48fc-80b5-aecba8417753",
  "deepnote_execution_queue": []
 }
}