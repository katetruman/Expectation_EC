{
 "cells": [
  {
   "cell_type": "markdown",
   "source": "# Authorisation",
   "metadata": {
    "tags": [],
    "is_collapsed": false,
    "cell_id": "00000-1197549b-65d1-40a9-be60-1eccb6bb7711",
    "deepnote_cell_type": "text-cell-h1"
   }
  },
  {
   "cell_type": "markdown",
   "source": "This notebook tests granting and retracting authorisations for different levels of medical actor, and assigning medical staff a permission level.",
   "metadata": {
    "tags": [],
    "is_collapsed": false,
    "cell_id": "00001-44c5ba72-7bf1-4453-81d6-ae3d84df95a6",
    "deepnote_cell_type": "text-cell-p"
   }
  },
  {
   "cell_type": "code",
   "metadata": {
    "tags": [],
    "deepnote_to_be_reexecuted": false,
    "source_hash": "51d74c0a",
    "execution_start": 1638320170731,
    "execution_millis": 102,
    "cell_id": "00002-4e2b3cb0-5e1c-4eef-8362-12360ce6681c",
    "deepnote_cell_type": "code"
   },
   "source": "% Set up required to reset environment\n?- cd('~/work'), ['dec'].\n?- initialiseDEC.\n?- retractall(happensAtNarrative(_,_)).",
   "outputs": [
    {
     "name": "stdout",
     "text": "true.\nfalse.\ntrue.",
     "output_type": "stream"
    }
   ],
   "execution_count": 1
  },
  {
   "cell_type": "markdown",
   "source": "We initially expect that a diagnosis will have been made by a medical staff member authorised to do so. ",
   "metadata": {
    "tags": [],
    "is_collapsed": false,
    "cell_id": "00005-0b7c4f58-539f-4dfe-bb8e-1ff16fafbbc1",
    "deepnote_cell_type": "text-cell-p"
   }
  },
  {
   "cell_type": "markdown",
   "source": "The hospital is aware of various labs, which can be certified to perform various tests. Labs can have existing certifications upon being linked to the hospital, or have certifications added or withdrawn.",
   "metadata": {
    "tags": [],
    "is_collapsed": false,
    "deepnote_cell_type": "text-cell-p"
   }
  },
  {
   "cell_type": "markdown",
   "source": "Staff members have a permission level i.e. nurse or doctor. Different levels are able to perform different actions. A level can have actions granted or revoked, and a staff member can have their permission level changed.",
   "metadata": {
    "tags": [],
    "is_collapsed": false,
    "deepnote_cell_type": "text-cell-p"
   }
  },
  {
   "cell_type": "code",
   "source": "% File: helperFunctions.pl\nlist_concat([],L,L).\nlist_concat([X1|L1],L2,[X1|L3]) :- list_concat(L1,L2,L3).",
   "metadata": {
    "tags": [],
    "cell_id": "00006-ef2834bd-6d94-4ca4-af0f-6c6553536ad9",
    "deepnote_to_be_reexecuted": false,
    "source_hash": "6566764c",
    "execution_start": 1638320170834,
    "execution_millis": 9,
    "deepnote_cell_type": "code"
   },
   "outputs": [
    {
     "name": "stdout",
     "text": "",
     "output_type": "stream"
    }
   ],
   "execution_count": 2
  },
  {
   "cell_type": "code",
   "metadata": {
    "tags": [],
    "deepnote_to_be_reexecuted": false,
    "source_hash": "5b8c76b0",
    "execution_start": 1638320170845,
    "execution_millis": 48,
    "cell_id": "00006-e06b53cc-aa22-4cd3-a0c8-0a18a2bc2c26",
    "deepnote_cell_type": "code"
   },
   "source": "% File: labInitiates.pl\n\ninitially(exp_rule(diagnosed(_,_,_,_,Actor), authorised(diagnosis,Actor))).\n\ninitially(certified(Lab,Test)):- initially(lab(_,Lab,L)), member(Test,L).\ninitiates(certification(Lab,Test,true), certified(Lab,Test),_).\nterminates(certification(Lab,Test,false), certified(Lab,Test),_).\ninitiates(labConnection(_,Lab,L), certified(Lab,Test),_):- member(Test,L).\ninitiates(labConnection(Name,Lab,L), lab(Name,Lab,L),_).\nterminates(labWithdrawal(Lab), lab(_,Lab,_),_).\n\ninitiates(newStaff(Name,Actor,Level), medStaff(Name,Actor,Level),_).\n\nterminates(promotion(Actor,NewLevel), medStaff(Name,Actor,OldLevel),T).\n\n\ninitially(authorised(Action,Actor)):- initially(authority(Level,L)), initially(medStaff(_,Actor,Level)), member(Action,L).\ninitiates(diagnosis(RID,PatID,Test,Result,Actor), diagnosed(RID,PatID,Test,Result,Actor),_).\ninitiates(newStaff(_,Actor,Level), authorised(Action,Actor),T):- holdsAt(authority(Level,L),T), member(Action,L).\ninitiates(authorityAdd(Level, LAdd), authority(Level,LNew),T):- holdsAt(authority(Level,LOld),T), list_concat(LOld,LAdd,LNew).\n\n\ninitiates(authorityAdd(Level,L), authorised(Action,Actor),T):- holdsAt(medStaff(_,Actor,Level),T), member(Action,L).\ninitiates(promotion(Actor,NewLevel), medStaff(Name,Actor,NewLevel),T):- holdsAt(medStaff(Name,Actor,_),T).\ninitiates(promotion(Actor, NewLevel), authorised(Action,Actor),T):- holdsAt(authority(NewLevel,L),T), member(Action,L).\n\nterminates(oldStaff(Actor,Level), authorised(Action,Actor),T):- holdsAt(authority(Level,L),T), member(Action,L).\nterminates(authorityRemove(Level,L), authorised(Action,Actor),T):- holdsAt(medStaff(_,Actor,Level),T), member(Action,L).\nterminates(promotion(Actor, NewLevel), authorised(Action,Actor),T):- holdsAt(authority(OldLevel,L1),T), member(Action,L1), holdsAt(authority(NewLevel,L2),T), \\+ member(Action,L2).",
   "outputs": [
    {
     "name": "stdout",
     "text": "",
     "output_type": "stream"
    }
   ],
   "execution_count": 3
  },
  {
   "cell_type": "code",
   "metadata": {
    "tags": [],
    "deepnote_to_be_reexecuted": false,
    "source_hash": "603e191d",
    "execution_start": 1638320170892,
    "execution_millis": 3,
    "cell_id": "00007-fa812df3-1141-4f90-bc32-63f49c956c84",
    "deepnote_cell_type": "code"
   },
   "source": "% File: agents.pl\ninitially(authority(nurse,[testRequests])).\ninitially(authority(doctor, [testRequests,diagnosis])).\ninitially(authority(specialist, [testRequests, diagnosis, brainDeath])).\ninitially(lab('Otago Blood','OB',[serology])).\ninitially(lab('Wellington Main', 'WM',[])).\ninitially(medStaff('Aria Hollens','AH',nurse)).\ninitially(medStaff('Enola Holmes', 'EH', nurse)).\ninitially(medStaff('Philip Schmidt', 'PS', doctor)).\nhappensAtNarrative(authorityAdd(acceptor, [donorDec]),3).\nhappensAtNarrative(authorityAdd(nurse, [nurseAct1, nurseAct2]),1).\nhappensAtNarrative(promotion('EH', doctor),2).\nhappensAtNarrative(authorityRemove(nurse, [nurseAct2]),4).\nhappensAtNarrative(newStaff('Jane Wald', 'JW', specialist),0).\nhappensAtNarrative(oldStaff('JW', specialist),2).\nhappensAtNarrative(newStaff('Gregory MacMillian', 'GM', acceptor),2).\nhappensAtNarrative(certification('WM', 'HIV',true),2).\nhappensAtNarrative(labConnection('Auckland Central', AC, ['Hep-C']),3).\nhappensAtNarrative(certification('WM', 'HIV',false),5).",
   "outputs": [
    {
     "name": "stdout",
     "text": "",
     "output_type": "stream"
    }
   ],
   "execution_count": 4
  },
  {
   "cell_type": "code",
   "metadata": {
    "tags": [],
    "deepnote_to_be_reexecuted": false,
    "source_hash": "177a11fc",
    "execution_start": 1638320170893,
    "execution_millis": 35,
    "cell_id": "00008-fe188a15-ef88-4d01-a6f7-9b8f74836a44",
    "deepnote_cell_type": "code"
   },
   "source": "% File: narrative.pl\nhappensAtNarrative(diagnosis(7,123,'HIV', pos,'JW'),1).\nhappensAtNarrative(diagnosis(7,123,'HIV', pos,'AH'),1).\n",
   "outputs": [
    {
     "name": "stdout",
     "text": "",
     "output_type": "stream"
    }
   ],
   "execution_count": 5
  },
  {
   "cell_type": "code",
   "source": "?- holdsAt(authority(doctor,L1),0), holdsAt(authority(OldLevel,L2),0), member(Action,L2), \\+ member(Action, L1).",
   "metadata": {
    "tags": [],
    "cell_id": "00009-2ec8dd61-2600-4c2f-9849-87bc9bb3c542",
    "deepnote_to_be_reexecuted": false,
    "source_hash": "b8a7f24f",
    "execution_start": 1638320170921,
    "execution_millis": 0,
    "deepnote_cell_type": "code"
   },
   "outputs": [
    {
     "name": "stdout",
     "text": "L1 = [ testRequests, diagnosis ], OldLevel = specialist, L2 = [ testRequests, diagnosis, brainDeath ], Action = brainDeath .",
     "output_type": "stream"
    }
   ],
   "execution_count": 6
  },
  {
   "cell_type": "code",
   "metadata": {
    "tags": [],
    "deepnote_to_be_reexecuted": false,
    "source_hash": "6d3972d5",
    "execution_start": 1638320170922,
    "execution_millis": 132,
    "cell_id": "00009-a4d11ad0-e330-4c4f-bff7-acd7a127d089",
    "deepnote_cell_type": "code"
   },
   "source": "?- tick(0).\n?- holdsAt(F,0).\n?- happensAt(E,0).",
   "outputs": [
    {
     "name": "stdout",
     "text": "true.\nF = lab(Otago Blood, OB, [Atom('667525')]) ;\nF = lab(Wellington Main, WM, []) ;\nF = certified(OB, serology) ;\nF = authorised(testRequests, AH) ;\nF = authorised(testRequests, EH) ;\nF = authorised(testRequests, PS) ;\nF = authorised(diagnosis, PS) ;\nF = authority(nurse, [Atom('666757')]) ;\nF = authority(doctor, [Atom('666757'), Atom('661893')]) ;\nF = authority(specialist, [Atom('666757'), Atom('661893'), Atom('667141')]) ;\nF = medStaff(Aria Hollens, AH, nurse) ;\nF = medStaff(Enola Holmes, EH, nurse) ;\nF = medStaff(Philip Schmidt, PS, doctor) ;\nF = exp_rule(diagnosed(_3034, _3036, _3038, _3040, _3042), authorised(diagnosis, _3042)) .\nE = newStaff(Jane Wald, JW, specialist) .",
     "output_type": "stream"
    }
   ],
   "execution_count": 7
  },
  {
   "cell_type": "markdown",
   "source": "At time one, we know that the history for patient 123 has already been requested, and at this time, the history is granted.",
   "metadata": {
    "tags": [],
    "is_collapsed": false,
    "cell_id": "00010-f2f065cc-695e-416c-bbeb-ca3bb113951e",
    "deepnote_cell_type": "text-cell-p"
   }
  },
  {
   "cell_type": "code",
   "metadata": {
    "tags": [],
    "deepnote_to_be_reexecuted": false,
    "source_hash": "1bb38ad9",
    "execution_start": 1638320170923,
    "execution_millis": 242,
    "cell_id": "00011-69e01fbc-4905-48ce-b247-77847e63f029",
    "deepnote_cell_type": "code"
   },
   "source": "?- tick(1).\n?- holdsAt(F,1).\n?- happensAt(E,1).",
   "outputs": [
    {
     "name": "stdout",
     "text": "true.\nF = lab(Otago Blood, OB, [Atom('667525')]) ;\nF = lab(Wellington Main, WM, []) ;\nF = certified(OB, serology) ;\nF = authorised(testRequests, AH) ;\nF = authorised(testRequests, EH) ;\nF = authorised(testRequests, PS) ;\nF = authorised(diagnosis, PS) ;\nF = authorised(testRequests, JW) ;\nF = authorised(diagnosis, JW) ;\nF = authorised(brainDeath, JW) ;\nF = authority(nurse, [Atom('666757')]) ;\nF = authority(doctor, [Atom('666757'), Atom('661893')]) ;\nF = authority(specialist, [Atom('666757'), Atom('661893'), Atom('667141')]) ;\nF = medStaff(Aria Hollens, AH, nurse) ;\nF = medStaff(Enola Holmes, EH, nurse) ;\nF = medStaff(Philip Schmidt, PS, doctor) ;\nF = medStaff(Jane Wald, JW, specialist) ;\nF = exp_rule(diagnosed(_3014, _3016, _3018, _3020, _3022), authorised(diagnosis, _3022)) .\nE = authorityAdd(nurse, [Atom('668933'), Atom('669061')]) ;\nE = diagnosis(7, 123, HIV, pos, JW) ;\nE = diagnosis(7, 123, HIV, pos, AH) .",
     "output_type": "stream"
    }
   ],
   "execution_count": 8
  },
  {
   "cell_type": "markdown",
   "source": "At time 2, the earlier history request has been answered.",
   "metadata": {
    "tags": [],
    "is_collapsed": false,
    "cell_id": "00012-726388f8-7ec2-43dd-aa15-fcd1e8de45f0",
    "deepnote_cell_type": "text-cell-p"
   }
  },
  {
   "cell_type": "code",
   "metadata": {
    "tags": [],
    "deepnote_to_be_reexecuted": false,
    "source_hash": "22950438",
    "execution_start": 1638320170938,
    "execution_millis": 230,
    "cell_id": "00013-82bdb1cc-b575-4077-955c-1f8574e0b087",
    "deepnote_cell_type": "code"
   },
   "source": "?- tick(2).\n?- holdsAt(F,2).\n?- happensAt(O,2).\n?- happensAtNarrative(P,2).\n?- holdsAt(authority(nurse,X),2).",
   "outputs": [
    {
     "name": "stdout",
     "text": "true.\nF = lab(Otago Blood, OB, [Atom('667525')]) ;\nF = lab(Wellington Main, WM, []) ;\nF = certified(OB, serology) ;\nF = authorised(testRequests, AH) ;\nF = authorised(testRequests, EH) ;\nF = authorised(testRequests, PS) ;\nF = authorised(diagnosis, PS) ;\nF = authorised(testRequests, JW) ;\nF = authorised(diagnosis, JW) ;\nF = authorised(brainDeath, JW) ;\nF = authorised(nurseAct1, AH) ;\nF = authorised(nurseAct2, AH) ;\nF = authorised(nurseAct1, EH) ;\nF = authorised(nurseAct2, EH) ;\nF = diagnosed(7, 123, HIV, pos, JW) ;\nF = diagnosed(7, 123, HIV, pos, AH) ;\nF = authority(nurse, [Atom('666757')]) ;\nF = authority(doctor, [Atom('666757'), Atom('661893')]) ;\nF = authority(specialist, [Atom('666757'), Atom('661893'), Atom('667141')]) ;\nF = authority(nurse, [Atom('666757'), Atom('668933'), Atom('669061')]) .\nO = promotion(EH, doctor) ;\nO = oldStaff(JW, specialist) ;\nO = newStaff(Gregory MacMillian, GM, acceptor) ;\nO = certification(WM, HIV, true) ;\nO = fulf(diagnosed(7, 123, HIV, pos, JW), authorised(diagnosis, JW), 2, authorised(diagnosis, JW)) ;\nO = viol(diagnosed(7, 123, HIV, pos, AH), authorised(diagnosis, AH), 2, authorised(diagnosis, AH)) .\nP = promotion(EH, doctor) ;\nP = oldStaff(JW, specialist) ;\nP = newStaff(Gregory MacMillian, GM, acceptor) ;\nP = certification(WM, HIV, true) .\nX = [ testRequests ] ;\nX = [ testRequests, nurseAct1, nurseAct2 ] .",
     "output_type": "stream"
    }
   ],
   "execution_count": 9
  },
  {
   "cell_type": "markdown",
   "source": "The expectation of an answer has been fulfilled.",
   "metadata": {
    "tags": [],
    "is_collapsed": false,
    "cell_id": "00014-5758df51-e5db-49bc-a656-89ec65836570",
    "deepnote_cell_type": "text-cell-p"
   }
  },
  {
   "cell_type": "code",
   "source": "?- holdsAt(authority(OldLevel,L1),2), member(Action,L1), holdsAt(authority(NewLevel,L2),2), \\+ member(Action,L2).",
   "metadata": {
    "tags": [],
    "cell_id": "00016-6c2d53a1-c788-47c5-b93f-c849c5197d27",
    "deepnote_to_be_reexecuted": false,
    "source_hash": "1bb8875a",
    "execution_start": 1638320170973,
    "execution_millis": 196,
    "deepnote_cell_type": "code"
   },
   "outputs": [
    {
     "name": "stdout",
     "text": "OldLevel = doctor, L1 = [ testRequests, diagnosis ], Action = diagnosis, NewLevel = nurse, L2 = [ testRequests ] ;\nOldLevel = doctor, L1 = [ testRequests, diagnosis ], Action = diagnosis, NewLevel = nurse, L2 = [ testRequests, nurseAct1, nurseAct2 ] ;\nOldLevel = specialist, L1 = [ testRequests, diagnosis, brainDeath ], Action = diagnosis, NewLevel = nurse, L2 = [ testRequests ] ;\nOldLevel = specialist, L1 = [ testRequests, diagnosis, brainDeath ], Action = diagnosis, NewLevel = nurse, L2 = [ testRequests, nurseAct1, nurseAct2 ] ;\nOldLevel = specialist, L1 = [ testRequests, diagnosis, brainDeath ], Action = brainDeath, NewLevel = nurse, L2 = [ testRequests ] ;\nOldLevel = specialist, L1 = [ testRequests, diagnosis, brainDeath ], Action = brainDeath, NewLevel = doctor, L2 = [ testRequests, diagnosis ] ;\nOldLevel = specialist, L1 = [ testRequests, diagnosis, brainDeath ], Action = brainDeath, NewLevel = nurse, L2 = [ testRequests, nurseAct1, nurseAct2 ] ;\nOldLevel = nurse, L1 = [ testRequests, nurseAct1, nurseAct2 ], Action = nurseAct1, NewLevel = nurse, L2 = [ testRequests ] ;\nOldLevel = nurse, L1 = [ testRequests, nurseAct1, nurseAct2 ], Action = nurseAct1, NewLevel = doctor, L2 = [ testRequests, diagnosis ] ;\nOldLevel = nurse, L1 = [ testRequests, nurseAct1, nurseAct2 ], Action = nurseAct1, NewLevel = specialist, L2 = [ testRequests, diagnosis, brainDeath ] ;\nOldLevel = nurse, L1 = [ testRequests, nurseAct1, nurseAct2 ], Action = nurseAct2, NewLevel = nurse, L2 = [ testRequests ] ;\nOldLevel = nurse, L1 = [ testRequests, nurseAct1, nurseAct2 ], Action = nurseAct2, NewLevel = doctor, L2 = [ testRequests, diagnosis ] ;\nOldLevel = nurse, L1 = [ testRequests, nurseAct1, nurseAct2 ], Action = nurseAct2, NewLevel = specialist, L2 = [ testRequests, diagnosis, brainDeath ] .",
     "output_type": "stream"
    }
   ],
   "execution_count": 10
  },
  {
   "cell_type": "code",
   "metadata": {
    "tags": [],
    "deepnote_to_be_reexecuted": false,
    "source_hash": "3168c0a3",
    "execution_start": 1638320170974,
    "execution_millis": 195,
    "cell_id": "00015-4c398e92-0c09-4dbe-aba3-f17359cb4c39",
    "deepnote_cell_type": "code"
   },
   "source": "?- tick(3).\n?- holdsAt(medStaff(Name,ID,Level),3).\n?- holdsAt(authorised(Action,Actor),3).\n?- holdsAt(authority(Level, Action),3).\n?- happensAt(D,3).",
   "outputs": [
    {
     "name": "stdout",
     "text": "true.\nName = Aria Hollens, ID = AH, Level = nurse ;\nName = Philip Schmidt, ID = PS, Level = doctor ;\nName = Jane Wald, ID = JW, Level = specialist ;\nName = Enola Holmes, ID = EH, Level = doctor ;\nName = Gregory MacMillian, ID = GM, Level = acceptor .\nAction = testRequests, Actor = AH ;\nAction = testRequests, Actor = EH ;\nAction = testRequests, Actor = PS ;\nAction = diagnosis, Actor = PS ;\nAction = nurseAct1, Actor = AH ;\nAction = nurseAct2, Actor = AH ;\nAction = testRequests, Actor = EH ;\nAction = diagnosis, Actor = EH .\nLevel = nurse, Action = [ testRequests ] ;\nLevel = doctor, Action = [ testRequests, diagnosis ] ;\nLevel = specialist, Action = [ testRequests, diagnosis, brainDeath ] ;\nLevel = nurse, Action = [ testRequests, nurseAct1, nurseAct2 ] .\nD = authorityAdd(acceptor, [Atom('668805')]) ;\nD = labConnection(Auckland Central, _2976, [Atom('669957')]) .",
     "output_type": "stream"
    }
   ],
   "execution_count": 11
  },
  {
   "cell_type": "code",
   "source": "",
   "metadata": {
    "tags": [],
    "cell_id": "00017-a15764d5-cc04-43da-bd28-ffc5278c5f38",
    "deepnote_to_be_reexecuted": false,
    "source_hash": "b623e53d",
    "execution_start": 1638320170975,
    "execution_millis": 194,
    "deepnote_cell_type": "code"
   },
   "outputs": [
    {
     "name": "stdout",
     "text": "",
     "output_type": "stream"
    }
   ],
   "execution_count": 12
  },
  {
   "cell_type": "code",
   "metadata": {
    "tags": [],
    "deepnote_to_be_reexecuted": false,
    "source_hash": "e5cb6c7",
    "execution_start": 1638320170983,
    "execution_millis": 187,
    "cell_id": "00016-8df996da-fa34-412d-a5d7-2cea2f3c44f8",
    "deepnote_cell_type": "code"
   },
   "source": "?- initialiseDEC.\n?- run(6).\n?- happensAt(B,4).\n?- holdsAt(authorised(Action,Actor),4).\n?- happensAt(D,5).\n?- holdsAt(E,6).",
   "outputs": [
    {
     "name": "stdout",
     "text": "true.\ntrue.\nB = authorityRemove(nurse, [Atom('669061')]) ;\nB = viol(diagnosed(7, 123, HIV, pos, AH), authorised(diagnosis, AH), 4, authorised(diagnosis, AH)) ;\nB = viol(diagnosed(7, 123, HIV, pos, JW), authorised(diagnosis, JW), 4, authorised(diagnosis, JW)) .\nAction = testRequests, Actor = AH ;\nAction = testRequests, Actor = EH ;\nAction = testRequests, Actor = PS ;\nAction = diagnosis, Actor = PS ;\nAction = nurseAct1, Actor = AH ;\nAction = nurseAct2, Actor = AH ;\nAction = testRequests, Actor = EH ;\nAction = diagnosis, Actor = EH ;\nAction = donorDec, Actor = GM .\nD = certification(WM, HIV, false) .\nE = lab(Otago Blood, OB, [Atom('667525')]) ;\nE = lab(Wellington Main, WM, []) ;\nE = lab(Auckland Central, _3030, [Atom('669957')]) ;\nE = certified(OB, serology) ;\nE = certified(_3028, Hep-C) ;\nE = authorised(testRequests, AH) ;\nE = authorised(testRequests, EH) ;\nE = authorised(testRequests, PS) ;\nE = authorised(diagnosis, PS) ;\nE = authorised(nurseAct1, AH) ;\nE = authorised(testRequests, EH) ;\nE = authorised(diagnosis, EH) ;\nE = authorised(donorDec, GM) ;\nE = diagnosed(7, 123, HIV, pos, JW) ;\nE = diagnosed(7, 123, HIV, pos, AH) ;\nE = authority(nurse, [Atom('666757')]) ;\nE = authority(doctor, [Atom('666757'), Atom('661893')]) ;\nE = authority(specialist, [Atom('666757'), Atom('661893'), Atom('667141')]) ;\nE = authority(nurse, [Atom('666757'), Atom('668933'), Atom('669061')]) ;\nE = medStaff(Aria Hollens, AH, nurse) .",
     "output_type": "stream"
    }
   ],
   "execution_count": 13
  },
  {
   "cell_type": "markdown",
   "source": "<a style='text-decoration:none;line-height:16px;display:flex;color:#5B5B62;padding:10px;justify-content:end;' href='https://deepnote.com?utm_source=created-in-deepnote-cell&projectId=1527cc64-36a2-4b35-bd8b-8d493ca554fa' target=\"_blank\">\n<img alt='Created in deepnote.com' style='display:inline;max-height:16px;margin:0px;margin-right:7.5px;' src='data:image/svg+xml;base64,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' > </img>\nCreated in <span style='font-weight:600;margin-left:4px;'>Deepnote</span></a>",
   "metadata": {
    "tags": [],
    "created_in_deepnote_cell": true,
    "deepnote_cell_type": "markdown"
   }
  }
 ],
 "nbformat": 4,
 "nbformat_minor": 2,
 "metadata": {
  "orig_nbformat": 2,
  "deepnote": {
   "is_reactive": false
  },
  "deepnote_notebook_id": "7c844378-1505-48fc-80b5-aecba8417753",
  "deepnote_execution_queue": []
 }
}