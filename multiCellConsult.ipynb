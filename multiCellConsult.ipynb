{
 "cells": [
  {
   "cell_type": "code",
   "metadata": {
    "tags": [],
    "cell_id": "00000-53e0ae96-b980-4c37-8934-d943d0ad65f0",
    "deepnote_to_be_reexecuted": false,
    "source_hash": "51d74c0a",
    "execution_start": 1638241848764,
    "execution_millis": 161,
    "deepnote_cell_type": "code"
   },
   "source": "% Set up required to reset environment\n?- cd('~/work'), ['dec'].\n?- initialiseDEC.\n?- retractall(happensAtNarrative(_,_)).",
   "execution_count": null,
   "outputs": [
    {
     "name": "stdout",
     "text": "true.\nfalse.\ntrue.",
     "output_type": "stream"
    }
   ]
  },
  {
   "cell_type": "markdown",
   "source": "The following declarative blocks are split up in order to test out the functionality for multiple consult files.",
   "metadata": {
    "tags": [],
    "is_collapsed": false,
    "cell_id": "00001-d30f4c1c-ca7d-4c76-b9ef-391eadb5e39d",
    "deepnote_cell_type": "text-cell-p"
   }
  },
  {
   "cell_type": "code",
   "metadata": {
    "tags": [],
    "cell_id": "00002-c2bed434-277d-404d-ad15-21ad3dc98453",
    "deepnote_to_be_reexecuted": false,
    "source_hash": "18ab7d98",
    "allow_embed": false,
    "execution_start": 1638241848960,
    "execution_millis": 9,
    "deepnote_cell_type": "code"
   },
   "source": "% History requests are not yet fulfilled by default. History grants answer history requests\ninitiates(hist_request(RID,Patient,Source), hist_requested(RID,Patient,Source)='NA', _).\ninitiates(hist_grant(RID,Patient,Source), hist_granted(RID,Patient,Source), _).\ninitiates(hist_grant(RID,Patient, Source), hist_requested(RID2,Patient,Source)='ANS',T):- holdsAt(hist_requested(RID2,Patient,Source)='NA',T).\n",
   "execution_count": null,
   "outputs": [
    {
     "name": "stdout",
     "text": "",
     "output_type": "stream"
    }
   ]
  },
  {
   "cell_type": "code",
   "metadata": {
    "tags": [],
    "cell_id": "00001-b894ba8a-938a-4c30-a851-1d1c5fd371be",
    "deepnote_to_be_reexecuted": false,
    "source_hash": "755097cc",
    "execution_start": 1638241848962,
    "execution_millis": 7,
    "deepnote_cell_type": "code"
   },
   "source": "\n% File: happens.pl\n% A patient is admitted to hospital, their history is requested and then granted\nhappensAtNarrative(admission(1,123,'Dunedin'),0).\nhappensAtNarrative(hist_request(2,123,'Wellington'),0).\nhappensAtNarrative(hist_grant(3,123,'Wellington'),1).",
   "execution_count": null,
   "outputs": [
    {
     "name": "stdout",
     "text": "",
     "output_type": "stream"
    }
   ]
  },
  {
   "cell_type": "markdown",
   "source": "We expect that history requests will eventually be answered",
   "metadata": {
    "tags": [],
    "is_collapsed": false,
    "cell_id": "00004-5d88f007-936e-4972-a87f-e0ee1e0fc0a9",
    "deepnote_cell_type": "text-cell-p"
   }
  },
  {
   "cell_type": "code",
   "metadata": {
    "tags": [],
    "cell_id": "00002-abf1e566-7f59-4be4-8894-f611362b38d7",
    "deepnote_to_be_reexecuted": false,
    "source_hash": "c8f58b30",
    "execution_start": 1638241848962,
    "execution_millis": 8,
    "deepnote_cell_type": "code"
   },
   "source": "% file: initially.pl\ninitially(exp_rule(hist_requested(RID,Patient,Source)='NA', eventually(hist_requested(RID,Patient,Source)='ANS'))).\n",
   "execution_count": null,
   "outputs": [
    {
     "name": "stdout",
     "text": "",
     "output_type": "stream"
    }
   ]
  },
  {
   "cell_type": "markdown",
   "source": "At time zero, an admission and history request has taken place, and we expect that any history requests will eventually be answered ",
   "metadata": {
    "tags": [],
    "is_collapsed": false,
    "cell_id": "00005-1780c5ef-56ea-48cf-8545-2dda65659a45",
    "deepnote_cell_type": "text-cell-p"
   }
  },
  {
   "cell_type": "code",
   "metadata": {
    "tags": [],
    "cell_id": "00002-f4a0c48c-bc87-4f4b-a683-182d9aa4c02b",
    "deepnote_to_be_reexecuted": false,
    "source_hash": "6d3972d5",
    "execution_start": 1638241849001,
    "execution_millis": 4,
    "deepnote_cell_type": "code"
   },
   "source": "?- tick(0).\n?- holdsAt(F,0).\n?- happensAt(E,0).",
   "execution_count": null,
   "outputs": [
    {
     "name": "stdout",
     "text": "true.\nF = exp_rule(=(hist_requested(_3040, _3042, _3044), NA), eventually(=(hist_requested(_3040, _3042, _3044), ANS))) .\nE = admission(1, 123, Dunedin) ;\nE = hist_request(2, 123, Wellington) .",
     "output_type": "stream"
    }
   ]
  },
  {
   "cell_type": "markdown",
   "source": "At time one, we know that the history for patient 123 has already been requested, and at this time, the history is granted.",
   "metadata": {
    "tags": [],
    "is_collapsed": false,
    "cell_id": "00008-420673d6-2afc-428b-a6ac-caf42ebdee50",
    "deepnote_cell_type": "text-cell-p"
   }
  },
  {
   "cell_type": "code",
   "metadata": {
    "tags": [],
    "cell_id": "00003-84a9548d-bac8-4432-bce4-915b82daff83",
    "deepnote_to_be_reexecuted": false,
    "source_hash": "1bb38ad9",
    "execution_start": 1638241849002,
    "execution_millis": 0,
    "deepnote_cell_type": "code"
   },
   "source": "?- tick(1).\n?- holdsAt(F,1).\n?- happensAt(E,1).",
   "execution_count": null,
   "outputs": [
    {
     "name": "stdout",
     "text": "true.\nF = {'hist_requested(2, 123, Wellington)': 'NA'} ;\nF = exp_rule(=(hist_requested(_3020, _3022, _3024), NA), eventually(=(hist_requested(_3020, _3022, _3024), ANS))) ;\nF = exp(eventually(=(hist_requested(2, 123, Wellington), ANS))) ;\nF = exp(=(hist_requested(2, 123, Wellington), NA), eventually(=(hist_requested(2, 123, Wellington), ANS)), 1, eventually(=(hist_requested(2, 123, Wellington), ANS))) .\nE = hist_grant(3, 123, Wellington) .",
     "output_type": "stream"
    }
   ]
  },
  {
   "cell_type": "markdown",
   "source": "At time 2, the earlier history request has been answered.",
   "metadata": {
    "tags": [],
    "is_collapsed": false,
    "cell_id": "00010-077eed96-6af3-494f-b975-8f80f0e1a080",
    "deepnote_cell_type": "text-cell-p"
   }
  },
  {
   "cell_type": "code",
   "metadata": {
    "tags": [],
    "cell_id": "00005-6a729485-63d3-4616-b8f8-954d54632e53",
    "deepnote_to_be_reexecuted": false,
    "source_hash": "d4c3829e",
    "execution_start": 1638241849003,
    "execution_millis": 2,
    "deepnote_cell_type": "code"
   },
   "source": "?- tick(2).\n?- holdsAt(F,2).",
   "execution_count": null,
   "outputs": [
    {
     "name": "stdout",
     "text": "true.\nF = {'hist_requested(2, 123, Wellington)': 'ANS'} ;\nF = exp_rule(=(hist_requested(_3020, _3022, _3024), NA), eventually(=(hist_requested(_3020, _3022, _3024), ANS))) ;\nF = hist_granted(3, 123, Wellington) ;\nF = exp(eventually(=(hist_requested(2, 123, Wellington), ANS))) ;\nF = exp(=(hist_requested(2, 123, Wellington), NA), eventually(=(hist_requested(2, 123, Wellington), ANS)), 1, eventually(=(hist_requested(2, 123, Wellington), ANS))) .",
     "output_type": "stream"
    }
   ]
  },
  {
   "cell_type": "markdown",
   "source": "The expectation of an answer has been fulfilled.",
   "metadata": {
    "tags": [],
    "is_collapsed": false,
    "cell_id": "00012-1dcd0064-7fe2-4df1-bf41-a35518dda159",
    "deepnote_cell_type": "text-cell-p"
   }
  },
  {
   "cell_type": "code",
   "metadata": {
    "tags": [],
    "cell_id": "00006-e4f607f2-0e54-4830-8274-1ded36fb1307",
    "deepnote_to_be_reexecuted": false,
    "source_hash": "daa712a3",
    "execution_start": 1638241849006,
    "execution_millis": 5,
    "deepnote_cell_type": "code"
   },
   "source": "?- holdsAtCached(exp(C,E,TriggerT,ResidualExp), 2), eval(ResidualExp,2,Z).\n?- happensAtInferred(A,2).\n?- holdsAtCached(exp(C,E,TriggerT,ResidualExp), 2).\n?- happensAt(fulf(_, _, _, eventually(hist_granted(RID,Patient, Source))),2).\n?- holdsAt(R,2).\n?- happensAt(O,2).",
   "execution_count": null,
   "outputs": [
    {
     "name": "stdout",
     "text": "C = {'hist_requested(2, 123, Wellington)': 'NA'}, E = eventually(=(hist_requested(2, 123, Wellington), ANS)), TriggerT = 1, ResidualExp = eventually(=(hist_requested(2, 123, Wellington), ANS)), Z = true .\nA = fulf(=(hist_requested(2, 123, Wellington), NA), eventually(=(hist_requested(2, 123, Wellington), ANS)), 1, eventually(=(hist_requested(2, 123, Wellington), ANS))) .\nC = {'hist_requested(2, 123, Wellington)': 'NA'}, E = eventually(=(hist_requested(2, 123, Wellington), ANS)), TriggerT = 1, ResidualExp = eventually(=(hist_requested(2, 123, Wellington), ANS)) .\nfalse.\nR = {'hist_requested(2, 123, Wellington)': 'ANS'} ;\nR = exp_rule(=(hist_requested(_3020, _3022, _3024), NA), eventually(=(hist_requested(_3020, _3022, _3024), ANS))) ;\nR = hist_granted(3, 123, Wellington) ;\nR = exp(eventually(=(hist_requested(2, 123, Wellington), ANS))) ;\nR = exp(=(hist_requested(2, 123, Wellington), NA), eventually(=(hist_requested(2, 123, Wellington), ANS)), 1, eventually(=(hist_requested(2, 123, Wellington), ANS))) .\nO = fulf(=(hist_requested(2, 123, Wellington), NA), eventually(=(hist_requested(2, 123, Wellington), ANS)), 1, eventually(=(hist_requested(2, 123, Wellington), ANS))) .",
     "output_type": "stream"
    }
   ]
  },
  {
   "cell_type": "code",
   "metadata": {
    "tags": [],
    "cell_id": "00009-04b72bed-11d0-4dfe-a74a-02f32229a2b4",
    "deepnote_to_be_reexecuted": false,
    "source_hash": "c770e691",
    "execution_start": 1638241849012,
    "execution_millis": 4,
    "deepnote_cell_type": "code"
   },
   "source": "?- tick(3).\n?- holdsAt(C,3).\n?- happensAt(D,3).",
   "execution_count": null,
   "outputs": [
    {
     "name": "stdout",
     "text": "true.\nC = {'hist_requested(2, 123, Wellington)': 'ANS'} ;\nC = exp_rule(=(hist_requested(_3020, _3022, _3024), NA), eventually(=(hist_requested(_3020, _3022, _3024), ANS))) ;\nC = hist_granted(3, 123, Wellington) .\nfalse.",
     "output_type": "stream"
    }
   ]
  },
  {
   "cell_type": "markdown",
   "source": "<a style='text-decoration:none;line-height:16px;display:flex;color:#5B5B62;padding:10px;justify-content:end;' href='https://deepnote.com?utm_source=created-in-deepnote-cell&projectId=1527cc64-36a2-4b35-bd8b-8d493ca554fa' target=\"_blank\">\n<img alt='Created in deepnote.com' style='display:inline;max-height:16px;margin:0px;margin-right:7.5px;' src='data:image/svg+xml;base64,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' > </img>\nCreated in <span style='font-weight:600;margin-left:4px;'>Deepnote</span></a>",
   "metadata": {
    "tags": [],
    "created_in_deepnote_cell": true,
    "deepnote_cell_type": "markdown"
   }
  }
 ],
 "nbformat": 4,
 "nbformat_minor": 2,
 "metadata": {
  "orig_nbformat": 2,
  "deepnote": {
   "is_reactive": false
  },
  "deepnote_notebook_id": "5e78466f-aa59-4dba-a772-ab8729f3d355",
  "deepnote_execution_queue": []
 }
}