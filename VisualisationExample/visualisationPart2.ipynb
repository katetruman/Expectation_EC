{
 "cells": [
  {
   "cell_type": "markdown",
   "source": "## Visualisation example Part 2",
   "metadata": {
    "tags": [],
    "is_collapsed": false,
    "cell_id": "00000-398a85ed-9530-4c47-8922-64fffd24c789",
    "deepnote_cell_type": "text-cell-h2"
   }
  },
  {
   "cell_type": "markdown",
   "source": "This notebook exhibits the correct execution of the final Python cell from Part 1, which produces a GIF",
   "metadata": {
    "tags": [],
    "is_collapsed": false,
    "cell_id": "00002-c86650a5-63e5-4252-8a24-c12ba25eb218",
    "deepnote_cell_type": "text-cell-p"
   }
  },
  {
   "cell_type": "code",
   "metadata": {
    "tags": [],
    "deepnote_to_be_reexecuted": false,
    "source_hash": "ae0a7a8",
    "execution_start": 1639089519756,
    "execution_millis": 10963,
    "cell_id": "00007-0d378dc6-9e51-4881-b95c-a7a58a0cf9e8",
    "deepnote_output_heights": [
     343.3999938964844
    ],
    "output_cleared": false,
    "deepnote_cell_type": "code"
   },
   "source": "import os\nos.system('pip install moviepy')\nimport glob\nimport moviepy.editor as mpy\ninput_png_list = glob.glob(\"Timeline/*.png\")\ninput_png_list.sort()\nclips = [mpy.ImageClip(i).set_duration(2) for i in input_png_list]\nfor c in clips:\n    print(c)\nconcat_clip = mpy.concatenate_videoclips(clips, method=\"compose\", bg_color=[255,255,255])\nconcat_clip.write_gif(\"Process.gif\", fps=2)",
   "outputs": [
    {
     "name": "stdout",
     "text": "<moviepy.video.VideoClip.ImageClip object at 0x7fa0cfd33490>\n<moviepy.video.VideoClip.ImageClip object at 0x7fa0c5dcac50>\n<moviepy.video.VideoClip.ImageClip object at 0x7fa0c5a3b450>\n<moviepy.video.VideoClip.ImageClip object at 0x7fa0c5ce9810>\n<moviepy.video.VideoClip.ImageClip object at 0x7fa0c5a3b350>\n<moviepy.video.VideoClip.ImageClip object at 0x7fa0c5e53c90>\n<moviepy.video.VideoClip.ImageClip object at 0x7fa0c59bc690>\n<moviepy.video.VideoClip.ImageClip object at 0x7fa0c59bc990>\n<moviepy.video.VideoClip.ImageClip object at 0x7fa0c59bcc10>\n<moviepy.video.VideoClip.ImageClip object at 0x7fa0c59bc8d0>\n<moviepy.video.VideoClip.ImageClip object at 0x7fa0c59bce50>\n<moviepy.video.VideoClip.ImageClip object at 0x7fa0c59bced0>\n<moviepy.video.VideoClip.ImageClip object at 0x7fa0c59bcf50>\nMoviePy - Building file Process.gif with imageio.\n",
     "output_type": "stream"
    }
   ],
   "execution_count": 1
  },
  {
   "cell_type": "markdown",
   "source": "Resulting GIF in Markdown cell:\n![Alt Text](Process.gif)\n",
   "metadata": {
    "tags": [],
    "cell_id": "00007-941b48f8-40ae-4238-9bd3-f6a55bc60cad",
    "deepnote_cell_type": "markdown"
   }
  },
  {
   "cell_type": "markdown",
   "source": "<a style='text-decoration:none;line-height:16px;display:flex;color:#5B5B62;padding:10px;justify-content:end;' href='https://deepnote.com?utm_source=created-in-deepnote-cell&projectId=1527cc64-36a2-4b35-bd8b-8d493ca554fa' target=\"_blank\">\n<img alt='Created in deepnote.com' style='display:inline;max-height:16px;margin:0px;margin-right:7.5px;' src='data:image/svg+xml;base64,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' > </img>\nCreated in <span style='font-weight:600;margin-left:4px;'>Deepnote</span></a>",
   "metadata": {
    "tags": [],
    "created_in_deepnote_cell": true,
    "deepnote_cell_type": "markdown"
   }
  }
 ],
 "nbformat": 4,
 "nbformat_minor": 2,
 "metadata": {
  "orig_nbformat": 2,
  "deepnote": {
   "is_reactive": false
  },
  "deepnote_notebook_id": "1e501d0d-63d1-42eb-905d-cc7f52fc489e",
  "deepnote_execution_queue": []
 }
}