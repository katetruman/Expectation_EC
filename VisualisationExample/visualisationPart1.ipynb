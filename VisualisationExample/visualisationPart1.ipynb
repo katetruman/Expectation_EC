{
 "cells": [
  {
   "cell_type": "markdown",
   "source": "# Visualisation example Part 1",
   "metadata": {
    "tags": [],
    "is_collapsed": false,
    "cell_id": "00000-c5973142-f5d8-49d4-85fc-c4cb67726db2",
    "deepnote_cell_type": "text-cell-h1"
   }
  },
  {
   "cell_type": "markdown",
   "source": "This notebook produces a GIF showing the progression of holdsAt() fluents which relate to a particular record over time. A prolog query \nfinds all records which have been linked to an organ donation decision before a given time period, and the output from this file is stored in a file. The output is processed to produce a graph of known records at each time period, which are saved as PNGs and concatenated into a GIF using moviepy. ",
   "metadata": {
    "tags": [],
    "is_collapsed": false,
    "cell_id": "00001-0bf94476-c45d-4503-9808-ff3c3d897db4",
    "deepnote_cell_type": "text-cell-p"
   }
  },
  {
   "cell_type": "markdown",
   "source": "NB: For unknown reasons, importing moviepy on the Prolog focused kernel is not working. This notebook contains the visualisation set up until moviepy is needed, at which point **VisualisationPart2.ipynb**, which was run in a Python kernel shows the rest of the example!",
   "metadata": {
    "tags": [],
    "cell_id": "00002-b04b5089-a8df-48ed-ab37-fdf4df07c38a",
    "deepnote_cell_type": "markdown"
   }
  },
  {
   "cell_type": "code",
   "metadata": {
    "tags": [],
    "deepnote_to_be_reexecuted": false,
    "source_hash": "51d74c0a",
    "execution_start": 1639089094888,
    "execution_millis": 51,
    "cell_id": "00004-f3fefab3-28cf-4afa-bb64-d684d4bd23c2",
    "deepnote_cell_type": "code"
   },
   "source": "% Set up required to reset environment\n?- cd('~/work'), ['dec'].\n?- initialiseDEC.\n?- retractall(happensAtNarrative(_,_)).",
   "outputs": [
    {
     "name": "stdout",
     "text": "true.\nfalse.\ntrue.",
     "output_type": "stream"
    }
   ],
   "execution_count": 1
  },
  {
   "cell_type": "markdown",
   "source": "Below are the definitions for parent child relationships between records. For example, a message with a test result is the child of the request for that test, and a linkEvidence record connects a decision record to a evidence record.",
   "metadata": {
    "tags": [],
    "is_collapsed": false,
    "cell_id": "00006-6deb1710-24ee-4bdd-9381-47e78e410a1e",
    "deepnote_cell_type": "text-cell-p"
   }
  },
  {
   "cell_type": "markdown",
   "source": " As state constraints have not yet been implemented, this code currently uses descendant/2 fluents rather than holdsAt(descendant/2) fluents. holdsAt() fluents should replace the existing fluents once dec.pl has been updated appropriately.",
   "metadata": {
    "tags": [],
    "is_collapsed": false,
    "deepnote_cell_type": "text-cell-p"
   }
  },
  {
   "cell_type": "code",
   "metadata": {
    "tags": [],
    "deepnote_to_be_reexecuted": false,
    "source_hash": "a111bfa8",
    "execution_start": 1639089094942,
    "execution_millis": 7,
    "cell_id": "00007-b20a90d3-880d-4afd-963b-d83978c52aee",
    "deepnote_cell_type": "code"
   },
   "source": "% File: depends.pl\ndescendant(GID,RID):- holdsAt(child(GID,RID),12).\ndescendant(GID, RID) :- holdsAt(child(GID, MID),12),descendant(MID, RID).\n\ninitiates(record(RID,linkEvidence(DID,EID,Actor)), child(RID,DID),_).\ninitiates(record(RID,linkEvidence(DID,EID,Actor)), child(EID,RID),_).\ninitiates(record(NID,resultMessage(RID,_,_)), child(RID,NID),_).\ninitiates(record(NID,message(RID,_,_)), child(RID,NID),_).",
   "outputs": [
    {
     "name": "stdout",
     "text": "",
     "output_type": "stream"
    }
   ],
   "execution_count": 2
  },
  {
   "cell_type": "markdown",
   "source": "The cell below contains basic initiates statements from the wider organ donation example. Exp_rules have not been included here for simplicity. ",
   "metadata": {
    "tags": [],
    "cell_id": "00007-efdfb2d5-b223-4264-89b3-705ec6b712e1",
    "deepnote_cell_type": "markdown"
   }
  },
  {
   "cell_type": "code",
   "metadata": {
    "tags": [],
    "deepnote_to_be_reexecuted": false,
    "source_hash": "be118e9c",
    "execution_start": 1639089094953,
    "execution_millis": 15,
    "cell_id": "00008-d84e7a6a-6303-4154-95ca-942e1f6f64ce",
    "deepnote_cell_type": "code"
   },
   "source": "% File: PatientCareProcedure.pl\n\n% History requests are not yet fulfilled by default. History grants answer history requests\ninitiates(record(ID,histRequest(Patient,Source)), record(ID,histRequested(Patient,Source)='NA'), _).\ninitiates(record(_,message(ID, _, Source)), record(ID,histRequested(Patient,Source)='ANS'),T):- holdsAt(record(ID,histRequested(Patient,Source)='NA'),T).\ninitiates(record(EID,resultMessage(RID,Res,Lab)), record(EID,resultMessaged(RID,Res,Lab)),T).\n% Result Messages answer test requests\ninitiates(record(ID,testRequest(Patient,Test,Lab,Requester)), record(ID,testRequested(Patient,Test,Lab,Requester)='NA'), _).\ninitiates(record(_,resultMessage(ID, _, Source)), record(ID,testRequested(_,_,Source,_)='ANS'),T):- holdsAt(record(ID,testRequested,_,_,Source,_)='NA'),T).\n\n% Event to fluent\ninitiates(record(ID,diagnosis(Patient,Condition,Result,Actor)), record(ID,diagnosed(Patient,Condition,Result,Actor)),_).\ninitiates(record(LID,linkEvidence(ID,EID,Actor)), record(LID,linkedEvidence(ID,EID,Actor)),_).\ninitiates(record(RID,donorDecision(PatID,Concl,Actor)), record(RID,donorDecided(PatID,Concl,Actor)),_).\ninitiates(record(NID,message(RID,M,Source)), record(NID,messaged(RID,M,Source)),_).\n%initiates(record(LID,linkEvidence(ID,EID,Actor)), record(LID,linkedResult(ID,EID,Actor)),T):- holdsAt(record(EID,resultMessaged(,_,_,_)),T).\n%initiates(record(LID,linkEvidence(ID,EID,Actor)), record(LID,linkedDiagnosis(ID,EID,Actor)),T):- holdsAt(record(EID,diagnosed(_,_,_,_)),T).\ninitiates(record(ID,brainDeath(PatID,Actor)), record(ID,brainDead(PatID,Actor)),_).\n",
   "outputs": [
    {
     "name": "stdout",
     "text": "",
     "output_type": "stream"
    }
   ],
   "execution_count": 3
  },
  {
   "cell_type": "markdown",
   "source": "Relevant narrative to model:",
   "metadata": {
    "tags": [],
    "cell_id": "00009-0cab84bf-395d-4033-ae2f-6387edd0ab9f",
    "deepnote_cell_type": "markdown"
   }
  },
  {
   "cell_type": "code",
   "metadata": {
    "tags": [],
    "deepnote_to_be_reexecuted": false,
    "source_hash": "c1e0879e",
    "execution_start": 1639089094969,
    "execution_millis": 17,
    "cell_id": "00011-94c090d1-e33f-40a8-8acc-7f1532e4cfa7",
    "deepnote_cell_type": "code"
   },
   "source": "% File: narrative.pl\n\n% Test narrative\n\nhappensAtNarrative(record(0,admission(124)),1).\nhappensAtNarrative(record(13,testRequest(123, 'HIV','Otago Blood', 'AH')),2).\nhappensAtNarrative(record(14,resultMessage(13,positive, 'Otago Blood')),3).\nhappensAtNarrative(record(11,diagnosis(123,'HIV',positive,'PS')),4).\nhappensAtNarrative(record(15,linkEvidence(11,14,'PS')),5).\nhappensAtNarrative(record(10,histRequest(123,'Well')),2).\n%                   message(newID, requestID, happensAt or HoldsAt(type(ID,...),time), source), time)\nhappensAtNarrative(record(12,message(10, happensAt(diagnosis(123,'Hep-C','Positive'),1),'Well')),4).\nhappensAtNarrative(record(16,brainDeath(123,'PS')),6).\nhappensAtNarrative(record(17,brainDeath(123,'FG')),7).\nhappensAtNarrative(record(18,donorDecision(123,yes,'FG')),8).\nhappensAtNarrative(record(19,donorDecision(126,yes,'FG')),8).\nhappensAtNarrative(record(20,linkEvidence(18,11,'FG')),9).\nhappensAtNarrative(record(21,linkEvidence(18,12,'FG')),9).",
   "outputs": [
    {
     "name": "stdout",
     "text": "",
     "output_type": "stream"
    }
   ],
   "execution_count": 4
  },
  {
   "cell_type": "code",
   "metadata": {
    "tags": [],
    "cell_id": "00010-a29e50dd-6519-49fe-8bb9-89333d96b76e",
    "deepnote_to_be_reexecuted": false,
    "source_hash": "a3a154d5",
    "execution_start": 1639089095060,
    "execution_millis": 7,
    "deepnote_cell_type": "code"
   },
   "source": "?- run(12).",
   "outputs": [
    {
     "name": "stdout",
     "text": "true.",
     "output_type": "stream"
    }
   ],
   "execution_count": 5
  },
  {
   "cell_type": "markdown",
   "source": "Here we define a helper function to concatenate lists, which is used in the findRelationships and findRecords rules. findRelationships\\3 finds all child parent relationships for records which are descendants of a specified record, while findRecords\\3 finds the records themselves.",
   "metadata": {
    "tags": [],
    "cell_id": "00012-a7c9a57f-3587-43d9-97f1-a9761594458b",
    "deepnote_cell_type": "markdown"
   }
  },
  {
   "cell_type": "code",
   "metadata": {
    "tags": [],
    "deepnote_to_be_reexecuted": false,
    "source_hash": "3576570b",
    "execution_start": 1639089095061,
    "execution_millis": 6,
    "cell_id": "00037-5d0b57a6-4a32-42b4-8633-176783d79cba",
    "deepnote_cell_type": "code"
   },
   "source": "list_concat([],L,L).\nlist_concat([X1|L1],L2,[X1|L3]) :- list_concat(L1,L2,L3).\nfindRelationships(-1,_,[]).\nfindRelationships(X,C,L):- X>= 0, Z is X - 1, findRelationships(Z, C,M),   findall([X,Child,Parent], (holdsAt(child(Child,Parent),X),descendant(Child,C)), A), list_concat(A,M,L).\nfindRecords(-1,_,[]).\nfindRecords(X,C,L):- X>= 0, Z is X - 1, findRecords(Z, C, M),   findall([X,ID,Contents], (holdsAt(record(ID,Contents),X),(descendant(ID,C); ID = C)), A), list_concat(A,M,L).\n",
   "outputs": [
    {
     "name": "stdout",
     "text": "",
     "output_type": "stream"
    }
   ],
   "execution_count": 6
  },
  {
   "cell_type": "markdown",
   "source": "We find the relationships and related records for record 18 at time 12 and save the output to a file.",
   "metadata": {
    "tags": [],
    "cell_id": "00014-54cbea95-59d3-48c4-b6c5-ed68d7993be4",
    "deepnote_cell_type": "markdown"
   }
  },
  {
   "cell_type": "code",
   "metadata": {
    "tags": [],
    "deepnote_to_be_reexecuted": false,
    "source_hash": "98eeee22",
    "execution_start": 1639089095062,
    "execution_millis": 5,
    "cell_id": "00038-788683b1-7522-43ee-bb4f-0b628362ae83",
    "deepnote_cell_type": "code"
   },
   "source": "% Output: AnimationOutput.txt\n% The query output is saved to the specified file\n?- A = 12, findRelationships(A,18,X).\n?- findRecords(12,18,X).",
   "outputs": [
    {
     "name": "stdout",
     "text": "A = 12, X = [ [ 12, 13, 14 ], [ 12, 10, 12 ], [ 12, 15, 11 ], [ 12, 14, 15 ], [ 12, 20, 18 ], [ 12, 11, 20 ], [ 12, 21, 18 ], [ 12, 12, 21 ], [ 11, 13, 14 ], [ 11, 10, 12 ], [ 11, 15, 11 ], [ 11, 14, 15 ], [ 11, 20, 18 ], [ 11, 11, 20 ], [ 11, 21, 18 ], [ 11, 12, 21 ], [ 10, 13, 14 ], [ 10, 10, 12 ], [ 10, 15, 11 ], [ 10, 14, 15 ], [ 10, 20, 18 ], [ 10, 11, 20 ], [ 10, 21, 18 ], [ 10, 12, 21 ], [ 9, 13, 14 ], [ 9, 10, 12 ], [ 9, 15, 11 ], [ 9, 14, 15 ], [ 8, 13, 14 ], [ 8, 10, 12 ], [ 8, 15, 11 ], [ 8, 14, 15 ], [ 7, 13, 14 ], [ 7, 10, 12 ], [ 7, 15, 11 ], [ 7, 14, 15 ], [ 6, 13, 14 ], [ 6, 10, 12 ], [ 6, 15, 11 ], [ 6, 14, 15 ], [ 5, 13, 14 ], [ 5, 10, 12 ], [ 4, 13, 14 ] ] .\nX = [ [ 12, 13, testRequested(123, HIV, Otago Blood, AH)=NA ], [ 12, 10, histRequested(123, Well)=NA ], [ 12, 14, resultMessaged(13, positive, Otago Blood) ], [ 12, 11, diagnosed(123, HIV, positive, PS) ], [ 12, 10, histRequested(123, Well)=ANS ], [ 12, 12, messaged(10, happensAt(diagnosis(123, Hep-C, Positive), 1), Well) ], [ 12, 15, linkedEvidence(11, 14, PS) ], [ 12, 18, donorDecided(123, yes, FG) ], [ 12, 20, linkedEvidence(18, 11, FG) ], [ 12, 21, linkedEvidence(18, 12, FG) ], [ 11, 13, testRequested(123, HIV, Otago Blood, AH)=NA ], [ 11, 10, histRequested(123, Well)=NA ], [ 11, 14, resultMessaged(13, positive, Otago Blood) ], [ 11, 11, diagnosed(123, HIV, positive, PS) ], [ 11, 10, histRequested(123, Well)=ANS ], [ 11, 12, messaged(10, happensAt(diagnosis(123, Hep-C, Positive), 1), Well) ], [ 11, 15, linkedEvidence(11, 14, PS) ], [ 11, 18, donorDecided(123, yes, FG) ], [ 11, 20, linkedEvidence(18, 11, FG) ], [ 11, 21, linkedEvidence(18, 12, FG) ], [ 10, 13, testRequested(123, HIV, Otago Blood, AH)=NA ], [ 10, 10, histRequested(123, Well)=NA ], [ 10, 14, resultMessaged(13, positive, Otago Blood) ], [ 10, 11, diagnosed(123, HIV, positive, PS) ], [ 10, 10, histRequested(123, Well)=ANS ], [ 10, 12, messaged(10, happensAt(diagnosis(123, Hep-C, Positive), 1), Well) ], [ 10, 15, linkedEvidence(11, 14, PS) ], [ 10, 18, donorDecided(123, yes, FG) ], [ 10, 20, linkedEvidence(18, 11, FG) ], [ 10, 21, linkedEvidence(18, 12, FG) ], [ 9, 13, testRequested(123, HIV, Otago Blood, AH)=NA ], [ 9, 10, histRequested(123, Well)=NA ], [ 9, 14, resultMessaged(13, positive, Otago Blood) ], [ 9, 11, diagnosed(123, HIV, positive, PS) ], [ 9, 10, histRequested(123, Well)=ANS ], [ 9, 12, messaged(10, happensAt(diagnosis(123, Hep-C, Positive), 1), Well) ], [ 9, 15, linkedEvidence(11, 14, PS) ], [ 9, 18, donorDecided(123, yes, FG) ], [ 8, 13, testRequested(123, HIV, Otago Blood, AH)=NA ], [ 8, 10, histRequested(123, Well)=NA ], [ 8, 14, resultMessaged(13, positive, Otago Blood) ], [ 8, 11, diagnosed(123, HIV, positive, PS) ], [ 8, 10, histRequested(123, Well)=ANS ], [ 8, 12, messaged(10, happensAt(diagnosis(123, Hep-C, Positive), 1), Well) ], [ 8, 15, linkedEvidence(11, 14, PS) ], [ 7, 13, testRequested(123, HIV, Otago Blood, AH)=NA ], [ 7, 10, histRequested(123, Well)=NA ], [ 7, 14, resultMessaged(13, positive, Otago Blood) ], [ 7, 11, diagnosed(123, HIV, positive, PS) ], [ 7, 10, histRequested(123, Well)=ANS ], [ 7, 12, messaged(10, happensAt(diagnosis(123, Hep-C, Positive), 1), Well) ], [ 7, 15, linkedEvidence(11, 14, PS) ], [ 6, 13, testRequested(123, HIV, Otago Blood, AH)=NA ], [ 6, 10, histRequested(123, Well)=NA ], [ 6, 14, resultMessaged(13, positive, Otago Blood) ], [ 6, 11, diagnosed(123, HIV, positive, PS) ], [ 6, 10, histRequested(123, Well)=ANS ], [ 6, 12, messaged(10, happensAt(diagnosis(123, Hep-C, Positive), 1), Well) ], [ 6, 15, linkedEvidence(11, 14, PS) ], [ 5, 13, testRequested(123, HIV, Otago Blood, AH)=NA ], [ 5, 10, histRequested(123, Well)=NA ], [ 5, 14, resultMessaged(13, positive, Otago Blood) ], [ 5, 11, diagnosed(123, HIV, positive, PS) ], [ 5, 10, histRequested(123, Well)=ANS ], [ 5, 12, messaged(10, happensAt(diagnosis(123, Hep-C, Positive), 1), Well) ], [ 4, 13, testRequested(123, HIV, Otago Blood, AH)=NA ], [ 4, 10, histRequested(123, Well)=NA ], [ 4, 14, resultMessaged(13, positive, Otago Blood) ], [ 3, 13, testRequested(123, HIV, Otago Blood, AH)=NA ], [ 3, 10, histRequested(123, Well)=NA ] ] .",
     "output_type": "stream"
    }
   ],
   "execution_count": 7
  },
  {
   "cell_type": "markdown",
   "source": "We read the saved query output in from the file and save the relationships and records which hold at each time period from 0 up to the maximum (12) in allEdges and allNodes respectively.",
   "metadata": {
    "tags": [],
    "cell_id": "00016-acca3c84-dfb3-443d-b323-218ebd96a5cf",
    "deepnote_cell_type": "markdown"
   }
  },
  {
   "cell_type": "code",
   "metadata": {
    "tags": [],
    "cell_id": "00015-91d88a5d-4c0b-4216-be6a-bc5d160365fe",
    "deepnote_to_be_reexecuted": false,
    "source_hash": "c9208f3d",
    "execution_start": 1639089095062,
    "execution_millis": 6,
    "deepnote_cell_type": "code"
   },
   "source": "%Python\nfrom array import *\n# Read in prolog output\nf = open(\"/work/output_files/AnimationOutput.txt\", \"r\")\nfirstLine = f.readline()\n# Remove extra spacing, brackets\nrelationships = firstLine[16:-7]\nrecords = f.readline()[8:-7]\nf.close()\n# Save end time period\nmaxTime = int(firstLine.split(\",\")[0].split(\" = \")[1])\n# allEdges stores all the records that hold for each time period\nallEdges = []\n# allNodes stores all the parent-child relationships that hold for each time period\nallNodes = []\nfor i in range(maxTime+1):\n    allEdges.append({})\n    allNodes.append({})\nrelationships = relationships.split(\" ], [ \")\nrecords = records.split(\" ], [ \")\nfor rel in relationships:\n    time, child, parent = rel.split(\", \")\n    time = int(time)\n    if parent in allEdges[time]:\n        allEdges[time][parent].append(child)\n    else:\n        allEdges[time][parent] = [child]\nfor rec in records:\n    time = int(rec[0: rec.index(',')])\n    rec = rec[rec.index(',')+1:]\n    ID = rec[1: rec.index(',')]\n    contents = rec[rec.index(',')+1:]\n    allNodes[time][ID] = contents",
   "outputs": [
    {
     "name": "stdout",
     "text": "",
     "output_type": "stream"
    }
   ],
   "execution_count": 8
  },
  {
   "cell_type": "markdown",
   "source": "In order to create a graph for each time period, we need to import pygraphviz. We add the edges and nodes to a new graph for each time period and save each graph as a PNG (it is also possible to produce SVGs, but there was less support for creating GIFs).",
   "metadata": {
    "tags": [],
    "is_collapsed": false,
    "cell_id": "00017-bed4c4bd-1840-48d1-9b64-afe583387cd8",
    "deepnote_cell_type": "text-cell-p"
   }
  },
  {
   "cell_type": "code",
   "metadata": {
    "tags": [],
    "cell_id": "00017-e8658b14-fb41-44bb-9243-ac1cc52297ce",
    "deepnote_to_be_reexecuted": false,
    "source_hash": "8bbf31e5",
    "execution_start": 1639089095073,
    "execution_millis": 613,
    "deepnote_cell_type": "code"
   },
   "source": "%Python\nimport pygraphviz as pgv\nfrom graphviz import Digraph\n# Produce a PNG grpah for each time period\nfor i in range(maxTime+1):\n    di = Digraph()\n    di.graph_attr[\"label\"] = \"Time: %s\" % i\n    di.format = 'png'\n    for key, value in allNodes[i].items():\n        di.node(key,label=value)\n    for key, value in allEdges[i].items():\n        for v in value:\n            di.edge(key,v)\n    if i < 10:\n        fname = \"VisualisationExample/Timeline/di_0%s\" % i\n    else:\n        fname = \"VisualisationExample/Timeline/di_%s\" % i\n    di.render(filename=fname)",
   "outputs": [
    {
     "name": "stdout",
     "text": "",
     "output_type": "stream"
    }
   ],
   "execution_count": 9
  },
  {
   "cell_type": "markdown",
   "source": "Converting the PNGs to a GIF uses moviepy. ",
   "metadata": {
    "tags": [],
    "is_collapsed": false,
    "cell_id": "00014-443a5131-35e4-4682-9cdb-39a4d151f020",
    "deepnote_cell_type": "text-cell-p"
   }
  },
  {
   "cell_type": "markdown",
   "source": "By default the PNG concatenation method centres PNGs of all sizes into the frame of the largest PNG, which makes the transition between images quite jolting. An alternative concatenate.py file could be used which centres PNGs horizontally but positions them at the bottom of the frame. (Unfortunately, Deepnote had issues with using git clone or other methods to install moviepy and change the contents of the file, so this example does not use the alternate file, although it did work at one point!)",
   "metadata": {
    "tags": [],
    "is_collapsed": false,
    "deepnote_cell_type": "text-cell-p"
   }
  },
  {
   "cell_type": "code",
   "metadata": {
    "tags": [],
    "deepnote_to_be_reexecuted": false,
    "source_hash": "759ecc82",
    "execution_start": 1639089095729,
    "execution_millis": 3867,
    "cell_id": "00039-36f29732-431d-418d-8e76-2396615928fe",
    "deepnote_cell_type": "code"
   },
   "source": "%Python\nimport os\nos.system('pip install moviepy')\n#os.system('cp /work/VisualisationExample/concatReplacement.py ~/venv/lib/python3.9/site-packages/moviepy/video/compositing/concatenate.py')\n",
   "outputs": [
    {
     "name": "stdout",
     "text": "",
     "output_type": "stream"
    }
   ],
   "execution_count": 10
  },
  {
   "cell_type": "markdown",
   "source": "Here the cell (should!) concatenate the PNGs together to produce a GIF. It currently doesn't work in this kernel. See visualisationPart2.ipynb for the functional version.",
   "metadata": {
    "tags": [],
    "cell_id": "00023-2f74112c-44a9-46d6-bdcd-bc137255e365",
    "deepnote_cell_type": "markdown"
   }
  },
  {
   "cell_type": "code",
   "metadata": {
    "tags": [],
    "cell_id": "00019-6f705c85-ea0f-49d1-8eaa-3e46e5fc3333",
    "deepnote_to_be_reexecuted": false,
    "source_hash": "4c35287a",
    "execution_start": 1639089099599,
    "execution_millis": 1764,
    "deepnote_cell_type": "code"
   },
   "source": "%Python\nimport glob\n#from moviepy.editor import *\nimport moviepy.editor as mpv\ninput_png_list = glob.glob(\"/work/VisualisationExample/Timeline/*.png\")\ninput_png_list.sort()\nclips = [mpv.ImageClip(i).set_duration(2) for i in input_png_list]\nfor c in clips:\n    print(c)\nconcat_clip = mpv.concatenate_videoclips(clips, method=\"compose\", bg_color=[255,255,255])\nconcat_clip.write_gif(\"/work/VisualisationExample/process.gif\", fps=2)",
   "outputs": [
    {
     "name": "stdout",
     "text": "ERROR: Script gave error name 'mpv' is not defined",
     "output_type": "stream"
    }
   ],
   "execution_count": 11
  },
  {
   "cell_type": "markdown",
   "source": "<a style='text-decoration:none;line-height:16px;display:flex;color:#5B5B62;padding:10px;justify-content:end;' href='https://deepnote.com?utm_source=created-in-deepnote-cell&projectId=1527cc64-36a2-4b35-bd8b-8d493ca554fa' target=\"_blank\">\n<img alt='Created in deepnote.com' style='display:inline;max-height:16px;margin:0px;margin-right:7.5px;' src='data:image/svg+xml;base64,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' > </img>\nCreated in <span style='font-weight:600;margin-left:4px;'>Deepnote</span></a>",
   "metadata": {
    "tags": [],
    "created_in_deepnote_cell": true,
    "deepnote_cell_type": "markdown"
   }
  }
 ],
 "nbformat": 4,
 "nbformat_minor": 2,
 "metadata": {
  "orig_nbformat": 2,
  "deepnote": {
   "is_reactive": false
  },
  "deepnote_notebook_id": "70747c02-4978-490b-b402-bc8449a3b9f7",
  "deepnote_execution_queue": []
 }
}