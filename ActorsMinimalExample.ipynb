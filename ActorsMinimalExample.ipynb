{
 "cells": [
  {
   "cell_type": "markdown",
   "source": "# Actor support example",
   "metadata": {
    "cell_id": "66519267-ac4b-474a-ae07-78df30e45dc8",
    "tags": [],
    "is_collapsed": false,
    "deepnote_cell_type": "text-cell-h1"
   }
  },
  {
   "cell_type": "markdown",
   "source": "This notebook exhibits the support for multiple actors in one notebook which is facilitated by `decActors.pl`. We wish to be able to model the expectations of different agents given general events and fluents which are shared between all agents, as well as individualised events and fluents which apply to only one or a few of the agents.",
   "metadata": {
    "cell_id": "f19f12a2-d2b6-4e30-a7b9-d738657b41e9",
    "tags": [],
    "deepnote_cell_type": "markdown"
   }
  },
  {
   "cell_type": "markdown",
   "source": "### Set up",
   "metadata": {
    "cell_id": "4b6f0bd3-62c9-4862-9a3a-7de792fc5805",
    "tags": [],
    "is_collapsed": false,
    "deepnote_cell_type": "text-cell-h3"
   }
  },
  {
   "cell_type": "code",
   "metadata": {
    "tags": [],
    "cell_id": "e3576bf3-aa44-4897-9e42-14417342d8aa",
    "deepnote_to_be_reexecuted": false,
    "source_hash": "7c9de38d",
    "execution_start": 1644284253017,
    "execution_millis": 46,
    "deepnote_cell_type": "code"
   },
   "source": "?- cd('~/work'), ['decActors'].\n?- initialiseDEC.\n?- retractall(happensAtNarrative(_,_)).",
   "outputs": [
    {
     "name": "stdout",
     "text": "true.\nfalse.\ntrue.",
     "output_type": "stream"
    }
   ],
   "execution_count": 1
  },
  {
   "cell_type": "markdown",
   "source": "We declare four hospital agents (Otago, Christchurch, Wellington and Auckland) as exisiting initially. They are declared with the *support* agent argument, which is used to declare system wide facts which support other fluents.",
   "metadata": {
    "cell_id": "bb1b2125-5f30-4954-b89f-a2847f9dc1c1",
    "tags": [],
    "deepnote_cell_type": "markdown"
   }
  },
  {
   "cell_type": "code",
   "metadata": {
    "cell_id": "d77b6d02-3fbe-4183-be56-2f1f8e24232b",
    "tags": [],
    "deepnote_to_be_reexecuted": false,
    "source_hash": "9d179801",
    "execution_start": 1644284253100,
    "execution_millis": 5715013,
    "deepnote_cell_type": "code"
   },
   "source": "% File: hospitals.pl\ninitially(support, hospital(\"Otago\")).\ninitially(support, hospital(\"Christchurch\")).\ninitially(support, hospital(\"Wellington\")).\ninitially(support, hospital(\"Auckland\")).\n",
   "outputs": [
    {
     "name": "stdout",
     "text": "",
     "output_type": "stream"
    }
   ],
   "execution_count": 2
  },
  {
   "cell_type": "markdown",
   "source": "We declare that the *applyGeneral/1* fluent is true when its argument is a current hospital. This will allow us to apply fluents to all current hospitals. The *applyGeneral* fluent should not be used for events, as this is covered by our *happensAtNarrative* rule below, which states that narrative events are inherited by the descendants of the actor that the event occurs for. We can declare which agents are children of which other agents using the *inherits* fluent, and we declare that any current hospital inherits events from the *general* actor. We use the *general* actor to declare events that we want to occur for all current hospitals.",
   "metadata": {
    "cell_id": "8fef954f-99a2-4e9b-b17f-c32333de8406",
    "tags": [],
    "deepnote_cell_type": "markdown"
   }
  },
  {
   "cell_type": "code",
   "metadata": {
    "cell_id": "074c9133-ed5b-4bd3-8651-02dfaec9ea0e",
    "tags": [],
    "deepnote_to_be_reexecuted": false,
    "source_hash": "1aef9946",
    "execution_start": 1644284253101,
    "execution_millis": 5715036,
    "deepnote_cell_type": "code"
   },
   "source": "% File: generalisations.pl\n% Set suitable agents to pass general fluent rules onto. Should not be used for events!\nholdsAt(support, applyGeneral(Agent), T):- holdsAt(support, hospital(Agent),T).\n% Hospitals inherit general events\nholdsAt(support, inherits(Child, general),T):- holdsAt(support, hospital(Child),T).\n% Narrative events also occur in the children of the responsible parent.\nhappensAtNarrative(Agent:Event,T) :- holdsAt(support, inherits(Agent,Parent),T), happensAtNarrative(Parent:Event,T).",
   "outputs": [
    {
     "name": "stdout",
     "text": "",
     "output_type": "stream"
    }
   ],
   "execution_count": 3
  },
  {
   "cell_type": "markdown",
   "source": "We declare some test rules below in order to check that events and fluents are applying to the correct actors. \n\nWe declare that for any current hospital, *lightOn* is true if *greenLight* is true, and set *greenLight* to be true for all active hospitals at time zero. We declare that for any hospital, *turnOff* terminates *greenLight*, and that for Otago Hospital only, *powerCut* terminates *greenLight*. \n\nAn expectation rule holds initially for Otago Hospital only, which states that the hospital expects *redLight* will be true within 3 time periods of a powerCut. An expectation rule also holds from time period zero for all current hospitals which states that *redLight* will be true within 2 time periods of *turnOff* occurring.\n\nThe *addHospital* event initiates a new hospital in the *support* agent, while the *emergency* event initiates a siren at all hospitals.",
   "metadata": {
    "cell_id": "7c2f8a3c-d87b-4f3f-8ca8-3c2b5fa8bf28",
    "tags": [],
    "deepnote_cell_type": "markdown"
   }
  },
  {
   "cell_type": "code",
   "metadata": {
    "cell_id": "366cc23a-3102-4899-b86a-0f1c69ba19c5",
    "tags": [],
    "deepnote_to_be_reexecuted": false,
    "source_hash": "eece65d1",
    "execution_start": 1644284253102,
    "execution_millis": 1,
    "deepnote_cell_type": "code"
   },
   "source": "% File: lights.pl\nholdsAt(Agent, lightOn, T):- holdsAt(Agent, greenLight, T), holdsAt(support, applyGeneral(Agent), T).\ninitially(Agent, greenLight):- holdsAt(support, applyGeneral(Agent), 0).\n\nterminates(Agent, turnOff, greenLight, T):- holdsAt(support, applyGeneral(Agent), T).\nterminates(\"Otago\", powerCut, greenLight, T).\n\ninitially(\"Otago\", exp_rule(happ(powerCut), within(redLight, 3), dependent, \"Within 3 time periods of a power cut, there will be a red light\")).\n\ninitially(Actor, exp_rule(happ(turnOff), within(redLight, 2), dependent, \"Within 2 time periods of turnOff, there will be a red light\")):- \nholdsAt(support, applyGeneral(Agent), 0).\n\ninitiates(support, addHospital(Hospital), hospital(Hospital), _).\n\ninitiates(Agent, emergency, siren, T):- holdsAt(support, applyGeneral(Agent), T).",
   "outputs": [
    {
     "name": "stdout",
     "text": "",
     "output_type": "stream"
    }
   ],
   "execution_count": 4
  },
  {
   "cell_type": "markdown",
   "source": "Our narrative states that a *turnOff* event occurs for Christchurch only at time period 1, and at time period 2, Hamilton is added as a new hospital. A *powerCut* event and an emergency event, both at time period 3, and a *turnOff* event at time period 4, occur for all current hospitals. ",
   "metadata": {
    "cell_id": "064968e8-bd26-426b-8861-b457a0afa0b4",
    "tags": [],
    "deepnote_cell_type": "markdown"
   }
  },
  {
   "cell_type": "code",
   "metadata": {
    "cell_id": "48d10b52-1da4-494f-a7fc-f745e5f6ecd2",
    "tags": [],
    "deepnote_to_be_reexecuted": false,
    "source_hash": "d8c4d47c",
    "execution_start": 1644284253139,
    "execution_millis": 5714984,
    "deepnote_cell_type": "code"
   },
   "source": "% File: narrative.pl\nhappensAtNarrative(\"Christchurch\":turnOff, 1).\nhappensAtNarrative(support:addHospital(\"Hamilton\"),2).\nhappensAtNarrative(general:powerCut, 3).\nhappensAtNarrative(general:emergency, 3).\nhappensAtNarrative(general:turnOff, 4).\n",
   "outputs": [
    {
     "name": "stdout",
     "text": "",
     "output_type": "stream"
    }
   ],
   "execution_count": 5
  },
  {
   "cell_type": "markdown",
   "source": "The *greenLight* fluent has been inherited by each of the hospitals that exist at time period zero.",
   "metadata": {
    "cell_id": "cc0e3c72-9181-4d81-90db-a24afd037380",
    "tags": [],
    "deepnote_cell_type": "markdown"
   }
  },
  {
   "cell_type": "code",
   "metadata": {
    "cell_id": "dc55fcd3-2216-4a62-9d48-8a6fed0cd846",
    "tags": [],
    "deepnote_to_be_reexecuted": false,
    "source_hash": "862ce9c3",
    "execution_start": 1644284253141,
    "execution_millis": 3,
    "deepnote_cell_type": "code"
   },
   "source": "?- run(10).\n?- holdsAt(Actor, greenLight, 0).",
   "outputs": [
    {
     "name": "stdout",
     "text": "true.\nActor = b'Otago' ;\nActor = b'Christchurch' ;\nActor = b'Wellington' ;\nActor = b'Auckland' .",
     "output_type": "stream"
    }
   ],
   "execution_count": 6
  },
  {
   "cell_type": "markdown",
   "source": "As the state constraint involving *greenLight* and *lightOn* has been inherited by all of the current hospitals, *lightOn* also holds for each of them.",
   "metadata": {
    "cell_id": "6dada8b4-24b0-42b2-af48-2d24c559fb62",
    "tags": [],
    "deepnote_cell_type": "markdown"
   }
  },
  {
   "cell_type": "code",
   "metadata": {
    "cell_id": "899baca1-1dbd-4cc8-a26a-7820fdd70568",
    "tags": [],
    "deepnote_to_be_reexecuted": false,
    "source_hash": "45406688",
    "execution_start": 1644284253142,
    "execution_millis": 2,
    "deepnote_cell_type": "code"
   },
   "source": "?- holdsAt(Actor, lightOn, 0).",
   "outputs": [
    {
     "name": "stdout",
     "text": "Actor = b'Otago' ;\nActor = b'Christchurch' ;\nActor = b'Wellington' ;\nActor = b'Auckland' .",
     "output_type": "stream"
    }
   ],
   "execution_count": 7
  },
  {
   "cell_type": "markdown",
   "source": "*lightOn* continues to hold at time period one, when the *turnOff* event occurs for Christchurch. This event triggers the expectation that *redLight* will hold within 2 time periods for Christchurch only.",
   "metadata": {
    "cell_id": "5b470111-4147-468f-aadc-85cdf690221a",
    "tags": [],
    "deepnote_cell_type": "markdown"
   }
  },
  {
   "cell_type": "code",
   "metadata": {
    "cell_id": "5e8af0eb-2dc1-463c-b2f6-78afc40037f4",
    "tags": [],
    "deepnote_to_be_reexecuted": false,
    "source_hash": "1b8ba16b",
    "execution_start": 1644284253146,
    "execution_millis": 6,
    "deepnote_cell_type": "code"
   },
   "source": "?- holdsAt(Actor, lightOn, 1).\n?- happensAtNarrative(Actor:Event, 1).\n?- holdsAt(Hospital, exp(Result,Status,Message),1).",
   "outputs": [
    {
     "name": "stdout",
     "text": "Actor = b'Otago' ;\nActor = b'Christchurch' ;\nActor = b'Wellington' ;\nActor = b'Auckland' .\nActor = b'Christchurch', Event = turnOff .\nHospital = b'Christchurch', Result = within(redLight, 2), Status = dependent, Message = b'Within 2 time periods of turnOff, there will be a red light' .",
     "output_type": "stream"
    }
   ],
   "execution_count": 8
  },
  {
   "cell_type": "markdown",
   "source": "At time period 2, *lightOn* no longer holds for Christchurch, as *greenLight* has been terminated by the *turnOff* event. We add the new hospital.",
   "metadata": {
    "cell_id": "02643e30-b630-4f59-a8ab-e35e6831c691",
    "tags": [],
    "deepnote_cell_type": "markdown"
   }
  },
  {
   "cell_type": "code",
   "metadata": {
    "cell_id": "b6ebe54f-de0f-43f1-809d-1fc6a5680529",
    "tags": [],
    "deepnote_to_be_reexecuted": false,
    "source_hash": "35de0dec",
    "execution_start": 1644284253152,
    "execution_millis": 4,
    "deepnote_cell_type": "code"
   },
   "source": "?- holdsAt(Actor, lightOn, 2).\n?- happensAtNarrative(Actor:Event, 2).",
   "outputs": [
    {
     "name": "stdout",
     "text": "Actor = b'Otago' ;\nActor = b'Wellington' ;\nActor = b'Auckland' .\nActor = support, Event = addHospital(b'Hamilton') .",
     "output_type": "stream"
    }
   ],
   "execution_count": 9
  },
  {
   "cell_type": "markdown",
   "source": "At time period 3, the emergency and the power cut occur for all five hospitals. This triggers an expectation that *redLight* will hold within 3 time periods for Otago only.",
   "metadata": {
    "cell_id": "346e38e1-c9d2-4f6d-addc-d23cdc016ec2",
    "tags": [],
    "deepnote_cell_type": "markdown"
   }
  },
  {
   "cell_type": "code",
   "metadata": {
    "cell_id": "6b810783-b744-447a-9f17-b87969548fe6",
    "tags": [],
    "deepnote_to_be_reexecuted": false,
    "source_hash": "856875e1",
    "execution_start": 1644284253163,
    "execution_millis": 5,
    "deepnote_cell_type": "code"
   },
   "source": "?- happensAt(Agent, Event, 3).\n?- holdsAt(Hospital, exp(Result,Status,Message),3).",
   "outputs": [
    {
     "name": "stdout",
     "text": "Agent = b'Otago', Event = powerCut ;\nAgent = b'Otago', Event = emergency ;\nAgent = b'Christchurch', Event = powerCut ;\nAgent = b'Christchurch', Event = emergency ;\nAgent = b'Wellington', Event = powerCut ;\nAgent = b'Wellington', Event = emergency ;\nAgent = b'Auckland', Event = powerCut ;\nAgent = b'Auckland', Event = emergency ;\nAgent = b'Hamilton', Event = powerCut ;\nAgent = b'Hamilton', Event = emergency ;\nAgent = general, Event = powerCut ;\nAgent = general, Event = emergency .\nHospital = b'Otago', Result = within(redLight, 3), Status = dependent, Message = b'Within 3 time periods of a power cut, there will be a red light' .",
     "output_type": "stream"
    }
   ],
   "execution_count": 10
  },
  {
   "cell_type": "markdown",
   "source": "At time period four, *lightOn* no longer holds for Otago, as it was terminated by the *powerCut* event. As Hamilton was added as a new hospital after T = 0, *lightOn* also does not hold for this hospital.",
   "metadata": {
    "cell_id": "fb0b414f-f109-462d-955d-42f8c5e672d6",
    "tags": [],
    "deepnote_cell_type": "markdown"
   }
  },
  {
   "cell_type": "code",
   "metadata": {
    "cell_id": "ec927b58-925b-44df-a2fc-ae18c86e85eb",
    "tags": [],
    "deepnote_to_be_reexecuted": false,
    "source_hash": "73ab004",
    "execution_start": 1644284253171,
    "execution_millis": 5,
    "deepnote_cell_type": "code"
   },
   "source": "?- holdsAt(Actor, lightOn, 4).",
   "outputs": [
    {
     "name": "stdout",
     "text": "Actor = b'Wellington' ;\nActor = b'Auckland' .",
     "output_type": "stream"
    }
   ],
   "execution_count": 11
  },
  {
   "cell_type": "markdown",
   "source": "As *siren* is caused by an *initates* clause rather than an *initally* predicate, *siren* holds for Hamilton and the other hospitals. The *turnOff* event occurs at time period 4.",
   "metadata": {
    "cell_id": "0df4c3d4-d0f7-4b3c-82bf-a21c3b367608",
    "tags": [],
    "deepnote_cell_type": "markdown"
   }
  },
  {
   "cell_type": "code",
   "metadata": {
    "cell_id": "edb39fbf-25b2-4938-8b0c-fcee40d93c8c",
    "tags": [],
    "deepnote_to_be_reexecuted": false,
    "source_hash": "159417e6",
    "execution_start": 1644284253222,
    "execution_millis": 0,
    "deepnote_cell_type": "code"
   },
   "source": "?- holdsAt(Actor, siren, 4).\n?- happensAt(general, Event, 4).",
   "outputs": [
    {
     "name": "stdout",
     "text": "Actor = b'Otago' ;\nActor = b'Christchurch' ;\nActor = b'Wellington' ;\nActor = b'Auckland' ;\nActor = b'Hamilton' .\nEvent = turnOff .",
     "output_type": "stream"
    }
   ],
   "execution_count": 12
  },
  {
   "cell_type": "markdown",
   "source": "At time period 5, *lightOn* does not hold for any of the hospitals, as it has been terminated for Wellington and Auckland by the *turnOff* event.",
   "metadata": {
    "cell_id": "5fa9b342-c99e-4234-8e07-f1deaf64a64b",
    "tags": [],
    "deepnote_cell_type": "markdown"
   }
  },
  {
   "cell_type": "code",
   "metadata": {
    "cell_id": "d1931bbe-59b4-49d1-a84a-cefff754be24",
    "tags": [],
    "deepnote_to_be_reexecuted": false,
    "source_hash": "dba57aeb",
    "execution_start": 1644284253223,
    "execution_millis": 2,
    "deepnote_cell_type": "code"
   },
   "source": "?- holdsAt(Actor, lightOn, 5).",
   "outputs": [
    {
     "name": "stdout",
     "text": "false.",
     "output_type": "stream"
    }
   ],
   "execution_count": 13
  },
  {
   "cell_type": "markdown",
   "source": "<a style='text-decoration:none;line-height:16px;display:flex;color:#5B5B62;padding:10px;justify-content:end;' href='https://deepnote.com?utm_source=created-in-deepnote-cell&projectId=1527cc64-36a2-4b35-bd8b-8d493ca554fa' target=\"_blank\">\n<img alt='Created in deepnote.com' style='display:inline;max-height:16px;margin:0px;margin-right:7.5px;' src='data:image/svg+xml;base64,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' > </img>\nCreated in <span style='font-weight:600;margin-left:4px;'>Deepnote</span></a>",
   "metadata": {
    "tags": [],
    "created_in_deepnote_cell": true,
    "deepnote_cell_type": "markdown"
   }
  }
 ],
 "nbformat": 4,
 "nbformat_minor": 2,
 "metadata": {
  "orig_nbformat": 2,
  "deepnote": {
   "is_reactive": false
  },
  "deepnote_notebook_id": "06b532d0-836b-4b49-a223-11189500b69c",
  "deepnote_execution_queue": []
 }
}