{
 "cells": [
  {
   "cell_type": "markdown",
   "source": "## Using Jswipl",
   "metadata": {
    "tags": [],
    "is_collapsed": false,
    "deepnote_app_coordinates": {
     "x": 0,
     "y": 0,
     "w": 12,
     "h": 5
    },
    "cell_id": "00052-8b9adde9-255f-4117-a365-830b25152069",
    "deepnote_cell_type": "text-cell-h2"
   }
  },
  {
   "cell_type": "markdown",
   "source": "Prolog predicates can be written in code blocks which must be headed with \"% File: [name].pl%. The predicates in a given code block will be written to the named file within the **consulted_cells** folder, and this file will be consulted to load your predicates.",
   "metadata": {
    "tags": [],
    "deepnote_app_coordinates": {
     "x": 0,
     "y": 0,
     "w": 12,
     "h": 5
    },
    "cell_id": "00053-df1d3667-ae78-4859-a0cc-78f6bffe86d2",
    "deepnote_cell_type": "markdown"
   }
  },
  {
   "cell_type": "code",
   "metadata": {
    "tags": [],
    "deepnote_app_coordinates": {
     "x": 0,
     "y": 0,
     "w": 12,
     "h": 5
    },
    "deepnote_to_be_reexecuted": false,
    "source_hash": "9c947149",
    "execution_start": 1644524287485,
    "execution_millis": 10,
    "cell_id": "00054-8740688e-70c8-4254-9551-c24bb42b21f6",
    "deepnote_cell_type": "code"
   },
   "source": "% File: testFile.pl\nstudent(kate).\nstudent(hayden).",
   "execution_count": 26,
   "outputs": [
    {
     "name": "stdout",
     "text": "",
     "output_type": "stream"
    }
   ]
  },
  {
   "cell_type": "markdown",
   "source": "Queries must be prefaced with \"?-\", and queries must be located in separate code blocks to predicate declarations, although multiple predicate declarations or queries can be placed in the same code block.",
   "metadata": {
    "tags": [],
    "deepnote_app_coordinates": {
     "x": 0,
     "y": 0,
     "w": 12,
     "h": 5
    },
    "cell_id": "00055-76bd7c2c-8b5d-4c58-bc93-1e94e1a67e5c",
    "deepnote_cell_type": "markdown"
   }
  },
  {
   "cell_type": "code",
   "metadata": {
    "tags": [],
    "deepnote_app_coordinates": {
     "x": 0,
     "y": 0,
     "w": 12,
     "h": 5
    },
    "deepnote_to_be_reexecuted": false,
    "source_hash": "874e6405",
    "execution_start": 1644524287493,
    "execution_millis": 1,
    "cell_id": "00056-7df77363-5076-44f2-903c-a680d88a7875",
    "deepnote_cell_type": "code"
   },
   "source": "?- student(X).",
   "execution_count": 27,
   "outputs": [
    {
     "name": "stdout",
     "text": "X = kate ;\nX = hayden .",
     "output_type": "stream"
    }
   ]
  },
  {
   "cell_type": "markdown",
   "source": "Note that re-using the same file name will result in your consult file being overwritten and your previous predicates will be lost:",
   "metadata": {
    "tags": [],
    "deepnote_app_coordinates": {
     "x": 0,
     "y": 0,
     "w": 12,
     "h": 5
    },
    "cell_id": "00057-0faeebce-e8bc-4592-9552-69a1f9a5dd9b",
    "deepnote_cell_type": "markdown"
   }
  },
  {
   "cell_type": "code",
   "metadata": {
    "tags": [],
    "deepnote_app_coordinates": {
     "x": 0,
     "y": 0,
     "w": 12,
     "h": 5
    },
    "deepnote_to_be_reexecuted": false,
    "source_hash": "34c141fe",
    "execution_start": 1644524287498,
    "execution_millis": 15,
    "cell_id": "00058-ec52b20d-6ed0-4fbf-bc2c-0c4fbae7493f",
    "deepnote_cell_type": "code"
   },
   "source": "% File: testFile.pl\nsubject(computerScience).\nsubject(dataScience).",
   "execution_count": 28,
   "outputs": [
    {
     "name": "stdout",
     "text": "",
     "output_type": "stream"
    }
   ]
  },
  {
   "cell_type": "code",
   "metadata": {
    "tags": [],
    "deepnote_app_coordinates": {
     "x": 0,
     "y": 0,
     "w": 12,
     "h": 5
    },
    "deepnote_to_be_reexecuted": false,
    "source_hash": "908a2d46",
    "execution_start": 1644524287503,
    "execution_millis": 11,
    "cell_id": "00059-8368c711-2291-4af9-afcf-a60f1bebe49e",
    "deepnote_cell_type": "code"
   },
   "source": "?- student(X).\n?- subject(Y).",
   "execution_count": 29,
   "outputs": [
    {
     "name": "stdout",
     "text": "ERROR: Caused by: '  student(X)'. Returned: 'error(existence_error(procedure, /(student, 1)), context(/(pyrun, 2), _2066))'.\nY = computerScience ;\nY = dataScience .",
     "output_type": "stream"
    }
   ]
  },
  {
   "cell_type": "markdown",
   "source": "If you wish to undo the effects of consulting a file, you can unload it. Note that if you change directories to do this, you should change directories back to the **work** folder, or any new cells you create to consult will be saved to the wrong directory, and you will not have access to your previously defined predicates from this directory.",
   "metadata": {
    "tags": [],
    "deepnote_app_coordinates": {
     "x": 0,
     "y": 0,
     "w": 12,
     "h": 5
    },
    "cell_id": "00060-f6257537-5eb0-4714-8608-98ac47dfde73",
    "deepnote_cell_type": "markdown"
   }
  },
  {
   "cell_type": "code",
   "metadata": {
    "tags": [],
    "deepnote_app_coordinates": {
     "x": 0,
     "y": 0,
     "w": 12,
     "h": 5
    },
    "deepnote_to_be_reexecuted": false,
    "source_hash": "cd4c6b7b",
    "execution_start": 1644524287511,
    "execution_millis": 13,
    "cell_id": "00061-e7f44818-4d90-49d1-be8a-def767c1d35b",
    "deepnote_cell_type": "code"
   },
   "source": "?- unload_file(\"consulted_cells/testFile.pl\").\n% Would also work:\n% cd('~/work/consulted_cells'), unload_file(\"testFile.pl\"), cd('~/work').\n?- subject(Y).",
   "execution_count": 30,
   "outputs": [
    {
     "name": "stdout",
     "text": "true.\nfalse.",
     "output_type": "stream"
    }
   ]
  },
  {
   "cell_type": "markdown",
   "source": "You can also consult files which have been created separately to your notebook. For example, here we consult the **dec.pl** file which is saved in the **work** folder. ",
   "metadata": {
    "cell_id": "2ab9c8ea-bff6-4b0d-9b32-4ab21110f592",
    "tags": [],
    "deepnote_app_coordinates": {
     "x": 0,
     "y": 0,
     "w": 12,
     "h": 5
    },
    "deepnote_cell_type": "markdown"
   }
  },
  {
   "cell_type": "code",
   "source": "?- cd('~/work'), ['dec'].",
   "metadata": {
    "cell_id": "aad71cf6-931e-4f9d-a6ab-ccb266aba0a7",
    "tags": [],
    "deepnote_app_coordinates": {
     "x": 0,
     "y": 0,
     "w": 12,
     "h": 5
    },
    "deepnote_cell_type": "code"
   },
   "outputs": [],
   "execution_count": null
  },
  {
   "cell_type": "markdown",
   "source": "<a style='text-decoration:none;line-height:16px;display:flex;color:#5B5B62;padding:10px;justify-content:end;' href='https://deepnote.com?utm_source=created-in-deepnote-cell&projectId=1527cc64-36a2-4b35-bd8b-8d493ca554fa' target=\"_blank\">\n<img alt='Created in deepnote.com' style='display:inline;max-height:16px;margin:0px;margin-right:7.5px;' src='data:image/svg+xml;base64,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' > </img>\nCreated in <span style='font-weight:600;margin-left:4px;'>Deepnote</span></a>",
   "metadata": {
    "tags": [],
    "created_in_deepnote_cell": true,
    "deepnote_cell_type": "markdown"
   }
  }
 ],
 "nbformat": 4,
 "nbformat_minor": 2,
 "metadata": {
  "orig_nbformat": 2,
  "deepnote": {
   "is_reactive": false
  },
  "deepnote_notebook_id": "89d79fe0-03db-48ba-abee-bb9b499cefb8",
  "deepnote_execution_queue": [],
  "deepnote_app_layout": "article"
 }
}