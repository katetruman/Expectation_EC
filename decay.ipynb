{
 "cells": [
  {
   "cell_type": "markdown",
   "source": "# Decay - simple working example",
   "metadata": {
    "tags": [],
    "is_collapsed": false,
    "cell_id": "00000-b0af2d0e-3d0b-4c54-9e32-ac43dec00f9a",
    "deepnote_cell_type": "text-cell-h1"
   }
  },
  {
   "cell_type": "markdown",
   "source": "This notebook tests a simple decay process.",
   "metadata": {
    "tags": [],
    "is_collapsed": false,
    "cell_id": "00001-5b59b2ba-69a0-4861-bd23-a15e2b8aff12",
    "deepnote_cell_type": "text-cell-p"
   }
  },
  {
   "cell_type": "code",
   "metadata": {
    "tags": [],
    "deepnote_to_be_reexecuted": false,
    "source_hash": "51d74c0a",
    "execution_start": 1638309710851,
    "execution_millis": 153,
    "cell_id": "00002-b939d8aa-a22f-41b9-b5f5-c48d6af7a94a",
    "deepnote_cell_type": "code"
   },
   "source": "% Set up required to reset environment\n?- cd('~/work'), ['dec'].\n?- initialiseDEC.\n?- retractall(happensAtNarrative(_,_)).",
   "execution_count": 1,
   "outputs": [
    {
     "name": "stdout",
     "text": "true.\nfalse.\ntrue.",
     "output_type": "stream"
    }
   ]
  },
  {
   "cell_type": "markdown",
   "source": "Potential organ recipients can be added (i.e. to a waiting list). We expect that an update on a potential recipient will be received within 150 time periods. The hospital may want to check that this patient is still alive, does not have any new diseases the hospital is unaware of, and so on.",
   "metadata": {
    "tags": [],
    "is_collapsed": false,
    "cell_id": "00003-8db348d2-1c6a-4bba-8501-b88cbed5035a",
    "deepnote_cell_type": "text-cell-p"
   }
  },
  {
   "cell_type": "markdown",
   "source": "We monitor the age of waiting records using multi valued fluents. The age of records is set to 1 when the waiting fluent is initiated by a recipient event. We create an expectation rule that a record will be renewed before the waiting record is 150 time periods old. We use a decay event, which occurs at every time period, to initiate updates to waiting record ages.",
   "metadata": {
    "tags": [],
    "is_collapsed": false,
    "cell_id": "00004-1a6379d8-ca05-4ebb-8f18-9da08e69a650",
    "deepnote_cell_type": "text-cell-p"
   }
  },
  {
   "cell_type": "code",
   "metadata": {
    "tags": [],
    "deepnote_to_be_reexecuted": false,
    "source_hash": "ec50412a",
    "execution_start": 1638309711010,
    "execution_millis": 56,
    "cell_id": "00004-a72617c1-be18-4599-b7fc-388c8bab2b77",
    "deepnote_cell_type": "code"
   },
   "source": "% File: initiates.pl\nhappensAtNarrative(decay,_).\ninitiates(addToList(RID,PatID),waiting(RID,PatID)=1,_).\ninitiates(renew(PatID), renewed(PatID),_).\ninitially(exp_rule(waiting(RID,PatID)=1, before(renewed(PatID), waiting(RID,PatID)=150))).\ninitiates(decay, waiting(RID,PatID)=Y,T):- holdsAt(waiting(RID,PatID)=X,T), Y is X + 1.",
   "execution_count": 2,
   "outputs": [
    {
     "name": "stdout",
     "text": "",
     "output_type": "stream"
    }
   ]
  },
  {
   "cell_type": "markdown",
   "source": "We create a recipient record for patient 123 at time zero, and a record for patient 124 at time four. Information for patient 124 is renewed at time 50.",
   "metadata": {
    "tags": [],
    "is_collapsed": false,
    "cell_id": "00005-dfe725d5-6fed-4a14-8e41-e059e12a68ea",
    "deepnote_cell_type": "text-cell-p"
   }
  },
  {
   "cell_type": "code",
   "metadata": {
    "tags": [],
    "deepnote_to_be_reexecuted": false,
    "source_hash": "446d7b3f",
    "execution_start": 1638309711058,
    "execution_millis": 0,
    "cell_id": "00006-a0f9c1f7-34cc-4ed7-b0b3-4145029787c7",
    "deepnote_cell_type": "code"
   },
   "source": "% File: narrative.pl\nhappensAtNarrative(addToList(3,123),0).\nhappensAtNarrative(addToList(4,124),4).\nhappensAtNarrative(renew(124),50).",
   "execution_count": 3,
   "outputs": [
    {
     "name": "stdout",
     "text": "",
     "output_type": "stream"
    }
   ]
  },
  {
   "cell_type": "markdown",
   "source": "At time zero, patient 123 is added to the wait list.",
   "metadata": {
    "tags": [],
    "is_collapsed": false,
    "cell_id": "00008-4a558f43-dfe7-495a-b854-e0d7b8933570",
    "deepnote_cell_type": "text-cell-p"
   }
  },
  {
   "cell_type": "code",
   "metadata": {
    "tags": [],
    "deepnote_to_be_reexecuted": false,
    "source_hash": "6d3972d5",
    "execution_start": 1638309711113,
    "execution_millis": 56627,
    "cell_id": "00007-b1bdc0e4-5be1-4d0e-ab6a-b02f113571d8",
    "deepnote_cell_type": "code"
   },
   "source": "?- tick(0).\n?- holdsAt(F,0).\n?- happensAt(E,0).",
   "execution_count": 4,
   "outputs": [
    {
     "name": "stdout",
     "text": "true.\nF = exp_rule(=(waiting(_3040, _3042), 1), before(renewed(_3042), =(waiting(_3040, _3042), 150))) .\nE = decay ;\nE = addToList(3, 123) .",
     "output_type": "stream"
    }
   ]
  },
  {
   "cell_type": "markdown",
   "source": "We can see below that at time one, patient 123 has been waiting for 1 time period.",
   "metadata": {
    "tags": [],
    "is_collapsed": false,
    "cell_id": "00010-cff55e17-1410-4cbf-bcf4-92cf26e194bd",
    "deepnote_cell_type": "text-cell-p"
   }
  },
  {
   "cell_type": "code",
   "metadata": {
    "tags": [],
    "deepnote_to_be_reexecuted": false,
    "source_hash": "62874fc6",
    "execution_start": 1638309711114,
    "execution_millis": 56673,
    "cell_id": "00009-e00fc3c7-cd8a-4fac-a98f-627f2eb92ed8",
    "deepnote_cell_type": "code"
   },
   "source": "?- tick(1).\n?- holdsAt(F,1).",
   "execution_count": 5,
   "outputs": [
    {
     "name": "stdout",
     "text": "true.\nF = {'waiting(3, 123)': 1} ;\nF = exp_rule(=(waiting(_3020, _3022), 1), before(renewed(_3022), =(waiting(_3020, _3022), 150))) ;\nF = exp(before(renewed(123), =(waiting(3, 123), 150))) ;\nF = exp(=(waiting(3, 123), 1), before(renewed(123), =(waiting(3, 123), 150)), 1, before(renewed(123), =(waiting(3, 123), 150))) .",
     "output_type": "stream"
    }
   ]
  },
  {
   "cell_type": "markdown",
   "source": "At time 2, patient 123 has been waiting for 2 time periods.",
   "metadata": {
    "tags": [],
    "is_collapsed": false,
    "cell_id": "00010-8b89a41a-42c0-40bf-9f5c-7a56b7add4ee",
    "deepnote_cell_type": "text-cell-p"
   }
  },
  {
   "cell_type": "code",
   "metadata": {
    "tags": [],
    "deepnote_to_be_reexecuted": false,
    "source_hash": "d4c3829e",
    "execution_start": 1638309711149,
    "execution_millis": 56687,
    "cell_id": "00011-2a5ee2ce-3083-4c61-b187-b1fbc0580002",
    "deepnote_cell_type": "code"
   },
   "source": "?- tick(2).\n?- holdsAt(F,2).",
   "execution_count": 6,
   "outputs": [
    {
     "name": "stdout",
     "text": "true.\nF = {'waiting(3, 123)': 2} ;\nF = exp_rule(=(waiting(_3020, _3022), 1), before(renewed(_3022), =(waiting(_3020, _3022), 150))) ;\nF = exp(before(renewed(123), =(waiting(3, 123), 150))) ;\nF = exp(=(waiting(3, 123), 1), before(renewed(123), =(waiting(3, 123), 150)), 1, before(renewed(123), =(waiting(3, 123), 150))) .",
     "output_type": "stream"
    }
   ]
  },
  {
   "cell_type": "markdown",
   "source": "At time 50, information for patient 124 is renewed, and the expectation of renewal within 150 time periods of the recipient record being made is fulfilled.",
   "metadata": {
    "tags": [],
    "is_collapsed": false,
    "cell_id": "00012-afac37c0-e64c-417f-8038-a939e49bf16a",
    "deepnote_cell_type": "text-cell-p"
   }
  },
  {
   "cell_type": "code",
   "metadata": {
    "tags": [],
    "deepnote_to_be_reexecuted": false,
    "source_hash": "8b3768d7",
    "execution_start": 1638309711150,
    "execution_millis": 27,
    "cell_id": "00015-4532cb0d-f5eb-4aec-9d60-f06ff18ec8fe",
    "deepnote_cell_type": "code"
   },
   "source": "?- initialiseDEC.\n?- run(50).\n?- happensAt(B,50).\n?- tick(51).\n?- happensAt(D,51).",
   "execution_count": 7,
   "outputs": [
    {
     "name": "stdout",
     "text": "true.\ntrue.\nB = decay ;\nB = renew(124) .\ntrue.\nD = decay ;\nD = fulf(=(waiting(4, 124), 1), before(renewed(124), =(waiting(4, 124), 150)), 5, before(renewed(124), =(waiting(4, 124), 150))) .",
     "output_type": "stream"
    }
   ]
  },
  {
   "cell_type": "markdown",
   "source": "At time 150, information for patient 123 has not been renewed and the expectation is violated.",
   "metadata": {
    "tags": [],
    "is_collapsed": false,
    "cell_id": "00016-49f2bfab-8604-4b90-9b3a-8bc4075810fc",
    "deepnote_cell_type": "text-cell-p"
   }
  },
  {
   "cell_type": "code",
   "metadata": {
    "tags": [],
    "cell_id": "00017-7476d69f-73d1-40a5-bbe3-a08f8512c316",
    "deepnote_to_be_reexecuted": false,
    "source_hash": "f00376f7",
    "execution_start": 1638309711168,
    "execution_millis": 102,
    "deepnote_cell_type": "code"
   },
   "source": "?- initialiseDEC.\n?- run(150).\n?- holdsAt(waiting(RID,123)=Age,150).\n?- happensAt(B,150).",
   "execution_count": 8,
   "outputs": [
    {
     "name": "stdout",
     "text": "true.\ntrue.\nRID = 3, Age = 150 .\nB = decay ;\nB = viol(=(waiting(3, 123), 1), before(renewed(123), =(waiting(3, 123), 150)), 1, before(renewed(123), =(waiting(3, 123), 150))) .",
     "output_type": "stream"
    }
   ]
  },
  {
   "cell_type": "markdown",
   "source": "<a style='text-decoration:none;line-height:16px;display:flex;color:#5B5B62;padding:10px;justify-content:end;' href='https://deepnote.com?utm_source=created-in-deepnote-cell&projectId=1527cc64-36a2-4b35-bd8b-8d493ca554fa' target=\"_blank\">\n<img alt='Created in deepnote.com' style='display:inline;max-height:16px;margin:0px;margin-right:7.5px;' src='data:image/svg+xml;base64,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' > </img>\nCreated in <span style='font-weight:600;margin-left:4px;'>Deepnote</span></a>",
   "metadata": {
    "tags": [],
    "created_in_deepnote_cell": true,
    "deepnote_cell_type": "markdown"
   }
  }
 ],
 "nbformat": 4,
 "nbformat_minor": 2,
 "metadata": {
  "orig_nbformat": 2,
  "deepnote": {
   "is_reactive": false
  },
  "deepnote_notebook_id": "033a839f-5bcf-4513-93ab-406b94bf6b04",
  "deepnote_execution_queue": []
 }
}