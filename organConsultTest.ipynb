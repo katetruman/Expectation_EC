{
 "cells": [
  {
   "cell_type": "code",
   "metadata": {
    "tags": [],
    "cell_id": "00000-53e0ae96-b980-4c37-8934-d943d0ad65f0",
    "deepnote_to_be_reexecuted": false,
    "source_hash": "377780b8",
    "execution_start": 1638151379690,
    "execution_millis": 164,
    "deepnote_cell_type": "code"
   },
   "source": "?- cd('~/work'), ['dec'].\n?- initialiseDEC.\n?- retractall(happensAtNarrative(_,_)).",
   "execution_count": 1,
   "outputs": [
    {
     "name": "stdout",
     "text": "true.\nfalse.\ntrue.",
     "output_type": "stream"
    }
   ]
  },
  {
   "cell_type": "code",
   "source": "clear.\ninitiates(hist_request(Patient,Recipient,Sender), hist_requested(Patient,Recipient,Sender)='NA', _).\ninitiates(hist_grant(Patient,Recipient,Sender), hist_granted(Patient,Recipient,Sender), _).\n% initially(hist_requested(Patient,Recipient,Sender)='NA').\n",
   "metadata": {
    "tags": [],
    "cell_id": "00002-c2bed434-277d-404d-ad15-21ad3dc98453",
    "deepnote_to_be_reexecuted": false,
    "source_hash": "fff4e908",
    "allow_embed": false,
    "execution_start": 1638151379859,
    "execution_millis": 49,
    "deepnote_cell_type": "code"
   },
   "outputs": [
    {
     "name": "stdout",
     "text": "",
     "output_type": "stream"
    }
   ],
   "execution_count": 2
  },
  {
   "cell_type": "code",
   "source": "happensAtNarrative(admission(123,'Dunedin'),0).\nhappensAtNarrative(hist_request(123,'Wellington','Dunedin'),0).\nhappensAtNarrative(hist_grant(123,'Dunedin','Wellington'),1).",
   "metadata": {
    "tags": [],
    "cell_id": "00001-b894ba8a-938a-4c30-a851-1d1c5fd371be",
    "deepnote_to_be_reexecuted": false,
    "source_hash": "af8745ab",
    "execution_start": 1638151379906,
    "execution_millis": 3,
    "deepnote_cell_type": "code"
   },
   "outputs": [
    {
     "name": "stdout",
     "text": "",
     "output_type": "stream"
    }
   ],
   "execution_count": 3
  },
  {
   "cell_type": "code",
   "source": "initially(exp_rule(hist_requested(Patient,Recipient,Sender)='NA', eventually(hist_requested(Patient,Recipient,Sender)='ACK'))).\ninitiates(hist_grant(Patient, Sender, Recipient), hist_requested(Patient,Recipient,Sender)='ACK',_).\n% initiates(admission, )\n% initially(green(light)).\n% initially(green(car)).\n% initially(exp_rule(green(light),next(red(light)))).\n% initially(exp_rule(red(light),next(green(light)))).\n% initially(exp_rule(true,never(happ(change)))).\n% initiates(change, green(light), T) :- holdsAt(red(light), T).\n% terminates(change, red(light), T) :- holdsAt(red(light), T).\n% initiates(change, red(light), T) :- holdsAt(green(light), T).\n% terminates(change, green(light), T) :- holdsAt(green(light), T).",
   "metadata": {
    "tags": [],
    "cell_id": "00002-abf1e566-7f59-4be4-8894-f611362b38d7",
    "deepnote_to_be_reexecuted": false,
    "source_hash": "46c17e8f",
    "execution_start": 1638151379951,
    "execution_millis": 246523,
    "deepnote_cell_type": "code"
   },
   "outputs": [
    {
     "name": "stdout",
     "text": "",
     "output_type": "stream"
    }
   ],
   "execution_count": 4
  },
  {
   "cell_type": "code",
   "source": "?- tick(0).\n?- holdsAt(F,0).\n?- happensAt(E,0).",
   "metadata": {
    "tags": [],
    "cell_id": "00002-f4a0c48c-bc87-4f4b-a683-182d9aa4c02b",
    "deepnote_to_be_reexecuted": false,
    "source_hash": "6d3972d5",
    "execution_start": 1638151379953,
    "execution_millis": 246506,
    "deepnote_cell_type": "code"
   },
   "outputs": [
    {
     "name": "stdout",
     "text": "true.\nF = exp_rule(=(hist_requested(_3040, _3042, _3044), NA), eventually(=(hist_requested(_3040, _3042, _3044), ACK))) .\nE = admission(123, Dunedin) ;\nE = hist_request(123, Wellington, Dunedin) .",
     "output_type": "stream"
    }
   ],
   "execution_count": 5
  },
  {
   "cell_type": "code",
   "source": "?- tick(1).\n?- holdsAt(F,1).\n% ?- holdsAtCached(C,1).\n% ?- holdsAtNoCache(N,1).\n?- happensAt(E,1).",
   "metadata": {
    "tags": [],
    "cell_id": "00003-84a9548d-bac8-4432-bce4-915b82daff83",
    "deepnote_to_be_reexecuted": false,
    "source_hash": "7e4fdf11",
    "execution_start": 1638151380018,
    "execution_millis": 246504,
    "deepnote_cell_type": "code"
   },
   "outputs": [
    {
     "name": "stdout",
     "text": "true.\nF = {'hist_requested(123, Wellington, Dunedin)': 'NA'} ;\nF = exp_rule(=(hist_requested(_3020, _3022, _3024), NA), eventually(=(hist_requested(_3020, _3022, _3024), ACK))) ;\nF = exp(eventually(=(hist_requested(123, Wellington, Dunedin), ACK))) ;\nF = exp(=(hist_requested(123, Wellington, Dunedin), NA), eventually(=(hist_requested(123, Wellington, Dunedin), ACK)), 1, eventually(=(hist_requested(123, Wellington, Dunedin), ACK))) .\nE = hist_grant(123, Dunedin, Wellington) .",
     "output_type": "stream"
    }
   ],
   "execution_count": 6
  },
  {
   "cell_type": "code",
   "source": "\n?- happensAt(E,1).\n?- tick(2).\n?- holdsAt(F,2).\n?- holdsAtNoCache(N,2).\n?- holdsAtCached(C,2).",
   "metadata": {
    "tags": [],
    "cell_id": "00005-6a729485-63d3-4616-b8f8-954d54632e53",
    "deepnote_to_be_reexecuted": false,
    "source_hash": "efb07419",
    "execution_start": 1638151380019,
    "execution_millis": 246569,
    "deepnote_cell_type": "code"
   },
   "outputs": [
    {
     "name": "stdout",
     "text": "E = hist_grant(123, Dunedin, Wellington) .\ntrue.\nF = {'hist_requested(123, Wellington, Dunedin)': 'ACK'} ;\nF = exp_rule(=(hist_requested(_3020, _3022, _3024), NA), eventually(=(hist_requested(_3020, _3022, _3024), ACK))) ;\nF = hist_granted(123, Dunedin, Wellington) ;\nF = exp(eventually(=(hist_requested(123, Wellington, Dunedin), ACK))) ;\nF = exp(=(hist_requested(123, Wellington, Dunedin), NA), eventually(=(hist_requested(123, Wellington, Dunedin), ACK)), 1, eventually(=(hist_requested(123, Wellington, Dunedin), ACK))) .\nN = exp(eventually(=(hist_requested(123, Wellington, Dunedin), ACK))) ;\nN = exp(=(hist_requested(123, Wellington, Dunedin), NA), eventually(=(hist_requested(123, Wellington, Dunedin), ACK)), 1, eventually(=(hist_requested(123, Wellington, Dunedin), ACK))) ;\nN = exp_rule(=(hist_requested(_2986, _2988, _2990), NA), eventually(=(hist_requested(_2986, _2988, _2990), ACK))) ;\nN = hist_granted(123, Dunedin, Wellington) ;\nN = {'hist_requested(123, Wellington, Dunedin)': 'ACK'} .\nC = {'hist_requested(123, Wellington, Dunedin)': 'ACK'} ;\nC = exp_rule(=(hist_requested(_2986, _2988, _2990), NA), eventually(=(hist_requested(_2986, _2988, _2990), ACK))) ;\nC = hist_granted(123, Dunedin, Wellington) ;\nC = exp(=(hist_requested(123, Wellington, Dunedin), NA), eventually(=(hist_requested(123, Wellington, Dunedin), ACK)), 1, eventually(=(hist_requested(123, Wellington, Dunedin), ACK))) ;\nC = exp(eventually(=(hist_requested(123, Wellington, Dunedin), ACK))) .",
     "output_type": "stream"
    }
   ],
   "execution_count": 7
  },
  {
   "cell_type": "code",
   "source": "?- eval(hist_requested(123,'Wellington','Dunedin')='ACK',2,Z).\n?- eval(eventually(hist_requested(123,'Wellington','Dunedin')='ACK'),2,Z).\n?- holdsAtCached(exp(C,E,TriggerT,ResidualExp), 2), eval(ResidualExp,2,Z).\n?- happensAtInferred(A,2).\n?- holdsAtCached(exp(C,E,TriggerT,ResidualExp), 2).\n?- happensAt(fulf(_, _, _, eventually(hist_granted(Patient, Sender, Recipient))),2).\n?- holdsAt(R,2).\n?- happensAt(O,2).",
   "metadata": {
    "tags": [],
    "cell_id": "00006-e4f607f2-0e54-4830-8274-1ded36fb1307",
    "deepnote_to_be_reexecuted": false,
    "source_hash": "6f733f1e",
    "execution_start": 1638151417435,
    "execution_millis": 20,
    "deepnote_cell_type": "code"
   },
   "outputs": [
    {
     "name": "stdout",
     "text": "Z = true .\nZ = true .\nC = {'hist_requested(123, Wellington, Dunedin)': 'NA'}, E = eventually(=(hist_requested(123, Wellington, Dunedin), ACK)), TriggerT = 1, ResidualExp = eventually(=(hist_requested(123, Wellington, Dunedin), ACK)), Z = true .\nA = fulf(=(hist_requested(123, Wellington, Dunedin), NA), eventually(=(hist_requested(123, Wellington, Dunedin), ACK)), 1, eventually(=(hist_requested(123, Wellington, Dunedin), ACK))) .\nC = {'hist_requested(123, Wellington, Dunedin)': 'NA'}, E = eventually(=(hist_requested(123, Wellington, Dunedin), ACK)), TriggerT = 1, ResidualExp = eventually(=(hist_requested(123, Wellington, Dunedin), ACK)) .\nfalse.\nR = {'hist_requested(123, Wellington, Dunedin)': 'ACK'} ;\nR = exp_rule(=(hist_requested(_3020, _3022, _3024), NA), eventually(=(hist_requested(_3020, _3022, _3024), ACK))) ;\nR = hist_granted(123, Dunedin, Wellington) ;\nR = exp(eventually(=(hist_requested(123, Wellington, Dunedin), ACK))) ;\nR = exp(=(hist_requested(123, Wellington, Dunedin), NA), eventually(=(hist_requested(123, Wellington, Dunedin), ACK)), 1, eventually(=(hist_requested(123, Wellington, Dunedin), ACK))) .\nO = fulf(=(hist_requested(123, Wellington, Dunedin), NA), eventually(=(hist_requested(123, Wellington, Dunedin), ACK)), 1, eventually(=(hist_requested(123, Wellington, Dunedin), ACK))) .",
     "output_type": "stream"
    }
   ],
   "execution_count": 11
  },
  {
   "cell_type": "code",
   "source": "?- tick(3).\n?- holdsAt(C,3).\n?- happensAt(D,3).",
   "metadata": {
    "tags": [],
    "cell_id": "00009-04b72bed-11d0-4dfe-a74a-02f32229a2b4",
    "deepnote_to_be_reexecuted": false,
    "source_hash": "c770e691",
    "execution_start": 1638151380041,
    "execution_millis": 2,
    "deepnote_cell_type": "code"
   },
   "outputs": [
    {
     "name": "stdout",
     "text": "true.\nC = {'hist_requested(123, Wellington, Dunedin)': 'ACK'} ;\nC = exp_rule(=(hist_requested(_3020, _3022, _3024), NA), eventually(=(hist_requested(_3020, _3022, _3024), ACK))) ;\nC = hist_granted(123, Dunedin, Wellington) .\nfalse.",
     "output_type": "stream"
    }
   ],
   "execution_count": 9
  },
  {
   "cell_type": "code",
   "source": "% happensAtInferred(fulf(C,E,TriggerT, ResidualExp), T) :-\n %   holdsAtCached(exp(C,E,TriggerT,ResidualExp), T),\n %   eval(ResidualExp, T, true).",
   "metadata": {
    "tags": [],
    "cell_id": "00008-a63f531f-3909-4d83-a5b9-2f5467830df7",
    "deepnote_to_be_reexecuted": false,
    "source_hash": "de13161f",
    "execution_start": 1638151380042,
    "execution_millis": 246538,
    "deepnote_cell_type": "code"
   },
   "outputs": [
    {
     "name": "stdout",
     "text": "",
     "output_type": "stream"
    }
   ],
   "execution_count": 10
  },
  {
   "cell_type": "markdown",
   "source": "<a style='text-decoration:none;line-height:16px;display:flex;color:#5B5B62;padding:10px;justify-content:end;' href='https://deepnote.com?utm_source=created-in-deepnote-cell&projectId=1527cc64-36a2-4b35-bd8b-8d493ca554fa' target=\"_blank\">\n<img alt='Created in deepnote.com' style='display:inline;max-height:16px;margin:0px;margin-right:7.5px;' src='data:image/svg+xml;base64,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' > </img>\nCreated in <span style='font-weight:600;margin-left:4px;'>Deepnote</span></a>",
   "metadata": {
    "tags": [],
    "created_in_deepnote_cell": true,
    "deepnote_cell_type": "markdown"
   }
  }
 ],
 "nbformat": 4,
 "nbformat_minor": 2,
 "metadata": {
  "orig_nbformat": 2,
  "deepnote": {
   "is_reactive": false
  },
  "deepnote_notebook_id": "5e78466f-aa59-4dba-a772-ab8729f3d355",
  "deepnote_execution_queue": []
 }
}
