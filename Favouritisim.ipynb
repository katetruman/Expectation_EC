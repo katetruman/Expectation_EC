{
 "cells": [
  {
   "cell_type": "markdown",
   "source": "# Favouritism",
   "metadata": {
    "tags": [],
    "is_collapsed": false,
    "cell_id": "75160ef1-2d31-4a04-821e-727cc7128ce9",
    "deepnote_cell_type": "text-cell-h1"
   }
  },
  {
   "cell_type": "markdown",
   "source": "It could be useful to identify unusual patterns of behaviour in various actors, such as one doctor using a lab for tests that is not frequently used by others. While such behaviour may be innocent, it is possible that two malicious sources may use each other as back up in order to disguise incorrect information. For example, a doctor may ask a lab technician to sign off on lab tests that haven't actually been done in order to clear a backlog of paperwork or further process a patient, even though this is against the hospital's rules.\n\nA *favours* event occurs when a medical actor requests a test from a specific lab, and there is more than one lab available which is authorised to perform such a test. The event predicate specifies the request ID, requester, type of test, lab selected and labs overlooked. This allows statistics of favouritism to be generated, such as via the rateFavoured fluent, which records the number of times one lab was favoured out of the times that it was available. We also calculate the percentage of times a given lab was available out of all labs authorised to perform a given test.\n\nIn this notebook, we make use of a binomial test with a 5% significance level in order to assess whether the rate at which a lab is selected / favoured over other labs is unlikely given that we assume the rate of selection is related to the rate of availability.\n\nThis notebook contains predicates which are most relevant to a basic favouritism scenario. Many predicates, such as authorisation levels for doctors, nurses and other medical staff, have been left out to simplify this example.",
   "metadata": {
    "tags": [],
    "cell_id": "00001-f4ce9f9c-1a00-468a-940f-e491d2545f24",
    "deepnote_cell_type": "markdown"
   }
  },
  {
   "cell_type": "markdown",
   "source": "### Set up:",
   "metadata": {
    "tags": [],
    "is_collapsed": false,
    "cell_id": "00003-aeb9b483-ffb1-4465-98b0-1f1e7eb14f70",
    "deepnote_cell_type": "text-cell-h3"
   }
  },
  {
   "cell_type": "code",
   "metadata": {
    "tags": [],
    "deepnote_to_be_reexecuted": false,
    "source_hash": "377780b8",
    "execution_start": 1642722540143,
    "execution_millis": 47,
    "cell_id": "00002-3177066b-2900-4d12-abc4-b44fe0111663",
    "deepnote_cell_type": "code"
   },
   "source": "?- cd('~/work'), ['dec'].\n?- initialiseDEC.\n?- retractall(happensAtNarrative(_,_)).",
   "execution_count": null,
   "outputs": [
    {
     "name": "stdout",
     "text": "true.\nfalse.\ntrue.",
     "output_type": "stream"
    }
   ]
  },
  {
   "cell_type": "markdown",
   "source": "### Labs + Actors",
   "metadata": {
    "cell_id": "62a77933-286a-4013-bbc8-bf642252bc7a",
    "tags": [],
    "is_collapsed": false,
    "deepnote_cell_type": "text-cell-h3"
   }
  },
  {
   "cell_type": "markdown",
   "source": "Request events initiate requested fluents. A requested fluent is multi valued, and is set to NA until a response to the request has been received. Requests and responses in the same message chain have the same reference value. Requests have a type, such as **history** for a patient history request, or **HIV test**. **Patient** refers to the patient that the request concerns, while **Source** is the laboratory or other hospital which is asked for information. The medical actor who requests the test is the **Requester**.",
   "metadata": {
    "cell_id": "3c0e91c2-83b4-4709-908a-f1cd562fbb81",
    "tags": [],
    "deepnote_cell_type": "markdown"
   }
  },
  {
   "cell_type": "code",
   "metadata": {
    "tags": [],
    "deepnote_to_be_reexecuted": false,
    "source_hash": "5dc6b967",
    "execution_start": 1642722540193,
    "execution_millis": 17,
    "cell_id": "00006-c6f8d3c4-dd72-44bc-bcb2-35eb4f9c78e5",
    "deepnote_cell_type": "code"
   },
   "source": "% File: PatientCareProcedure.pl\n\n% History requests are not yet fulfilled by default. History grants answer history requests, and result messages answer test requests.\ninitiates(request(Reference,Type,Patient,Source,Requester),requested(Reference,Type,Patient,Source,Requester)='NA',_).\ninitiates(response(Reference,_,Source), requested(Reference,Type,Patient,Source,Requester)='ANS',T):- \nholdsAt(requested(Reference,Type,Patient,Source,Requester)='NA',T).",
   "execution_count": null,
   "outputs": [
    {
     "name": "stdout",
     "text": "",
     "output_type": "stream"
    }
   ]
  },
  {
   "cell_type": "markdown",
   "source": "We have three medical staff, **AW**, **EH** and **GG**, all of whom are initially available.",
   "metadata": {
    "cell_id": "e70e2dc3-2b14-4d17-8ad3-e14276f67111",
    "tags": [],
    "deepnote_cell_type": "markdown"
   }
  },
  {
   "cell_type": "code",
   "metadata": {
    "cell_id": "8f1656be-b467-4670-9dbf-1cc3f0d0ff3d",
    "tags": [],
    "deepnote_to_be_reexecuted": false,
    "source_hash": "6cbbb01d",
    "execution_start": 1642722540208,
    "execution_millis": 367,
    "deepnote_cell_type": "code"
   },
   "source": "% File: MedStaffNarrative.pl\n\n% Some starting staff members.\ninitially(medStaff('AW')=nurse).\ninitially(medStaff('EH')=nurse).\ninitially(medStaff('GG')=specialist).\ninitially(available('AW')).\ninitially(available('EH')).\ninitially(available('GG')).\n",
   "execution_count": null,
   "outputs": [
    {
     "name": "stdout",
     "text": "",
     "output_type": "stream"
    }
   ]
  },
  {
   "cell_type": "markdown",
   "source": "We also have three labs, **invercargill**, **wellington** and **otagoBlood**, all of whom are initially available. Each of these labs is certified by this hospital to perform HIV tests. (The details of test certifications will be covered in a separate notebook.) ",
   "metadata": {
    "cell_id": "9a16f41a-96b6-417e-bc51-590e4a67ff2c",
    "tags": [],
    "deepnote_cell_type": "markdown"
   }
  },
  {
   "cell_type": "code",
   "metadata": {
    "cell_id": "5078deda-4acc-4c87-816f-08458cdd92ab",
    "tags": [],
    "deepnote_to_be_reexecuted": false,
    "source_hash": "f9da08a7",
    "execution_start": 1642722540221,
    "execution_millis": 355,
    "deepnote_cell_type": "code"
   },
   "source": "% File: Labs.pl\ninitially(available(\"invercargill\")).\ninitially(available(\"wellington\")).\ninitially(available(\"otagoBlood\")).\n\ninitially(certified(\"otagoBlood\", 'HIV test',me)).\ninitially(certified(\"wellington\", 'HIV test',me)).\ninitially(certified(\"invercargill\", 'HIV test',me)).\n\ninitiates(certification(Lab,Test,Certifier), certified(Lab,Test,Certifier),_).\nterminates(revokeCertification(Lab,Test,Certifier), certified(Lab,Test,Certifier),_).",
   "execution_count": null,
   "outputs": [
    {
     "name": "stdout",
     "text": "",
     "output_type": "stream"
    }
   ]
  },
  {
   "cell_type": "markdown",
   "source": "Medical actors can clock on or off, changing whether or not they are available. Likewise, labratories can reconnect or withdraw their services from a hospital, affecting their availability.",
   "metadata": {
    "cell_id": "c19a9b54-1e6b-4626-99fa-b22441b78985",
    "tags": [],
    "deepnote_cell_type": "markdown"
   }
  },
  {
   "cell_type": "code",
   "metadata": {
    "cell_id": "686ce556-1b88-47cb-951f-cf8126a478b6",
    "tags": [],
    "deepnote_to_be_reexecuted": false,
    "source_hash": "343aa681",
    "execution_start": 1642722540252,
    "execution_millis": 325,
    "deepnote_cell_type": "code"
   },
   "source": "% File: Availability.pl\ninitiates(clockOn(Actor), available(Actor),_).\nterminates(clockOff(Actor), available(Actor),_).\ninitiates(reconnects(Lab), available(Lab),_).\nterminates(withdraws(Lab), available(Lab), _).",
   "execution_count": null,
   "outputs": [
    {
     "name": "stdout",
     "text": "",
     "output_type": "stream"
    }
   ]
  },
  {
   "cell_type": "markdown",
   "source": "### Narrative",
   "metadata": {
    "cell_id": "91b21ca0-2b33-4086-a00c-b82ef18ef416",
    "tags": [],
    "is_collapsed": false,
    "deepnote_cell_type": "text-cell-h3"
   }
  },
  {
   "cell_type": "markdown",
   "source": "In our narrative, a history request is made at time 1 by **GG**. HIV test requests to **otagoBlood** and **wellington** by **AW** and **EH** follow at time period 2. At time period 2, **wellington** withdraws, meaning that it is not available for future test requests from time period 3 and onwards until the lab reconnects. At time period 3, **invercargill** also withdraws. At time period 3, while **invercargill** is still available, **EH** sends the lab an HIV test request, and at time period 4, **GG** sends a test request to **otagoBlood**.\n\nAt time period 4, **wellington** and **invercargill** reconnect and are available for test requests again. At time period 5, **GG** sends 4 **HIV** tests for different patients, which are all sent to **otagoBlood**. \n\nAs patient history requests would be largely dictated by the patient's historic place of residence, we do not consider history requests in our favouritism calculations. For illustration purposes, all HIV test requests have been given a value of 1 here, although we would expect that a reference value would be unique to a particular message chain.",
   "metadata": {
    "cell_id": "f7ec70cf-adbf-430f-add5-833c8bb946ff",
    "tags": [],
    "deepnote_cell_type": "markdown"
   }
  },
  {
   "cell_type": "code",
   "metadata": {
    "tags": [],
    "deepnote_to_be_reexecuted": false,
    "source_hash": "d8eee3ba",
    "execution_start": 1642722540253,
    "execution_millis": 325,
    "cell_id": "00010-e9e58636-a2df-40aa-9924-fa61da266862",
    "deepnote_cell_type": "code"
   },
   "source": "% File: narrative.pl\nhappensAtNarrative(request(2,'history',123,\"wellington\", 'GG'),1).\n\nhappensAtNarrative(request(1, 'HIV test',123,\"otagoBlood\", 'AW'),2).\nhappensAtNarrative(request(1, 'HIV test',124,\"otagoBlood\", 'EH'),2).\nhappensAtNarrative(request(1, 'HIV test',126,\"otagoBlood\", 'EH'),2).\nhappensAtNarrative(request(1, 'HIV test',127,\"wellington\", 'EH'),2).\nhappensAtNarrative(withdraws(\"wellington\"),2).\n\nhappensAtNarrative(withdraws(\"invercargill\"),3).\nhappensAtNarrative(request(1, 'HIV test',127,\"invercargill\", 'EH'),3).\n\nhappensAtNarrative(request(1, 'HIV test',127,\"otagoBlood\", 'GG'),4).\nhappensAtNarrative(reconnects(\"wellington\"),4).\nhappensAtNarrative(reconnects(\"invercargill\"),4).\n\nhappensAtNarrative(request(1, 'HIV test',120,\"otagoBlood\", 'GG'),5).\nhappensAtNarrative(request(1, 'HIV test',121,\"otagoBlood\", 'GG'),5).\nhappensAtNarrative(request(1, 'HIV test',119,\"otagoBlood\", 'GG'),5).\nhappensAtNarrative(request(1, 'HIV test',118,\"otagoBlood\", 'GG'),5).",
   "execution_count": null,
   "outputs": [
    {
     "name": "stdout",
     "text": "",
     "output_type": "stream"
    }
   ]
  },
  {
   "cell_type": "markdown",
   "source": "A *favours* event occurs when a particular medical staff member chooses a particular lab to request a medical test from, and there is at least one other lab also available at the same time period which is authorised to perform the same test.",
   "metadata": {
    "cell_id": "7702f45b-8bc2-48b7-820e-be2816f9eb3b",
    "tags": [],
    "deepnote_cell_type": "markdown"
   }
  },
  {
   "cell_type": "markdown",
   "source": "### Favour predicates",
   "metadata": {
    "cell_id": "368165db-9500-4037-9ed1-4dbe370727d6",
    "tags": [],
    "is_collapsed": false,
    "deepnote_cell_type": "text-cell-h3"
   }
  },
  {
   "cell_type": "code",
   "metadata": {
    "cell_id": "c1929386-310c-4e9b-b204-6f62d7a868b6",
    "tags": [],
    "deepnote_to_be_reexecuted": false,
    "source_hash": "dac6eaf6",
    "execution_start": 1642722540256,
    "execution_millis": 324,
    "deepnote_cell_type": "code"
   },
   "source": "% File: favours.pl\n\nhappensAtNarrative(favours(Requester,Source, Others, Type, Reference),T):- happensAtNarrative(request(Reference,Type,Patient,Source,Requester),T), \nType \\= history, findall(Lab, (holdsAt(available(Lab),T), Lab \\== Source, holdsAt(certified(Lab,Type,me),T)), Others), Others \\= [].",
   "execution_count": null,
   "outputs": [
    {
     "name": "stdout",
     "text": "",
     "output_type": "stream"
    }
   ]
  },
  {
   "cell_type": "markdown",
   "source": "The favoured predicate records the number of favours events that have occurred for each combination of requester, source, overlooked labs, type of medical test and reference number. This allows us to check the favoured predicate for a given medical staff member, a particular series of messages, or other criteria.",
   "metadata": {
    "cell_id": "a4f40c87-43fa-474e-8eae-378c86b51149",
    "tags": [],
    "deepnote_cell_type": "markdown"
   }
  },
  {
   "cell_type": "code",
   "metadata": {
    "cell_id": "e244e026-bb19-4292-811a-c560745856d4",
    "tags": [],
    "deepnote_to_be_reexecuted": false,
    "source_hash": "2ef3f6d1",
    "execution_start": 1642722540290,
    "execution_millis": 292,
    "deepnote_cell_type": "code"
   },
   "source": "% File: favoured.pl\n\ninitiates(favours(Requester,Source, Others, Type, Reference), favoured(Requester,Source, Others, Type, Reference)=NewVal, T):- \n(holdsAt(favoured(Requester,Source, Others, Type, Reference)=OV,T) -> OldVal = OV; OldVal = 0), aggregate_all(count, \nhappensAtNarrative(favours(Requester,Source, Others, Type, Reference),T), Count), NewVal is OldVal + Count.",
   "execution_count": null,
   "outputs": [
    {
     "name": "stdout",
     "text": "",
     "output_type": "stream"
    }
   ]
  },
  {
   "cell_type": "markdown",
   "source": "The rateFavoured fluent records the rate at which a given requester (medical staff member) has favoured a particular lab in a test request over at least one other available lab. Due to favoured predicates existing for the same favoured lab but with different lists of overlooked labs, we store our solutions using *findall* and sort the resulting list in order to remove duplicate solutions. \n\nFor each case in which a given lab was favoured over other labs, we count up the number of times this lab was chosen over other labratories, and the number of times it was not picked.",
   "metadata": {
    "cell_id": "23fc3c61-5fc4-4a3e-b201-e6ec539303d2",
    "tags": [],
    "deepnote_cell_type": "markdown"
   }
  },
  {
   "cell_type": "code",
   "metadata": {
    "cell_id": "367b3557-c9d5-4792-badd-c7b2e005f698",
    "tags": [],
    "deepnote_to_be_reexecuted": false,
    "source_hash": "2f86524",
    "execution_start": 1642722540291,
    "execution_millis": 291,
    "deepnote_cell_type": "code"
   },
   "source": "% File: rateFavoured.pl\n\nholdsAt(rateFavoured(Requester, Source, Type, Reference,Success,Trials),T):- findall([S,Succ, Tr, Req, Ty, Ref], \n(holdsAt(favoured(Req,S, _, Ty, Ref)=_,T), setof(Pos, findall(ValN, (holdsAt(favoured(Req, S, _, Ty, Ref)=ValN,T)), Pos), P), P = [X], \nsumlist(X,Succ), setof(Neg, findall(ValM, (holdsAt(favoured(Req, Source2, List, Ty, Ref)=ValM,T), member(S, List), Source2 \\== S), Neg), N), \nN = [Y], sumlist(Y,NSum), Tr is Succ + NSum), FA), sort(FA,Z), member(M,Z), M = [Source, Success, Trials, Requester, Type, Reference].",
   "execution_count": null,
   "outputs": [
    {
     "name": "stdout",
     "text": "",
     "output_type": "stream"
    }
   ]
  },
  {
   "cell_type": "markdown",
   "source": "### Availability predicates",
   "metadata": {
    "cell_id": "64ad39e7-b5aa-470c-a883-fb096a5c4dd4",
    "tags": [],
    "is_collapsed": false,
    "deepnote_cell_type": "text-cell-h3"
   }
  },
  {
   "cell_type": "markdown",
   "source": "We record the number of times a given lab was available when a *favours* event takes place concerning our specified test. In the availabilityCount fluent, we include information on which lab was selected and which labs were available but not selected.\n\nThe availabilityPercent fluent records the percentage of total availability counts for a specific lab at out of all available labs' availability counts for the same medical actor, type of request and message reference.",
   "metadata": {
    "cell_id": "d938616e-4813-4a4b-b1de-9fd4a3a010f4",
    "tags": [],
    "deepnote_cell_type": "markdown"
   }
  },
  {
   "cell_type": "code",
   "metadata": {
    "tags": [],
    "deepnote_to_be_reexecuted": false,
    "source_hash": "c1ec7f75",
    "execution_start": 1642722540293,
    "execution_millis": 290,
    "cell_id": "00012-1976d80a-b99d-4bb2-ade1-aea57e0a9dca",
    "deepnote_cell_type": "code"
   },
   "source": "% File: availabilityCount.pl\n\ninitiates(favours(Requester,Source, _, Type, Reference), availabilityCount(Requester, Source, Type, Reference)=Count,T):- \n(holdsAt(availabilityCount(Requester, Source, Type, Reference)=OV,T) \n-> OldVal = OV; OldVal = 0), aggregate_all(count, happensAtNarrative(favours(Requester,Source, _, Type, Reference),T), Agg1), \naggregate_all(count, \n(happensAtNarrative(favours(Requester,_, Others, Type, Reference),T), member(Source, Others)), Agg2), Count is OldVal + Agg1 + Agg2.\n\ninitiates(favours(Requester,_, Others, Type, Reference), availabilityCount(Requester, Source,  Type, Reference)=Count,T):- member(Source, Others), \n(holdsAt(availabilityCount(Requester, Source, Type, Reference)=OV,T) -> OldVal = OV; OldVal = 0), \naggregate_all(count, happensAtNarrative(favours(Requester,Source, _, Type, Reference),T), Agg1), \naggregate_all(count, (happensAtNarrative(favours(Requester,_, Others2, Type, Reference),T), member(Source, Others2)), Agg2), \nCount is OldVal + Agg1 + Agg2.\n\nholdsAt(availabilityPercent(Requester, Source, Type, Reference,Percentage),T):- holdsAt(availabilityCount(Requester, Source,Type, Reference)=Count,T), \nfindall(Other, (holdsAt(availabilityCount(Requester, Source2,Type, Reference)=Other,T), Source2 \\= Source), OL), sumlist(OL,S), Count + S > 0, \nPercentage is Count / (Count + S).\n",
   "execution_count": null,
   "outputs": [
    {
     "name": "stdout",
     "text": "",
     "output_type": "stream"
    }
   ]
  },
  {
   "cell_type": "markdown",
   "source": "### Binomial test",
   "metadata": {
    "cell_id": "8e5c0390-d92e-4bd0-94a1-5b875897459f",
    "tags": [],
    "is_collapsed": false,
    "deepnote_cell_type": "text-cell-h3"
   }
  },
  {
   "cell_type": "markdown",
   "source": "In order to determine whether a doctor is unfairly favouring a lab over other available labs, we perform a binomial test. This requires some helper predicates for factorial calculations, generating a list from 0 to N and splitting a list.\n\nA binomial test involves calculating the cumulative probability of the actual number of successes, or a more extreme result under the given number of trials, and comparing this to a specified significance level (often 0.05). If the cumulative probability is greater than our siginficance level, we do not have evidence to reject the null hypothesis that the probability of success per trial is the same as specified. If the cumulative probability is less than the significance level, we have evidence to reject the null hypothesis.",
   "metadata": {
    "cell_id": "a525dff0-4cc4-4942-b119-0555a42e8836",
    "tags": [],
    "deepnote_cell_type": "markdown"
   }
  },
  {
   "cell_type": "code",
   "metadata": {
    "cell_id": "ba5f9d43-d5b2-48af-be99-2f531f590e3c",
    "tags": [],
    "deepnote_to_be_reexecuted": false,
    "source_hash": "652f59ee",
    "execution_start": 1642722540329,
    "execution_millis": 255,
    "deepnote_cell_type": "code"
   },
   "source": "% File: binomial.pl\n\n\n% Helper predicates:\n\nn_factorial(0, 1).\nn_factorial(N, F) :-\n        N > 0,\n        N1 is N - 1,\n        n_factorial(N1, F1),\n        F is N * F1.\n\n% Create list from N to zero\npred(0, [0]).\npred(N, [N|T]) :-\n    N > 0,\n    N1 is N-1,\n    pred(N1, T).\n\n% Create list from zero to N\npredRev(P,R):- pred(P, Res),reverse(R,Res).\n\n% Split the list into left and right sublists, where Index refers to the starting position of the right sublist.\nsplit(Index, List, Left, Right):- length(Left, Index), append(Left, Right, List).\n\n% Probability of X Successes out of Tr Trials given a probability of success per trial of P:\np_binom(X,P,Tr,Ans):- P1 is 1 - P, n_factorial(Tr,FacN), n_factorial(X,FacX), Dif is Tr - X, n_factorial(Dif, FacDif), \nAns is FacN*P^X*P1^Dif/(FacDif*FacX).\n\n% Cumulative Probability of either less than or equal to / greater than or equal to X successes out of Tr trials.\n% Specifying Dir = high will give the upper tail probability, while any other value for Dir will give the lower tail probability.\np_cumul_binom(X, P, Tr, Dir, Ans):- findall(Prob, (predRev(Tr,R), member(M,R), p_binom(M,P,Tr,Prob)),Res), \n(Dir = high -> split(X,Res,_,Group) ; (X1 is X + 1, split(X1, Res, Group, _))), sumlist(Group, Ans).",
   "execution_count": null,
   "outputs": [
    {
     "name": "stdout",
     "text": "",
     "output_type": "stream"
    }
   ]
  },
  {
   "cell_type": "markdown",
   "source": "The sigDif fluent represents whether the rate at which a particular lab is favoured is significant under a 0.05 significance level, given the percentage of time that lab was available compared to other labs. We perform a one-sided binomial test by comparing the cumulative probabilities of X successful trials, or a more extreme result, and compare that to our significance level.",
   "metadata": {
    "cell_id": "df8f94e9-82dd-47cd-b2c9-738fa8f168ee",
    "tags": [],
    "deepnote_cell_type": "markdown"
   }
  },
  {
   "cell_type": "code",
   "metadata": {
    "cell_id": "f7a91118-9b32-4f52-a004-83772daa4959",
    "tags": [],
    "deepnote_to_be_reexecuted": false,
    "source_hash": "f86f9cb2",
    "execution_start": 1642722540331,
    "execution_millis": 253,
    "deepnote_cell_type": "code"
   },
   "source": "% File: significantDifference.pl\nholdsAt(sigDif(Requester, Source, Type, Reference, Dir, Prob, Result),T):- holdsAt(availabilityPercent(Requester, Source, Type, Reference,Percentage),T), \nholdsAt(rateFavoured(Requester, Source, Type, Reference,Successes,Trials),T), Half is Trials / 2, (Successes > Half -> Dir = high; Dir = low), \np_cumul_binom(Successes,Percentage,Trials,Dir,Prob), ((Prob < 0.05) -> Result = \"significant\" ; Result = \"not significant\").",
   "execution_count": null,
   "outputs": [
    {
     "name": "stdout",
     "text": "",
     "output_type": "stream"
    }
   ]
  },
  {
   "cell_type": "markdown",
   "source": "### History Request",
   "metadata": {
    "cell_id": "26526fa7-ace3-45f9-b025-c12710f6219e",
    "tags": [],
    "is_collapsed": false,
    "deepnote_cell_type": "text-cell-h3"
   }
  },
  {
   "cell_type": "markdown",
   "source": "At T = 1, **GG** makes a history request for patient 123 to **wellington**. As history requests are excluded from the *favours* predicate, the request event does not also cause a *favours* event to occur.",
   "metadata": {
    "cell_id": "75a87fde-3dbd-40f4-8add-61ff5085c55a",
    "tags": [],
    "deepnote_cell_type": "markdown"
   }
  },
  {
   "cell_type": "code",
   "metadata": {
    "tags": [],
    "deepnote_to_be_reexecuted": false,
    "source_hash": "86c4e403",
    "execution_start": 1642722540331,
    "execution_millis": 253,
    "cell_id": "00018-bff58b50-357a-4a7b-b949-42f05ecba902",
    "deepnote_cell_type": "code"
   },
   "source": "?- tick(0).\n?- tick(1).\n?- happensAt(E,1).\n?- happensAt(favours(Requester,Source, Others, Type, Reference),1).",
   "execution_count": null,
   "outputs": [
    {
     "name": "stdout",
     "text": "true.\ntrue.\nE = request(2, history, 123, b'wellington', GG) .\nfalse.",
     "output_type": "stream"
    }
   ]
  },
  {
   "cell_type": "markdown",
   "source": "### Duplicate events",
   "metadata": {
    "cell_id": "9b4e5682-e27b-442a-810f-9f4a549d2f7b",
    "tags": [],
    "is_collapsed": false,
    "deepnote_cell_type": "text-cell-h3"
   }
  },
  {
   "cell_type": "markdown",
   "source": "At T = 2, each of the four HIV tests that occur cause a *favours* event to also take place, as an HIV test is a valid request for the *favours* predicate, and more than one lab is available to perform an HIV test at this point. ",
   "metadata": {
    "cell_id": "bb64f38a-d619-4e42-bda4-cda961ef064a",
    "tags": [],
    "deepnote_cell_type": "markdown"
   }
  },
  {
   "cell_type": "code",
   "metadata": {
    "tags": [],
    "deepnote_to_be_reexecuted": false,
    "source_hash": "b833c1f3",
    "execution_start": 1642722540337,
    "execution_millis": 249,
    "cell_id": "00020-7b3e385e-7ba9-4362-957e-80c8e7e0a0e6",
    "deepnote_cell_type": "code"
   },
   "source": "?- tick(2).\n?- happensAt(X,2).\n",
   "execution_count": null,
   "outputs": [
    {
     "name": "stdout",
     "text": "true.\nX = request(1, HIV test, 123, b'otagoBlood', AW) ;\nX = request(1, HIV test, 124, b'otagoBlood', EH) ;\nX = request(1, HIV test, 126, b'otagoBlood', EH) ;\nX = request(1, HIV test, 127, b'wellington', EH) ;\nX = withdraws(b'wellington') ;\nX = favours(AW, b'otagoBlood', [b'invercargill', b'wellington'], HIV test, 1) ;\nX = favours(EH, b'otagoBlood', [b'invercargill', b'wellington'], HIV test, 1) ;\nX = favours(EH, b'otagoBlood', [b'invercargill', b'wellington'], HIV test, 1) ;\nX = favours(EH, b'wellington', [b'invercargill', b'otagoBlood'], HIV test, 1) .",
     "output_type": "stream"
    }
   ]
  },
  {
   "cell_type": "markdown",
   "source": "At T=3, three *favoured* predicates hold, which were initiated at the previous time period. **AW** favoured **otagoBlood** over **invercargill** and **wellington** once, while **EH** favoured **wellington** over the other two labs once, and **otagoBlood** over the other labs twice. Note that the two favours events for **EH** and **otagoBlood** are combined into one *favoured* fluent with a Count value of 2.\n\nAs shown by the rateFavoured predicate, **otagoBlood** was selected once out of one trials by **AW** for an **HIV test** with a reference value of **1**. **otagoBlood** was selected 2 times out of 3 by **EH** for an **HIV test** with a reference of 1.",
   "metadata": {
    "cell_id": "46d49f13-ea0f-4e8d-86aa-c1a026099353",
    "tags": [],
    "deepnote_cell_type": "markdown"
   }
  },
  {
   "cell_type": "code",
   "metadata": {
    "tags": [],
    "deepnote_to_be_reexecuted": false,
    "source_hash": "3d43917e",
    "execution_start": 1642722540388,
    "execution_millis": 199,
    "cell_id": "00022-791edcf0-6fc8-4a09-98c6-f4529ae00845",
    "deepnote_cell_type": "code"
   },
   "source": "?- tick(3).\n?- holdsAt(favoured(Requester,Source, Others, Type, Reference)=Count,3).\n?- holdsAt(rateFavoured(Requester, Source, Type, Reference,Success,Trials),3).",
   "execution_count": null,
   "outputs": [
    {
     "name": "stdout",
     "text": "true.\nRequester = AW, Source = b'otagoBlood', Others = [ b'invercargill', b'wellington' ], Type = HIV test, Reference = 1, Count = 1 ;\nRequester = EH, Source = b'otagoBlood', Others = [ b'invercargill', b'wellington' ], Type = HIV test, Reference = 1, Count = 2 ;\nRequester = EH, Source = b'wellington', Others = [ b'invercargill', b'otagoBlood' ], Type = HIV test, Reference = 1, Count = 1 .\nRequester = AW, Source = b'otagoBlood', Type = HIV test, Reference = 1, Success = 1, Trials = 1 ;\nRequester = EH, Source = b'otagoBlood', Type = HIV test, Reference = 1, Success = 2, Trials = 3 ;\nRequester = EH, Source = b'wellington', Type = HIV test, Reference = 1, Success = 1, Trials = 3 .",
     "output_type": "stream"
    }
   ]
  },
  {
   "cell_type": "markdown",
   "source": "Considering the test request made by **AW** at time period 2, we know that all three labs were available and certified for HIV tests. Thus, considering only this time period, and only requests made by **AW**, **invercargill**, **otagoBlood** and **wellington** were all available for 33% of the total availability across all labs. Likwise, all labs were equally available during requests made by **EH**, so each have an availability percentage of 33%. ",
   "metadata": {
    "cell_id": "ffbee100-2b33-46ec-9f7b-c9d94e3d8b7a",
    "tags": [],
    "deepnote_cell_type": "markdown"
   }
  },
  {
   "cell_type": "code",
   "metadata": {
    "cell_id": "1e5da910-cad2-4b83-9ad9-208496ff2110",
    "tags": [],
    "deepnote_to_be_reexecuted": false,
    "source_hash": "5f4a7b0d",
    "execution_start": 1642722540389,
    "execution_millis": 199,
    "deepnote_cell_type": "code"
   },
   "source": "?- holdsAt(availabilityPercent(Requester, Source, Type, Reference,Percentage),3).\n?- holdsAt(availabilityCount(Requester, Source, Type, Reference)=Count,3).",
   "execution_count": null,
   "outputs": [
    {
     "name": "stdout",
     "text": "Requester = AW, Source = b'otagoBlood', Type = HIV test, Reference = 1, Percentage = 0.3333333333333333 ;\nRequester = AW, Source = b'invercargill', Type = HIV test, Reference = 1, Percentage = 0.3333333333333333 ;\nRequester = AW, Source = b'wellington', Type = HIV test, Reference = 1, Percentage = 0.3333333333333333 ;\nRequester = EH, Source = b'otagoBlood', Type = HIV test, Reference = 1, Percentage = 0.3333333333333333 ;\nRequester = EH, Source = b'invercargill', Type = HIV test, Reference = 1, Percentage = 0.3333333333333333 ;\nRequester = EH, Source = b'wellington', Type = HIV test, Reference = 1, Percentage = 0.3333333333333333 .\nRequester = AW, Source = b'otagoBlood', Type = HIV test, Reference = 1, Count = 1 ;\nRequester = AW, Source = b'invercargill', Type = HIV test, Reference = 1, Count = 1 ;\nRequester = AW, Source = b'wellington', Type = HIV test, Reference = 1, Count = 1 ;\nRequester = EH, Source = b'otagoBlood', Type = HIV test, Reference = 1, Count = 3 ;\nRequester = EH, Source = b'invercargill', Type = HIV test, Reference = 1, Count = 3 ;\nRequester = EH, Source = b'wellington', Type = HIV test, Reference = 1, Count = 3 .",
     "output_type": "stream"
    }
   ]
  },
  {
   "cell_type": "markdown",
   "source": "### Unequal percentages",
   "metadata": {
    "cell_id": "50b7712e-17af-4ed2-99f1-f8e3063cba1b",
    "tags": [],
    "is_collapsed": false,
    "deepnote_cell_type": "text-cell-h3"
   }
  },
  {
   "cell_type": "markdown",
   "source": "At T = 3, **EH** requests an HIV test from **invercargill**. This creates a *favours* event, as **otagoBlood** is also available and able to perform this test.",
   "metadata": {
    "cell_id": "b9635556-d015-4b3b-8915-bbbc68b8891d",
    "tags": [],
    "deepnote_cell_type": "markdown"
   }
  },
  {
   "cell_type": "code",
   "metadata": {
    "cell_id": "a5e0ee11-c4c7-4747-bfee-adf0b5ab5e3c",
    "tags": [],
    "deepnote_to_be_reexecuted": false,
    "source_hash": "beb9a8ce",
    "execution_start": 1642722540419,
    "execution_millis": 0,
    "deepnote_cell_type": "code"
   },
   "source": "?- happensAt(X,3).",
   "execution_count": null,
   "outputs": [
    {
     "name": "stdout",
     "text": "X = withdraws(b'invercargill') ;\nX = request(1, HIV test, 127, b'invercargill', EH) ;\nX = favours(EH, b'invercargill', [b'otagoBlood'], HIV test, 1) .",
     "output_type": "stream"
    }
   ]
  },
  {
   "cell_type": "markdown",
   "source": "**wellington** has now been available for three requests made by **EH**, while the other labs have been available for four.",
   "metadata": {
    "cell_id": "84eb8368-c368-4d20-84e8-33736c872c05",
    "tags": [],
    "deepnote_cell_type": "markdown"
   }
  },
  {
   "cell_type": "code",
   "metadata": {
    "cell_id": "b8003bfb-e467-426a-b98e-c7c44b8a2ca5",
    "tags": [],
    "deepnote_to_be_reexecuted": false,
    "source_hash": "8fcb0242",
    "execution_start": 1642722540420,
    "execution_millis": 169,
    "deepnote_cell_type": "code"
   },
   "source": "?- tick(4).\n?- holdsAt(availabilityCount('EH', Source, _, _)=Count,4).",
   "execution_count": null,
   "outputs": [
    {
     "name": "stdout",
     "text": "true.\nSource = b'wellington', Count = 3 ;\nSource = b'invercargill', Count = 4 ;\nSource = b'otagoBlood', Count = 4 .",
     "output_type": "stream"
    }
   ]
  },
  {
   "cell_type": "markdown",
   "source": "While the availability percentages remain at 33% for requests made by **AW**, the percentages for requests made by **EH** have adjusted, with the values for **invercargill** and **otagoBlood** slightly higher than for **wellington**. A total of 11 lab availabilities have taken place, 4 each for **otagoBlood** and **invercargill**, and 3 for **wellington**. 3 / 11 = 0.272 and 4 / 11 = 0.364.",
   "metadata": {
    "cell_id": "0ff03d62-5ef5-460a-a1ab-aaa67929d10f",
    "tags": [],
    "deepnote_cell_type": "markdown"
   }
  },
  {
   "cell_type": "code",
   "metadata": {
    "cell_id": "cea3e3d5-58f9-414c-ba07-3669a6b4929f",
    "tags": [],
    "deepnote_to_be_reexecuted": false,
    "source_hash": "372c68a8",
    "execution_start": 1642722540450,
    "execution_millis": 1,
    "deepnote_cell_type": "code"
   },
   "source": "?- holdsAt(availabilityPercent(Requester, Source, Type, Reference,Percentage),4).",
   "execution_count": null,
   "outputs": [
    {
     "name": "stdout",
     "text": "Requester = AW, Source = b'otagoBlood', Type = HIV test, Reference = 1, Percentage = 0.3333333333333333 ;\nRequester = AW, Source = b'invercargill', Type = HIV test, Reference = 1, Percentage = 0.3333333333333333 ;\nRequester = AW, Source = b'wellington', Type = HIV test, Reference = 1, Percentage = 0.3333333333333333 ;\nRequester = EH, Source = b'wellington', Type = HIV test, Reference = 1, Percentage = 0.2727272727272727 ;\nRequester = EH, Source = b'invercargill', Type = HIV test, Reference = 1, Percentage = 0.36363636363636365 ;\nRequester = EH, Source = b'otagoBlood', Type = HIV test, Reference = 1, Percentage = 0.36363636363636365 .",
     "output_type": "stream"
    }
   ]
  },
  {
   "cell_type": "markdown",
   "source": "The rate at which labs are favoured has also been adjusted accordingly:",
   "metadata": {
    "cell_id": "44e4b553-e18b-48fc-bcc3-d1730e6b42a1",
    "tags": [],
    "deepnote_cell_type": "markdown"
   }
  },
  {
   "cell_type": "code",
   "metadata": {
    "cell_id": "a53702fa-f5fb-4a47-97f7-5786944c987b",
    "tags": [],
    "deepnote_to_be_reexecuted": false,
    "source_hash": "26d272ed",
    "execution_start": 1642722540454,
    "execution_millis": 136,
    "deepnote_cell_type": "code"
   },
   "source": "?- holdsAt(rateFavoured(Requester, Source, Type, Reference,Success,Trials),4).",
   "execution_count": null,
   "outputs": [
    {
     "name": "stdout",
     "text": "Requester = EH, Source = b'invercargill', Type = HIV test, Reference = 1, Success = 1, Trials = 4 ;\nRequester = AW, Source = b'otagoBlood', Type = HIV test, Reference = 1, Success = 1, Trials = 1 ;\nRequester = EH, Source = b'otagoBlood', Type = HIV test, Reference = 1, Success = 2, Trials = 4 ;\nRequester = EH, Source = b'wellington', Type = HIV test, Reference = 1, Success = 1, Trials = 3 .",
     "output_type": "stream"
    }
   ]
  },
  {
   "cell_type": "markdown",
   "source": "### Statistical analysis",
   "metadata": {
    "cell_id": "a224ad32-e2f3-466e-9eb6-a6669d8bee49",
    "tags": [],
    "is_collapsed": false,
    "deepnote_cell_type": "text-cell-h3"
   }
  },
  {
   "cell_type": "markdown",
   "source": "We now wish to determine whether the number of times each lab was favoured by a specified actor is likely given the percentage of time the lab was available, if we assume a medical actor is equally likely to chose any of the suitable available labs at any given time.\n\nLet us examine the case in which **EH** favours **otagoBlood** 2 times out of 4. According to our *availabilityPercent* fluent, **otagoBlood** was available 36.4% of the time. We wish to know whether a success rate of 2 out of 4 is likely given a probability of 36.4% of selection under each trial.\n\nWe find that the cumulative probability of 2 or less successes out of 4 is 0.86 under a binomial distribution, which is much greater than a significance level of 0.05. Therefore, the fact that **EH** selected **otagoBlood** 50% of the time out of 4 trials is not evidence to suggest that **EH** is unfairly favouring **otagoBlood** over the other labs.",
   "metadata": {
    "cell_id": "a8faf95b-c516-4f71-aad4-fa09386576a6",
    "tags": [],
    "deepnote_cell_type": "markdown"
   }
  },
  {
   "cell_type": "code",
   "metadata": {
    "cell_id": "e4ba3902-ed55-4968-8974-2ef0ea6c6977",
    "tags": [],
    "deepnote_to_be_reexecuted": false,
    "source_hash": "b34804b1",
    "execution_start": 1642722540456,
    "execution_millis": 134,
    "deepnote_cell_type": "code"
   },
   "source": "?- p_cumul_binom(2, 0.36363636363636, 4, low, Ans).",
   "execution_count": null,
   "outputs": [
    {
     "name": "stdout",
     "text": "Ans = 0.8601188443412372 .",
     "output_type": "stream"
    }
   ]
  },
  {
   "cell_type": "markdown",
   "source": "We can use the *sigDif* fluent to perform the one sided binomial test for us, automatically choosing which side test we wish to perform (whether we consider more extreme values to be higher or lower than the actual number of successes). The result confirms that a cumulative probability of 0.86 is not evidence to suggest **EH** is unfairly favouring **otagoBlood** over other labs. ",
   "metadata": {
    "cell_id": "ba7a0bd8-45e7-48e6-bb47-5dc9af20b364",
    "tags": [],
    "deepnote_cell_type": "markdown"
   }
  },
  {
   "cell_type": "code",
   "metadata": {
    "cell_id": "7de15815-f0a1-4216-b64e-a38e7e813107",
    "tags": [],
    "deepnote_to_be_reexecuted": false,
    "source_hash": "3b0cc5c2",
    "execution_start": 1642722540459,
    "execution_millis": 131,
    "deepnote_cell_type": "code"
   },
   "source": "?- holdsAt(sigDif('EH', \"otagoBlood\", Type, Reference, Dir, Prob, Result),4).",
   "execution_count": null,
   "outputs": [
    {
     "name": "stdout",
     "text": "Type = HIV test, Reference = 1, Dir = low, Prob = 0.8601188443412334, Result = b'not significant' .",
     "output_type": "stream"
    }
   ]
  },
  {
   "cell_type": "markdown",
   "source": "### Singular lab available",
   "metadata": {
    "cell_id": "5a436d69-e0e8-4e11-88ee-5f2e5993fb9d",
    "tags": [],
    "is_collapsed": false,
    "deepnote_cell_type": "text-cell-h3"
   }
  },
  {
   "cell_type": "markdown",
   "source": "At T = 4, an HIV test request is sent to **otagoBlood** by **GG**. At this point, **otagoBlood** is the only lab available which is authorised to perform this test, so a *favours* event does not occur. **Wellington** and **invercargill** reconnect to be available from the next time period. ",
   "metadata": {
    "cell_id": "bb6dae94-9b22-44bd-801c-ee55bde4095e",
    "tags": [],
    "deepnote_cell_type": "markdown"
   }
  },
  {
   "cell_type": "code",
   "metadata": {
    "cell_id": "42a58888-53b1-4d93-b73b-4c75b6cc6131",
    "tags": [],
    "deepnote_to_be_reexecuted": false,
    "source_hash": "2b2ad75b",
    "execution_start": 1642722540503,
    "execution_millis": 88,
    "deepnote_cell_type": "code"
   },
   "source": "?- happensAt(X,4).\n?- holdsAt(available(A),4), \\+ holdsAt(medStaff(A)=_,4).",
   "execution_count": null,
   "outputs": [
    {
     "name": "stdout",
     "text": "X = request(1, HIV test, 127, b'otagoBlood', GG) ;\nX = reconnects(b'wellington') ;\nX = reconnects(b'invercargill') .\nA = b'otagoBlood' .",
     "output_type": "stream"
    }
   ]
  },
  {
   "cell_type": "markdown",
   "source": "### Significant event",
   "metadata": {
    "cell_id": "72087a34-2a68-4303-9267-b6e033a8960b",
    "tags": [],
    "is_collapsed": false,
    "deepnote_cell_type": "text-cell-h3"
   }
  },
  {
   "cell_type": "markdown",
   "source": "At T = 5, four *favours* events take place corresponding to 4 *request* events.",
   "metadata": {
    "cell_id": "c4f745e3-8610-4988-a307-005812c52926",
    "tags": [],
    "deepnote_cell_type": "markdown"
   }
  },
  {
   "cell_type": "code",
   "metadata": {
    "cell_id": "b666d9d0-27ae-44c7-9272-e90953cef70a",
    "tags": [],
    "deepnote_to_be_reexecuted": false,
    "source_hash": "6819fe90",
    "execution_start": 1642722540504,
    "execution_millis": 88,
    "deepnote_cell_type": "code"
   },
   "source": "?- tick(5).\n?- happensAt(X,5).",
   "execution_count": null,
   "outputs": [
    {
     "name": "stdout",
     "text": "true.\nX = request(1, HIV test, 120, b'otagoBlood', GG) ;\nX = request(1, HIV test, 121, b'otagoBlood', GG) ;\nX = request(1, HIV test, 119, b'otagoBlood', GG) ;\nX = request(1, HIV test, 118, b'otagoBlood', GG) ;\nX = favours(GG, b'otagoBlood', [b'wellington', b'invercargill'], HIV test, 1) ;\nX = favours(GG, b'otagoBlood', [b'wellington', b'invercargill'], HIV test, 1) ;\nX = favours(GG, b'otagoBlood', [b'wellington', b'invercargill'], HIV test, 1) ;\nX = favours(GG, b'otagoBlood', [b'wellington', b'invercargill'], HIV test, 1) .",
     "output_type": "stream"
    }
   ]
  },
  {
   "cell_type": "markdown",
   "source": "They lead to a new *favoured* fluent holding, and the *rateFavoured* fluent shows that **GG** selected **otagoBlood** over the other labs four times out of four. The availability percentages for all three labs is equal at one third.",
   "metadata": {
    "cell_id": "e688a12e-a71a-4d49-82af-473fc0819da0",
    "tags": [],
    "deepnote_cell_type": "markdown"
   }
  },
  {
   "cell_type": "code",
   "metadata": {
    "cell_id": "75a646e6-621d-4235-ba94-ee5e0108dd46",
    "tags": [],
    "deepnote_to_be_reexecuted": false,
    "source_hash": "e99e44e2",
    "execution_start": 1642722540505,
    "execution_millis": 87,
    "deepnote_cell_type": "code"
   },
   "source": "?- tick(6).\n?- holdsAt(favoured('GG',Source, Others, Type, Reference)=Count,6).\n?- holdsAt(rateFavoured('GG', Source, Type, Reference,Success,Trials),6).\n?- holdsAt(availabilityPercent('GG', Source, Type, Reference,Percentage),6).",
   "execution_count": null,
   "outputs": [
    {
     "name": "stdout",
     "text": "true.\nSource = b'otagoBlood', Others = [ b'wellington', b'invercargill' ], Type = HIV test, Reference = 1, Count = 4 .\nSource = b'otagoBlood', Type = HIV test, Reference = 1, Success = 4, Trials = 4 .\nSource = b'otagoBlood', Type = HIV test, Reference = 1, Percentage = 0.3333333333333333 ;\nSource = b'wellington', Type = HIV test, Reference = 1, Percentage = 0.3333333333333333 ;\nSource = b'invercargill', Type = HIV test, Reference = 1, Percentage = 0.3333333333333333 .",
     "output_type": "stream"
    }
   ]
  },
  {
   "cell_type": "markdown",
   "source": "We find that **otagoBlood** being selected 4 times out of 4 when we expect it to be selected with a probability of 1/3 at each trial is unlikely if the probability is correct. The probability of all 4 of the trials being successes is 0.0123, which is less than our significance level of 0.05. We thus have evidence against our null hypothesis that **otagoBlood** is selected with a probability of 1/3 at each trial, and we suspect that **GG** is not choosing labs equally / fairly. ",
   "metadata": {
    "cell_id": "58b825de-b97a-42a5-b982-2ffcef3dc5ba",
    "tags": [],
    "deepnote_cell_type": "markdown"
   }
  },
  {
   "cell_type": "code",
   "metadata": {
    "cell_id": "ec697ca6-b688-4a75-8774-bd2a788fe06a",
    "tags": [],
    "deepnote_to_be_reexecuted": false,
    "source_hash": "cec747e0",
    "execution_start": 1642722540509,
    "execution_millis": 84,
    "deepnote_cell_type": "code"
   },
   "source": "?- holdsAt(sigDif('GG', \"otagoBlood\", Type, Reference, Dir, Prob, Result),6).",
   "execution_count": null,
   "outputs": [
    {
     "name": "stdout",
     "text": "Type = HIV test, Reference = 1, Dir = high, Prob = 0.012345679012345677, Result = b'significant' .",
     "output_type": "stream"
    }
   ]
  },
  {
   "cell_type": "markdown",
   "source": "Of course, it may be more convenient for a doctor to send a batch of test requests to one lab at a particular lab, or one lab may be more geographically handy for sending in physical samples. In any case, we should not put too much stock in results from only a few test request occurrences. Nevertheless, we can see how a binomial test could be used to flag unlikely or unusual patterns of activity that may warrant further investigation. We would not be concerned so much with one lab being favoured overall amongst doctors, but one doctor heavily favouring a lab that is not widely used by others.",
   "metadata": {
    "cell_id": "4fe34470-12c0-4f9e-b0d9-fd859d7153ee",
    "tags": [],
    "deepnote_cell_type": "markdown"
   }
  },
  {
   "cell_type": "markdown",
   "source": "### Statistical summaries",
   "metadata": {
    "cell_id": "e4271e37-7381-47b5-9400-a3cb72083e0f",
    "tags": [],
    "is_collapsed": false,
    "deepnote_cell_type": "text-cell-h3"
   }
  },
  {
   "cell_type": "markdown",
   "source": "The favoured and availability predicates above are specialised to particular medical actors, laboratories, message references and test request types. As well as being able to view statistics for specialised groups, we want to be able to calculate success rates and levels of favouritism in general, such as calculating the rate at which one lab is favoured across all doctors, and comparing this to the rate of favouritism by a specific doctor. ",
   "metadata": {
    "cell_id": "b88264ef-2296-4eb4-8d57-1e91bef29bdf",
    "tags": [],
    "deepnote_cell_type": "markdown"
   }
  },
  {
   "cell_type": "markdown",
   "source": "The following helper functions allow us to sum counts for a given category in a list, and could be useful for calculating more general statistics.\n",
   "metadata": {
    "cell_id": "04b80b02-34f7-46fa-944d-6a8a9b157a93",
    "tags": [],
    "deepnote_cell_type": "markdown"
   }
  },
  {
   "cell_type": "code",
   "metadata": {
    "cell_id": "5e5d679f-3a39-4457-ac03-d0fca720c4fc",
    "tags": [],
    "deepnote_to_be_reexecuted": false,
    "source_hash": "f35ccf13",
    "execution_start": 1642722540550,
    "execution_millis": 43,
    "deepnote_cell_type": "code"
   },
   "source": "% File: groupSum.pl\nkey_filter(Key,Key-_).\nfilterSum(Filter, List, Sum):- include(key_filter(Filter), List, Filtered), maplist([_-N,N]>>true, Filtered, Nums), sumlist(Nums, Sum).\ngroupSum(List, SumList):- findall(Prefix, (member(M,List), M = Prefix-Num), P), sort(P,S), findall(N-Sum, (member(N, S), filterSum(N, List, Sum)), SumList).\n",
   "execution_count": null,
   "outputs": [
    {
     "name": "stdout",
     "text": "",
     "output_type": "stream"
    }
   ]
  },
  {
   "cell_type": "code",
   "metadata": {
    "cell_id": "f1935bc7-5c47-4752-9c7d-dba0abe8bb31",
    "tags": [],
    "deepnote_to_be_reexecuted": false,
    "source_hash": "b856a915",
    "execution_start": 1642722540551,
    "execution_millis": 43,
    "deepnote_cell_type": "code"
   },
   "source": "?- L = [a-1, a-4, b-2, b-9, c-22, d-11, c-16], filterSum(a, L, S).\n?- L = [a-1, a-4, b-2, b-9, c-22, d-11, c-16], groupSum(L, S).",
   "execution_count": null,
   "outputs": [
    {
     "name": "stdout",
     "text": "L = [ a-1, a-4, b-2, b-9, c-22, d-11, c-16 ], S = 5 .\nL = [ a-1, a-4, b-2, b-9, c-22, d-11, c-16 ], S = [ a-5, b-11, c-38, d-11 ] .",
     "output_type": "stream"
    }
   ]
  },
  {
   "cell_type": "markdown",
   "source": "It is possible to declare the behaviour of a keyword **all** in specific scenarios which creates more generalised statistics. In the example below, we calculate availability counts based on the medical actor requester, test type and message reference, but not specialised to a particular lab. While this example is functional, the behaviour of **all** cannot currently be easily applied to any other given fluent.",
   "metadata": {
    "cell_id": "d0565bc3-98ff-4959-8e1f-6cb95e1f836d",
    "tags": [],
    "deepnote_cell_type": "markdown"
   }
  },
  {
   "cell_type": "code",
   "metadata": {
    "cell_id": "7d1d43b1-f8fc-419c-a8dd-d1cf8f0dd38c",
    "tags": [],
    "deepnote_to_be_reexecuted": false,
    "source_hash": "359c0e34",
    "execution_start": 1642722540552,
    "execution_millis": 43,
    "deepnote_cell_type": "code"
   },
   "source": "holdsAt(availabilityCountSummary(Requester2, all, Type2, Reference2, Count2),T):-findall(Requester-Type-Reference-Count, \nholdsAt(availabilityCount(Requester, _, Type, Reference)=Count,T), Test), findall(Prefix, (member(M,Test), M = Prefix-Num), P), sort(P,S), \nfindall(N-Sum, (member(N, S), filterSum(N, Test, Sum)), SumList), member(O,SumList), O = Requester2-Type2-Reference2-Count2.",
   "execution_count": null,
   "outputs": [
    {
     "name": "stdout",
     "text": "",
     "output_type": "stream"
    }
   ]
  },
  {
   "cell_type": "markdown",
   "source": "We firstly view the individualised availability counts, and then with the source lab information removed:",
   "metadata": {
    "cell_id": "2e844d23-0832-4fd2-bcb6-a13ca29f893b",
    "tags": [],
    "is_collapsed": false,
    "deepnote_cell_type": "text-cell-p"
   }
  },
  {
   "cell_type": "code",
   "metadata": {
    "cell_id": "0ac773da-77c7-4054-bfd4-6f29bc2dd104",
    "tags": [],
    "deepnote_to_be_reexecuted": false,
    "source_hash": "dc668e7c",
    "execution_start": 1642722572564,
    "execution_millis": 1858,
    "deepnote_cell_type": "code"
   },
   "source": "?- holdsAt(availabilityCount(Req, Source, Type, Ref)=Count, 3).\n?- holdsAt(availabilityCountSummary(Req, _, Type, Ref,Count), 3).",
   "execution_count": null,
   "outputs": [
    {
     "name": "stdout",
     "text": "Req = AW, Source = b'otagoBlood', Type = HIV test, Ref = 1, Count = 1 ;\nReq = AW, Source = b'invercargill', Type = HIV test, Ref = 1, Count = 1 ;\nReq = AW, Source = b'wellington', Type = HIV test, Ref = 1, Count = 1 ;\nReq = EH, Source = b'otagoBlood', Type = HIV test, Ref = 1, Count = 3 ;\nReq = EH, Source = b'invercargill', Type = HIV test, Ref = 1, Count = 3 ;\nReq = EH, Source = b'wellington', Type = HIV test, Ref = 1, Count = 3 .\nReq = AW, Type = HIV test, Ref = 1, Count = 3 ;\nReq = EH, Type = HIV test, Ref = 1, Count = 9 .",
     "output_type": "stream"
    }
   ]
  },
  {
   "cell_type": "markdown",
   "source": "<a style='text-decoration:none;line-height:16px;display:flex;color:#5B5B62;padding:10px;justify-content:end;' href='https://deepnote.com?utm_source=created-in-deepnote-cell&projectId=1527cc64-36a2-4b35-bd8b-8d493ca554fa' target=\"_blank\">\n<img alt='Created in deepnote.com' style='display:inline;max-height:16px;margin:0px;margin-right:7.5px;' src='data:image/svg+xml;base64,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' > </img>\nCreated in <span style='font-weight:600;margin-left:4px;'>Deepnote</span></a>",
   "metadata": {
    "tags": [],
    "created_in_deepnote_cell": true,
    "deepnote_cell_type": "markdown"
   }
  }
 ],
 "nbformat": 4,
 "nbformat_minor": 2,
 "metadata": {
  "orig_nbformat": 2,
  "deepnote": {
   "is_reactive": false
  },
  "deepnote_notebook_id": "3e9835fb-d539-49eb-821f-e9fa11a0c4a4",
  "deepnote_execution_queue": []
 }
}