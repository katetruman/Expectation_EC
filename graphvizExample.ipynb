{
 "cells": [
  {
   "cell_type": "markdown",
   "source": "## Graphiviz Example",
   "metadata": {
    "tags": [],
    "cell_id": "00000-5a061ac9-108b-4059-9bd6-a87d9dcad73d",
    "deepnote_cell_type": "markdown"
   }
  },
  {
   "cell_type": "markdown",
   "source": "This notebook takes query output saved to **testOutput.txt** and uses it to produce a simple graph which is saved as an SVG.",
   "metadata": {
    "tags": [],
    "cell_id": "00001-3ef7297f-57fd-404b-908c-22f45e314210",
    "deepnote_cell_type": "markdown"
   }
  },
  {
   "cell_type": "code",
   "metadata": {
    "tags": [],
    "deepnote_to_be_reexecuted": false,
    "source_hash": "efc668da",
    "execution_start": 1638849870928,
    "execution_millis": 41,
    "cell_id": "00001-21b65500-23db-4db9-a693-5bb6d46d9a35",
    "deepnote_cell_type": "code"
   },
   "source": "import pygraphviz as pgv",
   "execution_count": 1,
   "outputs": []
  },
  {
   "cell_type": "code",
   "metadata": {
    "tags": [],
    "deepnote_to_be_reexecuted": false,
    "source_hash": "5fa282fa",
    "execution_start": 1638849870969,
    "execution_millis": 1,
    "cell_id": "00002-b21cb758-d6db-4bec-8269-4f3a1b5f31c5",
    "deepnote_cell_type": "code"
   },
   "source": "from IPython.display import Image\n\ndef draw(dot):\n    return Image(pgv.AGraph(dot).draw(format='svg', prog='dot'))\n",
   "execution_count": 2,
   "outputs": []
  },
  {
   "cell_type": "code",
   "source": "from graphviz import Digraph\n\nf = open(\"testOutput.txt\", \"r\")\ndia = Digraph()\ndia.format = 'svg'\nedges = {}\nnodes = {}\nfor line in f:\n    l = line.split()\n    if l[0] == \"Child\":\n        if l[5] in edges:\n            edges[l[5]].append(l[2].strip(\",\"))\n        else:\n            edges[l[5]] = [l[2].strip(\",\")]\n    if l[0] == \"ID\":\n        nodes[l[2].strip(\",\")] = (line.split(\", Contents = \")[1])[:-3]\nf.close()\n\nfor key, value in nodes.items():\n    dia.node(key,label=value)\nfor key, value in edges.items():\n    for v in value:\n        dia.edge(key,v)\ndia\ndia.render(filename='dia')\n",
   "metadata": {
    "tags": [],
    "cell_id": "00003-aa532ca0-ee8c-44cd-bc36-100ac71dd9bb",
    "deepnote_to_be_reexecuted": false,
    "source_hash": "65b4d33c",
    "execution_start": 1638849871014,
    "execution_millis": 108,
    "deepnote_output_heights": [
     21.199996948242188
    ],
    "deepnote_cell_type": "code"
   },
   "outputs": [
    {
     "output_type": "execute_result",
     "execution_count": 3,
     "data": {
      "text/plain": "'dia.svg'"
     },
     "metadata": {}
    }
   ],
   "execution_count": 3
  },
  {
   "cell_type": "code",
   "source": "from IPython.display import SVG, display\ndisplay(SVG(filename='dia.svg'))\n",
   "metadata": {
    "tags": [],
    "cell_id": "00004-e362bb65-440f-4a32-9411-5a0f754a582e",
    "deepnote_to_be_reexecuted": false,
    "source_hash": "bcfeca9b",
    "execution_start": 1638849871130,
    "execution_millis": 82,
    "deepnote_output_heights": [
     555.6666870117188
    ],
    "deepnote_cell_type": "code"
   },
   "outputs": [
    {
     "data": {
      "text/plain": "<IPython.core.display.SVG object>",
      "image/svg+xml": "<svg height=\"404pt\" viewBox=\"0.00 0.00 1087.90 404.00\" width=\"1088pt\" xmlns=\"http://www.w3.org/2000/svg\" xmlns:xlink=\"http://www.w3.org/1999/xlink\">\n<g class=\"graph\" id=\"graph0\" transform=\"scale(1 1) rotate(0) translate(4 400)\">\n<title>%3</title>\n<polygon fill=\"#ffffff\" points=\"-4,4 -4,-400 1083.8991,-400 1083.8991,4 -4,4\" stroke=\"transparent\"/>\n<!-- 13 -->\n<g class=\"node\" id=\"node1\">\n<title>13</title>\n<ellipse cx=\"252.8276\" cy=\"-18\" fill=\"none\" rx=\"252.6553\" ry=\"18\" stroke=\"#000000\"/>\n<text fill=\"#000000\" font-family=\"Times,serif\" font-size=\"14.00\" text-anchor=\"middle\" x=\"252.8276\" y=\"-14.3\">{'testRequested(123, HIV, Otago Blood, AH)': 'NA'}</text>\n</g>\n<!-- 14 -->\n<g class=\"node\" id=\"node2\">\n<title>14</title>\n<ellipse cx=\"252.8276\" cy=\"-90\" fill=\"none\" rx=\"209.0631\" ry=\"18\" stroke=\"#000000\"/>\n<text fill=\"#000000\" font-family=\"Times,serif\" font-size=\"14.00\" text-anchor=\"middle\" x=\"252.8276\" y=\"-86.3\">resultMessaged(13, positive, Otago Blood)</text>\n</g>\n<!-- 14&#45;&gt;13 -->\n<g class=\"edge\" id=\"edge1\">\n<title>14-&gt;13</title>\n<path d=\"M252.8276,-71.8314C252.8276,-64.131 252.8276,-54.9743 252.8276,-46.4166\" fill=\"none\" stroke=\"#000000\"/>\n<polygon fill=\"#000000\" points=\"256.3277,-46.4132 252.8276,-36.4133 249.3277,-46.4133 256.3277,-46.4132\" stroke=\"#000000\"/>\n</g>\n<!-- 11 -->\n<g class=\"node\" id=\"node3\">\n<title>11</title>\n<ellipse cx=\"252.8276\" cy=\"-234\" fill=\"none\" rx=\"167.0704\" ry=\"18\" stroke=\"#000000\"/>\n<text fill=\"#000000\" font-family=\"Times,serif\" font-size=\"14.00\" text-anchor=\"middle\" x=\"252.8276\" y=\"-230.3\">diagnosed(123, HIV, positive, PS)</text>\n</g>\n<!-- 15 -->\n<g class=\"node\" id=\"node6\">\n<title>15</title>\n<ellipse cx=\"252.8276\" cy=\"-162\" fill=\"none\" rx=\"137.2758\" ry=\"18\" stroke=\"#000000\"/>\n<text fill=\"#000000\" font-family=\"Times,serif\" font-size=\"14.00\" text-anchor=\"middle\" x=\"252.8276\" y=\"-158.3\">linkedEvidence(11, 14, PS)</text>\n</g>\n<!-- 11&#45;&gt;15 -->\n<g class=\"edge\" id=\"edge3\">\n<title>11-&gt;15</title>\n<path d=\"M252.8276,-215.8314C252.8276,-208.131 252.8276,-198.9743 252.8276,-190.4166\" fill=\"none\" stroke=\"#000000\"/>\n<polygon fill=\"#000000\" points=\"256.3277,-190.4132 252.8276,-180.4133 249.3277,-190.4133 256.3277,-190.4132\" stroke=\"#000000\"/>\n</g>\n<!-- 10 -->\n<g class=\"node\" id=\"node4\">\n<title>10</title>\n<ellipse cx=\"758.8276\" cy=\"-162\" fill=\"none\" rx=\"176.5689\" ry=\"18\" stroke=\"#000000\"/>\n<text fill=\"#000000\" font-family=\"Times,serif\" font-size=\"14.00\" text-anchor=\"middle\" x=\"758.8276\" y=\"-158.3\">{'histRequested(123, Well)': 'ANS'}</text>\n</g>\n<!-- 12 -->\n<g class=\"node\" id=\"node5\">\n<title>12</title>\n<ellipse cx=\"758.8276\" cy=\"-234\" fill=\"none\" rx=\"321.143\" ry=\"18\" stroke=\"#000000\"/>\n<text fill=\"#000000\" font-family=\"Times,serif\" font-size=\"14.00\" text-anchor=\"middle\" x=\"758.8276\" y=\"-230.3\">messaged(10, happensAt(diagnosis(123, Hep-C, Positive), 1), Well)</text>\n</g>\n<!-- 12&#45;&gt;10 -->\n<g class=\"edge\" id=\"edge2\">\n<title>12-&gt;10</title>\n<path d=\"M758.8276,-215.8314C758.8276,-208.131 758.8276,-198.9743 758.8276,-190.4166\" fill=\"none\" stroke=\"#000000\"/>\n<polygon fill=\"#000000\" points=\"762.3277,-190.4132 758.8276,-180.4133 755.3277,-190.4133 762.3277,-190.4132\" stroke=\"#000000\"/>\n</g>\n<!-- 15&#45;&gt;14 -->\n<g class=\"edge\" id=\"edge4\">\n<title>15-&gt;14</title>\n<path d=\"M252.8276,-143.8314C252.8276,-136.131 252.8276,-126.9743 252.8276,-118.4166\" fill=\"none\" stroke=\"#000000\"/>\n<polygon fill=\"#000000\" points=\"256.3277,-118.4132 252.8276,-108.4133 249.3277,-118.4133 256.3277,-118.4132\" stroke=\"#000000\"/>\n</g>\n<!-- 20 -->\n<g class=\"node\" id=\"node7\">\n<title>20</title>\n<ellipse cx=\"358.8276\" cy=\"-306\" fill=\"none\" rx=\"137.5759\" ry=\"18\" stroke=\"#000000\"/>\n<text fill=\"#000000\" font-family=\"Times,serif\" font-size=\"14.00\" text-anchor=\"middle\" x=\"358.8276\" y=\"-302.3\">linkedEvidence(18, 11, FG)</text>\n</g>\n<!-- 20&#45;&gt;11 -->\n<g class=\"edge\" id=\"edge7\">\n<title>20-&gt;11</title>\n<path d=\"M332.6253,-288.2022C318.9929,-278.9425 302.1506,-267.5025 287.4578,-257.5224\" fill=\"none\" stroke=\"#000000\"/>\n<polygon fill=\"#000000\" points=\"289.3345,-254.5662 279.0958,-251.8425 285.4013,-260.3567 289.3345,-254.5662\" stroke=\"#000000\"/>\n</g>\n<!-- 21 -->\n<g class=\"node\" id=\"node8\">\n<title>21</title>\n<ellipse cx=\"705.8276\" cy=\"-306\" fill=\"none\" rx=\"137.5759\" ry=\"18\" stroke=\"#000000\"/>\n<text fill=\"#000000\" font-family=\"Times,serif\" font-size=\"14.00\" text-anchor=\"middle\" x=\"705.8276\" y=\"-302.3\">linkedEvidence(18, 12, FG)</text>\n</g>\n<!-- 21&#45;&gt;12 -->\n<g class=\"edge\" id=\"edge8\">\n<title>21-&gt;12</title>\n<path d=\"M719.2017,-287.8314C725.2438,-279.6232 732.5038,-269.7606 739.1496,-260.7323\" fill=\"none\" stroke=\"#000000\"/>\n<polygon fill=\"#000000\" points=\"742.1638,-262.5415 745.2734,-252.4133 736.5265,-258.3918 742.1638,-262.5415\" stroke=\"#000000\"/>\n</g>\n<!-- 18 -->\n<g class=\"node\" id=\"node9\">\n<title>18</title>\n<ellipse cx=\"505.8276\" cy=\"-378\" fill=\"none\" rx=\"141.075\" ry=\"18\" stroke=\"#000000\"/>\n<text fill=\"#000000\" font-family=\"Times,serif\" font-size=\"14.00\" text-anchor=\"middle\" x=\"505.8276\" y=\"-374.3\">donorDecided(123, yes, FG)</text>\n</g>\n<!-- 18&#45;&gt;20 -->\n<g class=\"edge\" id=\"edge5\">\n<title>18-&gt;20</title>\n<path d=\"M470.243,-360.5708C450.1842,-350.7461 424.9373,-338.3803 403.5506,-327.9051\" fill=\"none\" stroke=\"#000000\"/>\n<polygon fill=\"#000000\" points=\"404.8591,-324.6488 394.3389,-323.3933 401.78,-330.9353 404.8591,-324.6488\" stroke=\"#000000\"/>\n</g>\n<!-- 18&#45;&gt;21 -->\n<g class=\"edge\" id=\"edge6\">\n<title>18-&gt;21</title>\n<path d=\"M552.9715,-361.0282C581.7329,-350.6741 618.6804,-337.373 649.0453,-326.4416\" fill=\"none\" stroke=\"#000000\"/>\n<polygon fill=\"#000000\" points=\"650.4306,-329.6629 658.654,-322.9825 648.0595,-323.0766 650.4306,-329.6629\" stroke=\"#000000\"/>\n</g>\n</g>\n</svg>"
     },
     "metadata": {},
     "output_type": "display_data"
    }
   ],
   "execution_count": 4
  },
  {
   "cell_type": "markdown",
   "source": "<a style='text-decoration:none;line-height:16px;display:flex;color:#5B5B62;padding:10px;justify-content:end;' href='https://deepnote.com?utm_source=created-in-deepnote-cell&projectId=9a9e692c-8284-4c1f-bb92-f37a509f555a' target=\"_blank\">\n<img alt='Created in deepnote.com' style='display:inline;max-height:16px;margin:0px;margin-right:7.5px;' src='data:image/svg+xml;base64,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' > </img>\nCreated in <span style='font-weight:600;margin-left:4px;'>Deepnote</span></a>",
   "metadata": {
    "tags": [],
    "created_in_deepnote_cell": true,
    "deepnote_cell_type": "markdown"
   }
  }
 ],
 "nbformat": 4,
 "nbformat_minor": 2,
 "metadata": {
  "orig_nbformat": 2,
  "deepnote": {
   "is_reactive": false
  },
  "deepnote_notebook_id": "93dffca7-fb74-4cd3-a73a-0d6a7465ad4e",
  "deepnote_execution_queue": []
 }
}