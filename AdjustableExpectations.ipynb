{
 "cells": [
  {
   "cell_type": "markdown",
   "source": "## Expectations with Busyness",
   "metadata": {
    "tags": [],
    "is_collapsed": false,
    "cell_id": "00000-1711a581-dd38-45e9-9a36-65bb4866a10b",
    "deepnote_cell_type": "text-cell-h2"
   }
  },
  {
   "cell_type": "markdown",
   "source": "### About expectations",
   "metadata": {
    "tags": [],
    "is_collapsed": false,
    "cell_id": "00001-eee146a2-ec07-4dc9-aa59-65e9ceb2d02a",
    "deepnote_cell_type": "text-cell-h3"
   }
  },
  {
   "cell_type": "markdown",
   "source": "There are different types of expectation rules which can be defined. Expectation can be fulfilled or violated when certain conditions are met or not met. An expectation which seems particularly relevant in an organ donor situation is a **within** rule - which states that following an event, another state will hold **within** a certain period of time. For example, we could have an expectation rule that states that a doctor must request a patient's medical history from their normal hospital or GP with a countdown value of 2. Note that this does not necessarily mean within 2 time periods of the patient's admission, but that when the patient is admitted, the expectation will hold with a countdown value of 2, and we expect this value to drop overtime. The expectation is fulfilled when the medical history has been requested before the countdown value drops below zero, and is violated if the medical history is not requested before the countdown value drops below zero.",
   "metadata": {
    "tags": [],
    "cell_id": "00002-9a52ee58-2965-4d9e-bbf8-c6541e99b000",
    "deepnote_cell_type": "markdown"
   }
  },
  {
   "cell_type": "markdown",
   "source": "### Set up",
   "metadata": {
    "tags": [],
    "is_collapsed": false,
    "cell_id": "00005-8160b0ea-b9f0-4faf-9c53-d608e8e2c761",
    "deepnote_cell_type": "text-cell-h3"
   }
  },
  {
   "cell_type": "code",
   "metadata": {
    "tags": [],
    "cell_id": "00000-65ef6c58-e708-4c4c-a321-43c476e66887",
    "deepnote_to_be_reexecuted": false,
    "source_hash": "377780b8",
    "execution_start": 1641770339886,
    "execution_millis": 46,
    "deepnote_cell_type": "code"
   },
   "source": "?- cd('~/work'), ['dec'].\n?- initialiseDEC.\n?- retractall(happensAtNarrative(_,_)).",
   "execution_count": 1,
   "outputs": [
    {
     "name": "stdout",
     "text": "true.\nfalse.\ntrue.",
     "output_type": "stream",
     "data": {}
    }
   ]
  },
  {
   "cell_type": "markdown",
   "source": "### Busyness levels",
   "metadata": {
    "tags": [],
    "is_collapsed": false,
    "cell_id": "00003-b051a8d0-a132-4bdc-b83c-7fa1175c2170",
    "deepnote_cell_type": "text-cell-h3"
   }
  },
  {
   "cell_type": "markdown",
   "source": "\nThis notebook exhibits how user defined busyness levels for the hospital can be defined, and how these can be used to affect expectation rules. The hospital has certain expectations about the time delay between related actions occurring, such as how soon after a patient's admission a log of that admission should be made. When the hospital is busy (currently defined as a high number of patients admitted), we may wish to relax some expectations on promptness of medical staff actions, such as making a diagnosis from a blood test result, so that events are not viewed as being less trustworthy due to a short delay. For other events, we may never want to relax our expectations.",
   "metadata": {
    "tags": [],
    "cell_id": "00001-3f7c5d10-295a-4abd-8e9b-95322585b89d",
    "deepnote_cell_type": "markdown"
   }
  },
  {
   "cell_type": "markdown",
   "source": "### Declaring the levels:",
   "metadata": {
    "tags": [],
    "is_collapsed": false,
    "cell_id": "00004-579663c5-a01b-444c-9306-1a688de4fa3d",
    "deepnote_cell_type": "text-cell-h3"
   }
  },
  {
   "cell_type": "markdown",
   "source": "We use the current number of patients admitted to hospital as a measure of the hospital's business, although other measures such as number of logs made or messages sent to other hospitals could be used, and busyness could be declared on a smaller scale (e.g. for hospital departments) or a larger scale (e.g. across all hospitals in a district health board). \n\nLevel information is set using the predicate levels/3, where the first argument is a list of the level names, the second argument is the break points between the levels and the third argument is the weighting assigned to different types of events under the levels. ",
   "metadata": {
    "tags": [],
    "cell_id": "00004-cd83258f-2ba3-4c72-ac33-f2cb06f25289",
    "deepnote_cell_type": "markdown"
   }
  },
  {
   "cell_type": "markdown",
   "source": "In this example, we declare that there are three levels; low, medium and high, with break points at 2 and 4. The break points are set very low for ease of illustration, and mean that if there are 2 or fewer patients currently admitted, the hospital's busyness is low, if there are between 2 (exclusive) and 4 (inclusive) patients, the hospital's busyness is medium, and if there are more than 4 patients, the hospital's busyness is high.",
   "metadata": {
    "tags": [],
    "cell_id": "00005-f7d21ed4-174a-4b9b-9a9a-22dae013bebe",
    "deepnote_cell_type": "markdown"
   }
  },
  {
   "cell_type": "markdown",
   "source": "We also declare the relative weightings to be assigned to different types of events. Here, logging events are given a weighting of 1 under all three levels, while **actorDec** events (representing actor decisions) are given a weighting of 1 under the low level, 0.666 under the medium level and 0.4 under the high level.",
   "metadata": {
    "tags": [],
    "cell_id": "00005-7289597f-6c68-40aa-afab-95b7aa6187eb",
    "deepnote_cell_type": "markdown"
   }
  },
  {
   "cell_type": "code",
   "metadata": {
    "tags": [],
    "cell_id": "00004-d519ccde-39f1-47bd-b100-e7bb9d0c9135",
    "deepnote_to_be_reexecuted": false,
    "source_hash": "54c6f8be",
    "execution_start": 1641770339967,
    "execution_millis": 3,
    "deepnote_cell_type": "code"
   },
   "source": "% File: levels.pl\nlevels([low,medium,high],[2,4],[logging=[1,1,1], actorDec=[1,0.6666666,0.4]]).",
   "execution_count": 2,
   "outputs": [
    {
     "name": "stdout",
     "text": "",
     "output_type": "stream",
     "data": {}
    }
   ]
  },
  {
   "cell_type": "markdown",
   "source": "The event weightings are used to affect how far to progress expectations under a given busyness level. If an expectation containing a *within* rule states that a logging event will take place, and has a starting countdown value of 3, we expect the event to take place within the next three time periods, as logging events (and any events without a type specified) have a weighting of 1. Note that the starting countdown value is not necessarily the number of time periods before an expectation will be violated if the expected event does not take place. If an expectation with a *within* rule instead stated that an **actorDec** event will take place and has a start time of 3, we would expect the event to take place within 8 time periods under a high busyness level, as 3 / 0.4 = 8. The weightings control how quickly the specified coutndown valuedrops, and allow the rate of decrease in countdown value associated with some types of expectations to be modified by busyness level.",
   "metadata": {
    "tags": [],
    "cell_id": "00010-a5307dca-a614-414f-b265-3916a0ed339d",
    "deepnote_cell_type": "markdown"
   }
  },
  {
   "cell_type": "code",
   "metadata": {
    "tags": [],
    "cell_id": "00007-44ff675a-1954-4388-bde7-6d27d91baa42",
    "deepnote_to_be_reexecuted": false,
    "source_hash": "5da92dfc",
    "execution_start": 1641770339968,
    "execution_millis": 2,
    "deepnote_cell_type": "code"
   },
   "source": "%File: levelRules.pl\n% If the count is greater than the maximum breakpoint, the busyness level is the greatest level.\nholdsAt(busyness(Level), T):- aggregate_all(count, holdsAt(admitted(_),T), Count), levels(Names,BreakPoints,_), last(Names, Level), last(BreakPoints, P), Count > P.\n% Else, check which breakpoints the count falls between, using 0 as the minimum breakpoint.\nholdsAt(busyness(Level),T):-  aggregate_all(count, holdsAt(admitted(_),T), Count), levels(Names,BreakPoints,_), member(Level,Names), nth0(LIndex,Names,Level), nth0(LIndex, BreakPoints, P),  P >= Count, (LIndex > 0 -> (LIndex2 is LIndex - 1, nth0(LIndex2,BreakPoints,P2), P2 < Count); true).\nprogress(within(F1,T1,Type), within(F1,T2,Type),T):- holdsAt(busyness(Level),T), levels(Levels,_,DecayList), member(Type=Decay,DecayList), nth0(Index, Levels, Level), nth0(Index,Decay,D), T2 is T1 - D. ",
   "execution_count": 3,
   "outputs": [
    {
     "name": "stdout",
     "text": "",
     "output_type": "stream",
     "data": {}
    }
   ]
  },
  {
   "cell_type": "markdown",
   "source": "### Expectation rules",
   "metadata": {
    "tags": [],
    "is_collapsed": false,
    "cell_id": "00014-baaedea2-a689-4a42-9e4c-802cb6d24ae3",
    "deepnote_cell_type": "text-cell-h3"
   }
  },
  {
   "cell_type": "markdown",
   "source": "For illustration purposes, we will make use of a few expectation rules. Here, we declare that all events which are not log events will be logged within a certain time period, which we give a starting time of 2. This actually means that a logging event should take place one time period after the event itself, as it takes another time period for the log to hold. We also declare that when an event is logged, there should be an expectation of the logging event, in order to flag any log events not corresponding to events which have recently occurred. Thirdly, we declare that each log event should use a different ID.",
   "metadata": {
    "tags": [],
    "cell_id": "00004-3c93f0f0-42ba-4eac-8a9e-0663ce36ff9d",
    "deepnote_cell_type": "markdown"
   }
  },
  {
   "cell_type": "code",
   "metadata": {
    "tags": [],
    "cell_id": "00001-c24f881b-7a4e-4f26-bab9-79d292ddbab0",
    "deepnote_to_be_reexecuted": false,
    "source_hash": "e9f6a9df",
    "execution_start": 1641770339969,
    "execution_millis": 5,
    "deepnote_cell_type": "code"
   },
   "source": "% File: logging.pl\n\n% We expect that all events except logging events will be logged with a starting wait of 2.\ninitially(exp_rule(and([happ(X), condition(X \\= log(_,_) )]), within(exist(_,logged(_,X,_)),2, logging))).\n% We expect that when an event is logged, the expectation of the logging taking place holds.\ninitially(exp_rule(happ(log(_,X)), exp(_,_,_,within(exist(_,logged(_,X,_)),_,logging)))).\n% We expect that a log ID has not already been used for another log entry.\ninitially(exp_rule(happ(log(ID,_)), not(logged(ID,_,_)))).",
   "execution_count": 4,
   "outputs": [
    {
     "name": "stdout",
     "text": "",
     "output_type": "stream",
     "data": {}
    }
   ]
  },
  {
   "cell_type": "markdown",
   "source": "Our other expectation rules state that a patient history should have been requested shortly after a patient's admission, and that a history request should receive a response, with an initial countdown value of 4.",
   "metadata": {
    "tags": [],
    "cell_id": "00013-0e35702d-505b-40d3-a375-ebb231258ff8",
    "deepnote_cell_type": "markdown"
   }
  },
  {
   "cell_type": "code",
   "metadata": {
    "tags": [],
    "cell_id": "00002-7396288c-4cfe-4584-80c2-49b3a39fa121",
    "deepnote_to_be_reexecuted": false,
    "source_hash": "1103d099",
    "execution_start": 1641770339975,
    "execution_millis": 13,
    "deepnote_cell_type": "code"
   },
   "source": "% File: OtherExp.pl\n% We expect that a patient history will be requested within two units from of admission.\n% This is declared to be an actorDec type within rule.\ninitially(exp_rule(happ(admission(Patient,_)), within(requested(_,'history',Patient,_,_)='NA',2, actorDec))).\n% We expect that a history request will be answered within 4 units from periods.\ninitially(exp_rule(happ(request(Reference,'history',Patient,Source,Requester)), within(requested(Reference,'history',Patient,Source,Requester)='ANS',4))).",
   "execution_count": 5,
   "outputs": [
    {
     "name": "stdout",
     "text": "",
     "output_type": "stream",
     "data": {}
    }
   ]
  },
  {
   "cell_type": "markdown",
   "source": "We need some supporting initiates and terminates clauses, as shown below.",
   "metadata": {
    "tags": [],
    "cell_id": "00015-38b86a03-637f-40ee-9472-e401390a24a2",
    "deepnote_cell_type": "markdown"
   }
  },
  {
   "cell_type": "code",
   "metadata": {
    "tags": [],
    "cell_id": "00002-ef0aa115-c6e5-4f16-ac1d-2738aca38b7d",
    "deepnote_to_be_reexecuted": false,
    "source_hash": "12483e96",
    "execution_start": 1641770339989,
    "execution_millis": 14,
    "deepnote_cell_type": "code"
   },
   "source": "% File: eventToFluent.pl\ninitiates(log(ID,X), logged(ID,X,T),T).\ninitiates(request(Reference,Type,Patient,Source,Requester),requested(Reference,Type,Patient,Source,Requester)='NA',_).\ninitiates(admission(PatID,_), admitted(PatID),_).\nterminates(discharge(PatID,_), admitted(PatID),_).",
   "execution_count": 6,
   "outputs": [
    {
     "name": "stdout",
     "text": "",
     "output_type": "stream",
     "data": {}
    }
   ]
  },
  {
   "cell_type": "markdown",
   "source": "### Event narrative",
   "metadata": {
    "tags": [],
    "is_collapsed": false,
    "cell_id": "00021-4e1513c8-be6b-493b-8cfb-a31800324874",
    "deepnote_cell_type": "text-cell-h3"
   }
  },
  {
   "cell_type": "markdown",
   "source": "In our event narrative, doctors are identified using their initials for ease of readability. (Practically, numerical IDs would be used to avoid duplicates). Here, 'AH' and 'PS' are two medical staff members at the hospital.\n\nOur event narrative is as follows:\n- Patient 124 is admitted by 'AH' at time period 1\n- A patient history request for patient 124 with referral code 2 is sent to Wellington by 'PS' at time period 2. Messages, including requests and responses, are sent with referral codes to establish a chain of message responses between different hospitals.\n- Patient 501 is admitted by 'AH' at time period 2.\n- Patient 502 is admitted by 'AH' at time period 3.\n- Patient 503 is admitted by 'AH' at time period 5.\n- Patient 504 is admitted by 'AH' at time period 7.\n- Patient 501 is discharged by 'AH' at time period 9.\n- At time period 2, we log the admission which occurred at time period 1 with an ID of 1.\n- At time period 3, we log the history request which occurred at time period 2 with an ID of 2.\n- At time period 3, we log the admission which occurred at time period 2 with an ID of 3.\n- At time period 8, we log the admission which occurred at time period 7 with an ID of 4.\n- At time period 10, we log the discharge which occurred at time period 9 with an ID of 5.\n\n",
   "metadata": {
    "tags": [],
    "cell_id": "00017-fa2757cd-7210-4775-af5a-5165312302f9",
    "deepnote_cell_type": "markdown"
   }
  },
  {
   "cell_type": "code",
   "metadata": {
    "tags": [],
    "cell_id": "00003-2712cfd6-6d8e-4b68-8842-259361c032a8",
    "deepnote_to_be_reexecuted": false,
    "source_hash": "3c91081d",
    "execution_start": 1641770340003,
    "execution_millis": 17,
    "deepnote_cell_type": "code"
   },
   "source": "% File: narrative.pl\nhappensAtNarrative(admission(124,'AH'),1).\nhappensAtNarrative(request(2,'history',124,'Wellington', 'PS'),2).\nhappensAtNarrative(admission(501,'AH'),2).\nhappensAtNarrative(admission(502,'AH'),3).\nhappensAtNarrative(admission(503,'AH'),5).\nhappensAtNarrative(admission(504,'AH'),7).\nhappensAtNarrative(discharge(501,'AH'),9).\n\nhappensAtNarrative(log(1, admission(124,'AH')),2).\nhappensAtNarrative(log(2, request(2, history, 123, 'Wellington', 'PS')),3).\nhappensAtNarrative(log(3, admission(501,'AH')),3).\nhappensAtNarrative(log(4, admission(504,'AH')),8).\nhappensAtNarrative(log(5,discharge(501,'AH')),10).",
   "execution_count": 7,
   "outputs": [
    {
     "name": "stdout",
     "text": "",
     "output_type": "stream",
     "data": {}
    }
   ]
  },
  {
   "cell_type": "markdown",
   "source": "### Expectations under \"Low\" busyness",
   "metadata": {
    "tags": [],
    "is_collapsed": false,
    "cell_id": "00024-9aae9512-c7a5-4bfe-b4e1-862204b9e8a5",
    "deepnote_cell_type": "text-cell-h3"
   }
  },
  {
   "cell_type": "markdown",
   "source": "We record all the fluents that hold from time period 0-11. We can see that at time periods 0, 1 and 2, there are 2 or fewer patients admitted in the hospital, so the busyness level is low.",
   "metadata": {
    "tags": [],
    "cell_id": "00019-f437b620-1947-46a6-a986-40c98512d8e5",
    "deepnote_cell_type": "markdown"
   }
  },
  {
   "cell_type": "code",
   "metadata": {
    "tags": [],
    "cell_id": "00006-96489134-d90a-4d42-8b76-9a3f5e601f0e",
    "deepnote_to_be_reexecuted": false,
    "source_hash": "4701702b",
    "execution_start": 1641770340065,
    "execution_millis": 499,
    "deepnote_cell_type": "code"
   },
   "source": "?- run(10).\n?- holdsAt(busyness(Level1),1).\n?- aggregate_all(count, holdsAt(admitted(_),1), Count1).\n?- holdsAt(busyness(Level2),2).\n?- aggregate_all(count, holdsAt(admitted(_),2), Count2).\n?- holdsAt(busyness(Level3),3).\n?- aggregate_all(count, holdsAt(admitted(_),3), Count3).\n",
   "execution_count": 8,
   "outputs": [
    {
     "name": "stdout",
     "text": "true.\nLevel1 = low .\nCount1 = 0 .\nLevel2 = low .\nCount2 = 1 .\nLevel3 = low .\nCount3 = 2 .",
     "output_type": "stream",
     "data": {}
    }
   ]
  },
  {
   "cell_type": "markdown",
   "source": "Recall that patient 124 was admitted at time period 1. Under the low busyness setting, the countdown value for the expecation that a patient history request for patient 124 will be made decays at a rate of one unit per time period, and is fulfilled at time period 3.",
   "metadata": {
    "tags": [],
    "cell_id": "00021-dd5912eb-9ad6-416d-8c06-696f317e9850",
    "deepnote_cell_type": "markdown"
   }
  },
  {
   "cell_type": "code",
   "metadata": {
    "tags": [],
    "cell_id": "00007-0221004f-3738-43f5-b741-03e2b1526c14",
    "deepnote_to_be_reexecuted": false,
    "source_hash": "f6cbd381",
    "execution_start": 1641770340534,
    "execution_millis": 35,
    "deepnote_cell_type": "code"
   },
   "source": "?- holdsAt(exp(Exp1),1), Exp1 = within(requested(_,history,124,_,_)='NA',_,actorDec).\n?- holdsAt(exp(Exp2),2), Exp2 = within(requested(_,history,124,_,_)='NA',_,actorDec).\n?- holdsAt(exp(Exp3),3), Exp3 = within(requested(_,history,124,_,_)='NA',_,actorDec).\n?- happensAt(fulf(_,_,_,within(requested(_,history,124,_,_)='NA',_,actorDec)),3).",
   "execution_count": 9,
   "outputs": [
    {
     "name": "stdout",
     "text": "Exp1 = within(=(requested(_44, history, 124, _50, _52), NA), 2, actorDec) .\nExp2 = within(=(requested(_44, history, 124, _50, _52), NA), 1, actorDec) .\nExp3 = within(=(requested(_44, history, 124, _50, _52), NA), 0, actorDec) .\ntrue.",
     "output_type": "stream",
     "data": {}
    }
   ]
  },
  {
   "cell_type": "markdown",
   "source": "Likewise, the expectation that the admission of patient 124 will be logged decays at a rate of one unit per time period and is also fulfilled at time period 3.",
   "metadata": {
    "tags": [],
    "cell_id": "00023-65c448e6-91e7-4a00-8455-990e20b179e1",
    "deepnote_cell_type": "markdown"
   }
  },
  {
   "cell_type": "code",
   "source": "?- holdsAt(exp(Exp1),1), Exp1 = within(exist(_, logged(_, admission(124,_),_)), _, logging).\n?- holdsAt(exp(Exp2),2), Exp2 = within(exist(_, logged(_, admission(124,_),_)), _, logging).\n?- holdsAt(exp(Exp3),3), Exp3 = within(exist(_, logged(_, admission(124,_),_)), _, logging).\n?- happensAt(fulf(_,_,_,within(exist(_, logged(_, admission(124,_),_)), _, logging)),3).",
   "metadata": {
    "tags": [],
    "cell_id": "00023-3fa2b998-5325-4311-b40c-97ab3ffbf2dd",
    "deepnote_to_be_reexecuted": false,
    "source_hash": "185b0d1",
    "execution_start": 1641770340569,
    "execution_millis": 22758,
    "deepnote_cell_type": "code"
   },
   "outputs": [
    {
     "name": "stdout",
     "text": "Exp1 = within(exist(_60, logged(_52, admission(124, AH), _56)), 2, logging) .\nExp2 = within(exist(_60, logged(_52, admission(124, AH), _56)), 1, logging) .\nExp3 = within(exist(_60, logged(_52, admission(124, AH), _56)), 0, logging) .\ntrue.",
     "output_type": "stream",
     "data": {}
    }
   ],
   "execution_count": 10
  },
  {
   "cell_type": "markdown",
   "source": "Recall that at time period 3, patient 502 is admitted to hospital. At this time period, the hospital is at the \"Low\" level of busyness. The expectation of the admission being logged and the expectation of a patient history request being made for the admission both have a initial value of 2.",
   "metadata": {
    "tags": [],
    "cell_id": "00027-ab42410e-7fdb-49a7-a165-186a1b84c583",
    "deepnote_cell_type": "markdown"
   }
  },
  {
   "cell_type": "code",
   "metadata": {
    "tags": [],
    "cell_id": "00007-5664ed71-8a95-4acf-b037-8d8aac6eb8c0",
    "deepnote_to_be_reexecuted": false,
    "source_hash": "46b4bc60",
    "execution_start": 1641770340612,
    "execution_millis": 22762,
    "deepnote_cell_type": "code"
   },
   "source": "?- happensAt(Event, 3), Event=admission(_,_).\n?- holdsAt(busyness(Level),3).\n?- holdsAt(exp(Exp4),3), Exp4 = within(exist(_, logged(_, admission(502,_),_)), _, logging). \n?- holdsAt(exp(Exp4),3),Exp4 = (within(requested(_, history, 502, _,_)='NA',_,actorDec)).",
   "execution_count": 11,
   "outputs": [
    {
     "name": "stdout",
     "text": "Event = admission(502, AH) .\nLevel = low .\nExp4 = within(exist(_60, logged(_52, admission(502, AH), _56)), 2, logging) .\nExp4 = within(=(requested(_46, history, 502, _52, _54), NA), 2, actorDec) .",
     "output_type": "stream",
     "data": {}
    }
   ]
  },
  {
   "cell_type": "markdown",
   "source": "### Expectations under \"Medium\" busyness",
   "metadata": {
    "tags": [],
    "is_collapsed": false,
    "cell_id": "00033-e7aebc8e-db0b-45e2-a975-1f7f279a387e",
    "deepnote_cell_type": "text-cell-h3"
   }
  },
  {
   "cell_type": "markdown",
   "source": "At time period 4, there are 3 admitted patients in the hospital and the hospital's busyness is set to medium.",
   "metadata": {
    "tags": [],
    "cell_id": "00025-deeaf021-a24f-4730-97d4-f57917059abc",
    "deepnote_cell_type": "markdown"
   }
  },
  {
   "cell_type": "code",
   "source": "?- holdsAt(busyness(Level),4).\n?- aggregate_all(count, holdsAt(admitted(_),4), Count).",
   "metadata": {
    "tags": [],
    "cell_id": "00026-6fd20a0b-fe90-4613-b820-ffa862ac3367",
    "deepnote_to_be_reexecuted": false,
    "source_hash": "2201c5dd",
    "execution_start": 1641770340613,
    "execution_millis": 22768,
    "deepnote_cell_type": "code"
   },
   "outputs": [
    {
     "name": "stdout",
     "text": "Level = medium .\nCount = 3 .",
     "output_type": "stream",
     "data": {}
    }
   ],
   "execution_count": 12
  },
  {
   "cell_type": "markdown",
   "source": "We see that the countdown associated with the expectation that patient 502's admission will be logged has dropped to 1, as logging events have a weighting of 1 under any busyness level. However, the countdown for the history request has droppped by only 0.666 to 1.333. This is because the weighting for actorDec related expectations under the \"Medium\" busyness level is 0.666.",
   "metadata": {
    "tags": [],
    "cell_id": "00029-1de88678-2988-4672-89ca-c1b891d439bc",
    "deepnote_cell_type": "markdown"
   }
  },
  {
   "cell_type": "code",
   "source": "?- holdsAt(exp(Exp4),4), Exp4 = within(exist(_, logged(_, admission(502,_),_)), _, logging). \n?- holdsAt(exp(Exp4),4), Exp4 = (within(requested(_, history, 502, _,_)='NA',_,actorDec)).",
   "metadata": {
    "tags": [],
    "cell_id": "00029-5ea903b5-7f1a-456a-a7fe-0e7f3eafa2ad",
    "deepnote_to_be_reexecuted": false,
    "source_hash": "c374d831",
    "execution_start": 1641770340614,
    "execution_millis": 22742,
    "deepnote_cell_type": "code"
   },
   "outputs": [
    {
     "name": "stdout",
     "text": "Exp4 = within(exist(_60, logged(_52, admission(502, AH), _56)), 1, logging) .\nExp4 = within(=(requested(_46, history, 502, _52, _54), NA), 1.3333334, actorDec) .",
     "output_type": "stream",
     "data": {}
    }
   ],
   "execution_count": 13
  },
  {
   "cell_type": "markdown",
   "source": "At time period five, the countdown for the logging event has again dropped by one (to zero), while the countdown for the patient history request has dropped by 0.666 to 0.666.",
   "metadata": {
    "tags": [],
    "cell_id": "00031-c3eed2ff-c340-4a72-9804-d5526198d5d4",
    "deepnote_cell_type": "markdown"
   }
  },
  {
   "cell_type": "code",
   "source": "?- holdsAt(exp(Exp5),5), Exp5 = within(exist(_, logged(_, admission(502,_),_)), _, logging). \n?- holdsAt(exp(Exp5),5), Exp5 = (within(requested(_, history, 502, _,_)='NA',_,actorDec)).",
   "metadata": {
    "tags": [],
    "cell_id": "00031-a41129cc-c04f-44ea-bf48-6591fbc6e479",
    "deepnote_to_be_reexecuted": false,
    "source_hash": "d94ab497",
    "execution_start": 1641770340618,
    "execution_millis": 22777,
    "deepnote_cell_type": "code"
   },
   "outputs": [
    {
     "name": "stdout",
     "text": "Exp5 = within(exist(_60, logged(_52, admission(502, AH), _56)), 0, logging) .\nExp5 = within(=(requested(_46, history, 502, _52, _54), NA), 0.6666667999999999, actorDec) .",
     "output_type": "stream",
     "data": {}
    }
   ],
   "execution_count": 14
  },
  {
   "cell_type": "markdown",
   "source": "At time period 6, the countdown value for the logging expectation has dropped below zero. At this time period, our logging expectation has been violated. \n\nThe countdown value for our patient history request expectation has not yet dropped below zero, so the expectation still holds.",
   "metadata": {
    "tags": [],
    "cell_id": "00040-c90d70a3-a6f0-43c3-ba0b-a86a727bb3f1",
    "deepnote_cell_type": "markdown"
   }
  },
  {
   "cell_type": "code",
   "source": "?- holdsAt(exp(Exp6),6), Exp6 = within(exist(_, logged(_, admission(502,_),_)), _, logging). \n?- holdsAt(exp(Exp6),6), Exp6 = (within(requested(_, history, 502, _,_)='NA',_,actorDec)).\n?- happensAt(viol(_,_,_,ViolEvent),6), ViolEvent = within(exist(_, logged(_, admission(502,_),_)), _, logging).",
   "metadata": {
    "tags": [],
    "cell_id": "00032-366ec8c3-178d-4bb1-bd71-4fe652300dce",
    "deepnote_to_be_reexecuted": false,
    "source_hash": "79c79c34",
    "execution_start": 1641770340666,
    "execution_millis": 22771,
    "deepnote_cell_type": "code"
   },
   "outputs": [
    {
     "name": "stdout",
     "text": "Exp6 = within(exist(_60, logged(_52, admission(502, AH), _56)), -1, logging) .\nExp6 = within(=(requested(_46, history, 502, _52, _54), NA), 1.9999999989472883e-07, actorDec) .\nViolEvent = within(exist(_70, logged(_62, admission(502, AH), _66)), -1, logging) .",
     "output_type": "stream",
     "data": {}
    }
   ],
   "execution_count": 15
  },
  {
   "cell_type": "markdown",
   "source": "At time period 7, the countdown value for the patient history request expectation has dropped below zero, so the expectation is violated.",
   "metadata": {
    "tags": [],
    "is_collapsed": false,
    "cell_id": "00042-b1046086-7983-4d56-b2e6-a0f7f20049c3",
    "deepnote_cell_type": "text-cell-p"
   }
  },
  {
   "cell_type": "code",
   "source": "?- holdsAt(exp(Exp7),7), Exp7 = (within(requested(_, history, 502, _,_)='NA',_,actorDec)).\n?- happensAt(viol(_,_,_,ViolEvent),7), ViolEvent = (within(requested(_, history, 502, _,_)='NA',_,actorDec)).",
   "metadata": {
    "tags": [],
    "cell_id": "00042-b26222d1-7b8a-4641-b9e0-4a2a10c71f87",
    "deepnote_to_be_reexecuted": false,
    "source_hash": "ffb7cdea",
    "execution_start": 1641770340667,
    "execution_millis": 22771,
    "deepnote_cell_type": "code"
   },
   "outputs": [
    {
     "name": "stdout",
     "text": "Exp7 = within(=(requested(_46, history, 502, _52, _54), NA), -0.6666664000000001, actorDec) .\nViolEvent = within(=(requested(_56, history, 502, _62, _64), NA), -0.6666664000000001, actorDec) .",
     "output_type": "stream",
     "data": {}
    }
   ],
   "execution_count": 16
  },
  {
   "cell_type": "markdown",
   "source": " At time period 8, there are 5 admitted patients in the hospital and the hospital's busyness is set to high. At time period 10, there are 4 admitted patients in the hospital and the hospital's busyness drops back to medium.",
   "metadata": {
    "tags": [],
    "cell_id": "00023-d12a7e76-024f-482a-9e60-12cbaeef7821",
    "deepnote_cell_type": "markdown"
   }
  },
  {
   "cell_type": "code",
   "metadata": {
    "tags": [],
    "cell_id": "00023-e8c38f8a-f12f-4faa-ab28-20f7493c1723",
    "deepnote_to_be_reexecuted": false,
    "source_hash": "a30df584",
    "execution_start": 1641770340667,
    "execution_millis": 22730,
    "deepnote_cell_type": "code"
   },
   "source": "?- holdsAt(busyness(Level8),8).\n?- aggregate_all(count, holdsAt(admitted(_),7), Count8).\n?- holdsAt(busyness(Level10),10).\n?- aggregate_all(count, holdsAt(admitted(_),10), Count10).",
   "execution_count": 17,
   "outputs": [
    {
     "name": "stdout",
     "text": "Level8 = high .\nCount8 = 4 .\nLevel10 = medium .\nCount10 = 4 .",
     "output_type": "stream",
     "data": {}
    }
   ]
  },
  {
   "cell_type": "markdown",
   "source": "As illustrated above, we are able to have an event trigger an expectation rule at one busyness level, and  the drop in the associated countdown value will be affected by the busyness level during future time periods, until the expectation is either fulfilled or violated. This allows us to extend the time period specified for **within** expectations under busy scenarios.",
   "metadata": {
    "tags": [],
    "cell_id": "00046-b71fcd3b-ba61-4c39-a865-b6c22adfbd4f",
    "deepnote_cell_type": "markdown"
   }
  },
  {
   "cell_type": "markdown",
   "source": "<a style='text-decoration:none;line-height:16px;display:flex;color:#5B5B62;padding:10px;justify-content:end;' href='https://deepnote.com?utm_source=created-in-deepnote-cell&projectId=1527cc64-36a2-4b35-bd8b-8d493ca554fa' target=\"_blank\">\n<img alt='Created in deepnote.com' style='display:inline;max-height:16px;margin:0px;margin-right:7.5px;' src='data:image/svg+xml;base64,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' > </img>\nCreated in <span style='font-weight:600;margin-left:4px;'>Deepnote</span></a>",
   "metadata": {
    "tags": [],
    "created_in_deepnote_cell": true,
    "deepnote_cell_type": "markdown"
   }
  }
 ],
 "nbformat": 4,
 "nbformat_minor": 2,
 "metadata": {
  "orig_nbformat": 2,
  "deepnote": {
   "is_reactive": false
  },
  "deepnote_notebook_id": "bfd9ce7f-3231-4b04-b18f-b1f3bfc0ac48",
  "deepnote_execution_queue": []
 }
}