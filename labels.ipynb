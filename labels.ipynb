{
 "cells": [
  {
   "cell_type": "markdown",
   "source": "## Labels - Simple Working Example",
   "metadata": {
    "tags": [],
    "is_collapsed": false,
    "cell_id": "00000-695c5a59-7c76-48be-b34e-06e472e24687",
    "deepnote_cell_type": "text-cell-h2"
   }
  },
  {
   "cell_type": "code",
   "metadata": {
    "tags": [],
    "deepnote_to_be_reexecuted": false,
    "source_hash": "51d74c0a",
    "execution_start": 1638474598589,
    "execution_millis": 117,
    "cell_id": "00000-0f733b32-fe09-4a6a-a177-f3aa09769d9b",
    "deepnote_cell_type": "code"
   },
   "source": "% Set up required to reset environment\n?- cd('~/work'), ['dec'].\n?- initialiseDEC.\n?- retractall(happensAtNarrative(_,_)).",
   "execution_count": null,
   "outputs": [
    {
     "name": "stdout",
     "text": "true.\nfalse.\ntrue.",
     "output_type": "stream"
    }
   ]
  },
  {
   "cell_type": "markdown",
   "source": "Label test example for days of the week and colours.",
   "metadata": {
    "tags": [],
    "is_collapsed": false,
    "cell_id": "00001-31c596bb-94b6-4ae5-948a-16f9f3256d7f",
    "deepnote_cell_type": "text-cell-p"
   }
  },
  {
   "cell_type": "code",
   "metadata": {
    "tags": [],
    "cell_id": "00002-ccf7d5b6-199b-4657-b3f4-cd68c9153eb8",
    "deepnote_to_be_reexecuted": false,
    "source_hash": "c53a6493",
    "execution_start": 1638474598735,
    "execution_millis": 4,
    "deepnote_cell_type": "code"
   },
   "source": "% File: labels.pl\nlabel(Lab,T):- labelList(List), nth0(T, List, Lab).\nlabel(Lab,T):- labelList(List), member(Lab,List), length(List,Len), T >= Len, FirstOccurrence is T mod Len,label(Lab,FirstOccurrence).\nlabelList(['Monday', 'Tuesday', 'Wednesday', 'Thursday', 'Friday', 'Saturday', 'Sunday']).\nlabelList(['Blue','Green','Orange','Yellow']).",
   "execution_count": null,
   "outputs": [
    {
     "name": "stdout",
     "text": "",
     "output_type": "stream"
    }
   ]
  },
  {
   "cell_type": "markdown",
   "source": "Time periods are correctly labeled as days of the week, starting with Monday at time 0.",
   "metadata": {
    "tags": [],
    "is_collapsed": false,
    "cell_id": "00004-78f3c0bb-11f4-44d9-aeb7-523443ee955f",
    "deepnote_cell_type": "text-cell-p"
   }
  },
  {
   "cell_type": "code",
   "metadata": {
    "tags": [],
    "cell_id": "00003-37d7e930-c0b1-474d-9a71-0e68316073ce",
    "deepnote_to_be_reexecuted": false,
    "source_hash": "8ceeffa9",
    "execution_start": 1638474598736,
    "execution_millis": 3,
    "deepnote_cell_type": "code"
   },
   "source": "?- eval(@(X),0,A).\n?- eval(@(X),1,B).\n?- eval(@(X),145,C).",
   "execution_count": null,
   "outputs": [
    {
     "name": "stdout",
     "text": "X = Monday, A = true .\nX = Tuesday, B = true .\nX = Saturday, C = true .",
     "output_type": "stream"
    }
   ]
  },
  {
   "cell_type": "markdown",
   "source": "NB: Although eval(@(label)) statements hold for both days and colours, the final query only returns the day and not also the colour.",
   "metadata": {
    "tags": [],
    "is_collapsed": false,
    "cell_id": "00006-7fcde75b-927f-4a18-9471-e0bf25f11eb6",
    "deepnote_cell_type": "text-cell-p"
   }
  },
  {
   "cell_type": "code",
   "metadata": {
    "tags": [],
    "cell_id": "00007-86672fdf-d887-4ae2-9ecc-6720abf2164b",
    "deepnote_to_be_reexecuted": false,
    "source_hash": "52f2d5d5",
    "execution_start": 1638474598737,
    "execution_millis": 7,
    "deepnote_cell_type": "code"
   },
   "source": "?- labelList(List), member(Lab,List), nth0(T, List, Lab).\n?- label(Lab,12).\n?- eval(@('Saturday'),12,D).\n?- eval(@('Blue'),12,E).\n?- eval(@(Z),12,F).\n",
   "execution_count": null,
   "outputs": [
    {
     "name": "stdout",
     "text": "List = [ Monday, Tuesday, Wednesday, Thursday, Friday, Saturday, Sunday ], Lab = Monday, T = 0 ;\nList = [ Monday, Tuesday, Wednesday, Thursday, Friday, Saturday, Sunday ], Lab = Tuesday, T = 1 ;\nList = [ Monday, Tuesday, Wednesday, Thursday, Friday, Saturday, Sunday ], Lab = Wednesday, T = 2 ;\nList = [ Monday, Tuesday, Wednesday, Thursday, Friday, Saturday, Sunday ], Lab = Thursday, T = 3 ;\nList = [ Monday, Tuesday, Wednesday, Thursday, Friday, Saturday, Sunday ], Lab = Friday, T = 4 ;\nList = [ Monday, Tuesday, Wednesday, Thursday, Friday, Saturday, Sunday ], Lab = Saturday, T = 5 ;\nList = [ Monday, Tuesday, Wednesday, Thursday, Friday, Saturday, Sunday ], Lab = Sunday, T = 6 ;\nList = [ Blue, Green, Orange, Yellow ], Lab = Blue, T = 0 ;\nList = [ Blue, Green, Orange, Yellow ], Lab = Green, T = 1 ;\nList = [ Blue, Green, Orange, Yellow ], Lab = Orange, T = 2 ;\nList = [ Blue, Green, Orange, Yellow ], Lab = Yellow, T = 3 .\nLab = Saturday ;\nLab = Blue .\nD = true .\nE = true .\nZ = Saturday, F = true .",
     "output_type": "stream"
    }
   ]
  },
  {
   "cell_type": "markdown",
   "source": "## Labels with duration",
   "metadata": {
    "tags": [],
    "is_collapsed": false,
    "cell_id": "00009-7c512fec-b26c-4adf-81f9-bcf3c173bbeb",
    "deepnote_cell_type": "text-cell-h2"
   }
  },
  {
   "cell_type": "markdown",
   "source": "We can use an alternative implementation in which labels can have various lengths. Here we use weekdays / weekends and months of the year.",
   "metadata": {
    "tags": [],
    "is_collapsed": false,
    "cell_id": "00008-6fea5972-ddd4-4d51-ad80-28b18e441f57",
    "deepnote_cell_type": "text-cell-p"
   }
  },
  {
   "cell_type": "code",
   "metadata": {
    "tags": [],
    "cell_id": "00005-eb968046-99d8-4cda-a8cd-cf3026bc60e8",
    "deepnote_to_be_reexecuted": false,
    "source_hash": "4b5c7143",
    "execution_start": 1638474598746,
    "execution_millis": 7,
    "deepnote_cell_type": "code"
   },
   "source": "% File: labelLengths.pl\nfindPos([],0,_,0).\nfindPos([Head|Tail],Sum,Goal,Pos):- findPos(Tail,PrevSum,Goal,PrevPos), (PrevSum > Goal -> (Pos is PrevPos, Sum is PrevSum);\n(Sum is PrevSum + Head, Pos is PrevPos + 1)).\n\nlabel(Lab, T):- labelList(Categories,Lengths), sum_list(Lengths,TotalTime), ModT is T mod TotalTime,\nreverse(Lengths,Rev), findPos(Rev,_,ModT,Pos), (Pos = 0 -> Index=0; Index is Pos - 1), nth0(Index,Categories,Lab).\n\nlabelList(['January', 'February','March','April','May','June', 'July','August','September', 'October','November', \n'December'],[31,28,31,30,31,30,31,31,30,31,30,31]).\nlabelList(['Weekday', 'Weekend'],[5,2]).",
   "execution_count": null,
   "outputs": [
    {
     "name": "stdout",
     "text": "",
     "output_type": "stream"
    }
   ]
  },
  {
   "cell_type": "markdown",
   "source": "When we start time at T=0 in January, T=58 falls in February, while T=59 falls in March (ignoring leap years!). T = 62 is a weekend day. T=365 falls at the start of a new year (January).",
   "metadata": {
    "tags": [],
    "cell_id": "00010-6f760bdd-9ee1-42af-a007-55207e5f0af8",
    "deepnote_cell_type": "markdown"
   }
  },
  {
   "cell_type": "code",
   "metadata": {
    "tags": [],
    "cell_id": "00010-2c1a12ca-483c-4128-81f9-46a0e946b0c6",
    "deepnote_to_be_reexecuted": false,
    "source_hash": "c41e087f",
    "execution_start": 1638474598797,
    "execution_millis": 2,
    "deepnote_cell_type": "code"
   },
   "source": "?- label(Lab,58).\n?- label(Lab,59).\n?- label(Lab,62).\n?- label(Lab,253).\n?- label(Lab,365).\n?- label(Lab,1200).\n?- eval(@(Z),1200,Bool).",
   "execution_count": null,
   "outputs": [
    {
     "name": "stdout",
     "text": "Lab = February ;\nLab = Weekday .\nLab = March ;\nLab = Weekday .\nLab = March ;\nLab = Weekend .\nLab = September ;\nLab = Weekday .\nLab = January ;\nLab = Weekday .\nLab = April ;\nLab = Weekday .\nZ = April, Bool = true .",
     "output_type": "stream"
    }
   ]
  },
  {
   "cell_type": "markdown",
   "source": "NB: A potential development would be adding in capability for a specified start time e.g. saying that T = 0 occurs in July.",
   "metadata": {
    "tags": [],
    "cell_id": "00013-e7fd4c38-0551-4ea2-9891-20db427e25c2",
    "deepnote_cell_type": "markdown"
   }
  },
  {
   "cell_type": "markdown",
   "source": "<a style='text-decoration:none;line-height:16px;display:flex;color:#5B5B62;padding:10px;justify-content:end;' href='https://deepnote.com?utm_source=created-in-deepnote-cell&projectId=1527cc64-36a2-4b35-bd8b-8d493ca554fa' target=\"_blank\">\n<img alt='Created in deepnote.com' style='display:inline;max-height:16px;margin:0px;margin-right:7.5px;' src='data:image/svg+xml;base64,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' > </img>\nCreated in <span style='font-weight:600;margin-left:4px;'>Deepnote</span></a>",
   "metadata": {
    "tags": [],
    "created_in_deepnote_cell": true,
    "deepnote_cell_type": "markdown"
   }
  }
 ],
 "nbformat": 4,
 "nbformat_minor": 2,
 "metadata": {
  "orig_nbformat": 2,
  "deepnote": {
   "is_reactive": false
  },
  "deepnote_notebook_id": "0a3186b6-c7c4-4ca3-af90-b60a1b7fb5b9",
  "deepnote_execution_queue": []
 }
}