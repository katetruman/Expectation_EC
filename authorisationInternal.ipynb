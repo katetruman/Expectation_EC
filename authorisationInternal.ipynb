{
 "cells": [
  {
   "cell_type": "markdown",
   "source": "# Authorisation of medical Staff",
   "metadata": {
    "tags": [],
    "is_collapsed": false,
    "cell_id": "00000-1197549b-65d1-40a9-be60-1eccb6bb7711",
    "deepnote_cell_type": "text-cell-h1"
   }
  },
  {
   "cell_type": "markdown",
   "source": "This notebook tests granting and retracting authorisations for different levels of medical actor, and assigning medical staff a permission level. This version does not yet include lab authorisation levels and actions.",
   "metadata": {
    "tags": [],
    "is_collapsed": false,
    "cell_id": "00001-44c5ba72-7bf1-4453-81d6-ae3d84df95a6",
    "deepnote_cell_type": "text-cell-p"
   }
  },
  {
   "cell_type": "code",
   "metadata": {
    "tags": [],
    "deepnote_to_be_reexecuted": false,
    "source_hash": "51d74c0a",
    "execution_start": 1638392970264,
    "execution_millis": 148,
    "cell_id": "00002-4e2b3cb0-5e1c-4eef-8362-12360ce6681c",
    "deepnote_cell_type": "code"
   },
   "source": "% Set up required to reset environment\n?- cd('~/work'), ['dec'].\n?- initialiseDEC.\n?- retractall(happensAtNarrative(_,_)).",
   "outputs": [
    {
     "name": "stdout",
     "text": "true.\nfalse.\ntrue.",
     "output_type": "stream"
    }
   ],
   "execution_count": 1
  },
  {
   "cell_type": "markdown",
   "source": "We initially expect that a diagnosis will have been made by a medical staff member authorised to do so. ",
   "metadata": {
    "tags": [],
    "is_collapsed": false,
    "cell_id": "00005-0b7c4f58-539f-4dfe-bb8e-1ff16fafbbc1",
    "deepnote_cell_type": "text-cell-p"
   }
  },
  {
   "cell_type": "markdown",
   "source": "Current medical staff are represented by **medStaff(Actor,Level)**, where **Actor** is the staff member's ID and **Level** is their permission level. Staff can be hired by the **newStaff** event and let go by the **oldStaff** event.\n\nStaff members have a permission level i.e. **nurse** or **doctor**. Different levels are able to perform different actions. A level can have actions granted or revoked, and a staff member can have their permission level changed. In this scenario, each staff member may only have one permission level, however different permission levels may share some authorisations. ",
   "metadata": {
    "tags": [],
    "cell_id": "00004-c6b196ea-c7eb-40ec-88f5-a8ab1e6f1649",
    "deepnote_cell_type": "markdown"
   }
  },
  {
   "cell_type": "code",
   "metadata": {
    "tags": [],
    "deepnote_to_be_reexecuted": false,
    "source_hash": "6aa2dbef",
    "execution_start": 1638392970448,
    "execution_millis": 3,
    "cell_id": "00006-e06b53cc-aa22-4cd3-a0c8-0a18a2bc2c26",
    "deepnote_cell_type": "code"
   },
   "source": "% File: labInitiates.pl\ninitiates(diagnosis(RID,PatID,Condition,Result,Actor), diagnosed(RID,PatID,Condition,Result,Actor),_).\ninitially(exp_rule(happ(diagnosis(_,_,_,_,Actor)), individualAuthorised(diagnosis,Actor))).\n\n% Initiate / terminate employment.\ninitiates(newStaff(Actor,Level), medStaff(Actor)=Level,_).\nterminates(oldStaff(Actor), medStaff(Actor)=_,_).\n% Grant new staff members appropriate action authorisations for their level.\ninitiates(newStaff(Actor,Level), individualAuthorised(Action,Actor),T):- holdsAt(levelAuthority(Level,Action),T).\n% Revoke action authorisations from old staff members.\nterminates(oldStaff(Actor), individualAuthorised(Action,Actor),T).\n\n% Are staff authorised at time zero?\ninitially(individualAuthorised(Action,Actor)):- initially(levelAuthority(Level,Action)), initially(medStaff(Actor)=Level).\n\n\n% Add or revoke authorities for levels. \ninitiates(authorityAdd(Level, Action), levelAuthority(Level,Action),T).\nterminates(authorityRemove(Level, Action), levelAuthority(Level, Action),T).\n% Add or revoke level authorities to medical staff\ninitiates(authorityAdd(Level, Action), individualAuthorised(Action, Actor),T):- holdsAt(medStaff(Actor)=Level,T).\nterminates(authorityRemove(Level,Action), individualAuthorised(Action,Actor),T):- holdsAt(medStaff(Actor)=Level,T).\n\n% Demotions or Promotions\n% terminates(promotion(Actor,NewLevel), medStaff(Actor)=OldLevel,T).\ninitiates(promotion(Actor,NewLevel), medStaff(Actor)=NewLevel,T).\ninitiates(promotion(Actor, NewLevel), individualAuthorised(Action,Actor),T):- holdsAt(levelAuthority(NewLevel,Action),T).\nterminates(promotion(Actor, NewLevel), individualAuthorised(Action,Actor),T):- holdsAt(levelAuthority(OldLevel,OldAction),T), \\+ holdsAt(authority(NewLevel,OldAction),T).",
   "outputs": [
    {
     "name": "stdout",
     "text": "",
     "output_type": "stream"
    }
   ],
   "execution_count": 2
  },
  {
   "cell_type": "markdown",
   "source": "We declare some starting authorisation levels and staff members. For example, nurses may request tests but may not may make diagnoses. **AH** and **EH** are staff members who are nurses. **EH** is promoted to **doctor** at time period 2. (Note that the promotion event can be used for promotion or demotion, currently there is not an explicit hierarchy of levels.)",
   "metadata": {
    "tags": [],
    "cell_id": "00007-76317d3e-b66c-4d3b-91a9-e4f71726945d",
    "deepnote_cell_type": "markdown"
   }
  },
  {
   "cell_type": "code",
   "metadata": {
    "tags": [],
    "deepnote_to_be_reexecuted": false,
    "source_hash": "f97fabb",
    "execution_start": 1638392970449,
    "execution_millis": 3,
    "cell_id": "00007-fa812df3-1141-4f90-bc32-63f49c956c84",
    "deepnote_cell_type": "code"
   },
   "source": "% File: agents.pl\n% Initial actions that different levels of staff may perform.\ninitially(levelAuthority(nurse,testRequests)).\ninitially(levelAuthority(doctor, testRequests)).\ninitially(levelAuthority(doctor, diagnosis)).\ninitially(levelAuthority(specialist, testRequests)).\ninitially(levelAuthority(specialist, diagnosis)).\ninitially(levelAuthority(specialist, brainDeath)).\n\n\n% Some starting staff members.\ninitially(medStaff('AH')=nurse).\ninitially(medStaff('EH')=nurse).\ninitially(medStaff('PS')=doctor).\n\n% A specialist joins\nhappensAtNarrative(newStaff('JW',specialist),0).\n% Nurses are allowed to perform additional actions after time period 1.\nhappensAtNarrative(authorityAdd(nurse, nurseAct1),1).\nhappensAtNarrative(authorityAdd(nurse, nurseAct2),1).\n% 'EH', who was a nurse, is promoted to a doctor. \nhappensAtNarrative(promotion('EH',doctor),2).\n% An acceptor is hired and the specialist is let go.\nhappensAtNarrative(newStaff('GM',acceptor),2).\nhappensAtNarrative(oldStaff('JW'),2).\n% Changes to actions performed by acceptors or nurses.\nhappensAtNarrative(authorityAdd(acceptor, donorDec),3).\nhappensAtNarrative(authorityRemove(nurse, nurseAct2),4).\n\n% EH makes a diagnosis decision (test for exp_rule)\nhappensAtNarrative(diagnosis(1,123,'HIV',positive,'EH'),4).\n% AH makes a diagnosis decision (test for exp_rule)\nhappensAtNarrative(diagnosis(1,123,'HIV',positive,'AH'),4).",
   "outputs": [
    {
     "name": "stdout",
     "text": "",
     "output_type": "stream"
    }
   ],
   "execution_count": 3
  },
  {
   "cell_type": "markdown",
   "source": "At time zero, we can see that all three active medical staff may make test requests, while **PS** can also make diagnoses, as they are a doctor. **JW** joins the staff at this time.",
   "metadata": {
    "tags": [],
    "cell_id": "00009-d9af54ff-126c-410a-ba10-8b8c79f1fed3",
    "deepnote_cell_type": "markdown"
   }
  },
  {
   "cell_type": "code",
   "metadata": {
    "tags": [],
    "deepnote_to_be_reexecuted": false,
    "source_hash": "6d3972d5",
    "execution_start": 1638392970450,
    "execution_millis": 35,
    "cell_id": "00009-a4d11ad0-e330-4c4f-bff7-acd7a127d089",
    "deepnote_cell_type": "code"
   },
   "source": "?- tick(0).\n?- holdsAt(F,0).\n?- happensAt(E,0).",
   "outputs": [
    {
     "name": "stdout",
     "text": "true.\nF = individualAuthorised(testRequests, AH) ;\nF = individualAuthorised(testRequests, EH) ;\nF = individualAuthorised(testRequests, PS) ;\nF = individualAuthorised(diagnosis, PS) ;\nF = {'medStaff(AH)': 'nurse'} ;\nF = {'medStaff(EH)': 'nurse'} ;\nF = {'medStaff(PS)': 'doctor'} ;\nF = exp_rule(happ(diagnosis(_3038, _3040, _3042, _3044, _3046)), individualAuthorised(diagnosis, _3046)) ;\nF = levelAuthority(nurse, testRequests) ;\nF = levelAuthority(doctor, testRequests) ;\nF = levelAuthority(doctor, diagnosis) ;\nF = levelAuthority(specialist, testRequests) ;\nF = levelAuthority(specialist, diagnosis) ;\nF = levelAuthority(specialist, brainDeath) .\nE = newStaff(JW, specialist) .",
     "output_type": "stream"
    }
   ],
   "execution_count": 4
  },
  {
   "cell_type": "markdown",
   "source": "At time one, **JW** is a member of staff and is able to undertake actions authorised for specialists. Nurses are granted additional authority at this time.",
   "metadata": {
    "tags": [],
    "cell_id": "00011-95fb2686-849b-4ae7-bb4e-1b3a740f94e2",
    "deepnote_cell_type": "markdown"
   }
  },
  {
   "cell_type": "code",
   "metadata": {
    "tags": [],
    "deepnote_to_be_reexecuted": false,
    "source_hash": "7fec2391",
    "execution_start": 1638392970482,
    "execution_millis": 5,
    "cell_id": "00011-69e01fbc-4905-48ce-b247-77847e63f029",
    "deepnote_cell_type": "code"
   },
   "source": "?- tick(1).\n?- holdsAt(medStaff('JW')=Level,1).\n?- holdsAt(individualAuthorised(Action,'JW'),1).\n?- happensAt(E,1).\n",
   "outputs": [
    {
     "name": "stdout",
     "text": "true.\nLevel = specialist .\nAction = testRequests ;\nAction = diagnosis ;\nAction = brainDeath .\nE = authorityAdd(nurse, nurseAct1) ;\nE = authorityAdd(nurse, nurseAct2) .",
     "output_type": "stream"
    }
   ],
   "execution_count": 5
  },
  {
   "cell_type": "markdown",
   "source": "At time 2, the two nurses have been granted the additional authorisations. At this time, **EH** is promoted to **doctor**, **GM** joins the staff and **JW** leaves.",
   "metadata": {
    "tags": [],
    "cell_id": "00014-71eb368e-1f9d-4fd4-92de-e506bd596bcf",
    "deepnote_cell_type": "markdown"
   }
  },
  {
   "cell_type": "code",
   "metadata": {
    "tags": [],
    "deepnote_to_be_reexecuted": false,
    "source_hash": "b73a2094",
    "execution_start": 1638392970483,
    "execution_millis": 4,
    "cell_id": "00013-82bdb1cc-b575-4077-955c-1f8574e0b087",
    "deepnote_cell_type": "code"
   },
   "source": "?- tick(2).\n?- holdsAt(individualAuthorised(X,Y),2), (Y='AH'; Y='EH').\n?- happensAt(O,2).\n",
   "outputs": [
    {
     "name": "stdout",
     "text": "true.\nX = testRequests, Y = AH ;\nX = testRequests, Y = EH ;\nX = nurseAct1, Y = AH ;\nX = nurseAct1, Y = EH ;\nX = nurseAct2, Y = AH ;\nX = nurseAct2, Y = EH .\nO = promotion(EH, doctor) ;\nO = newStaff(GM, acceptor) ;\nO = oldStaff(JW) .",
     "output_type": "stream"
    }
   ],
   "execution_count": 6
  },
  {
   "cell_type": "markdown",
   "source": "At time 3, **JW** is no longer a member of staff, but **GM** is. **GM** is currently not authorised to perform any action. At this time point, acceptors are granted authority to make donor decisions. **EH** is now a doctor, and can only perform actions authorised to doctors. They are no longer able to perform actions that were previously authorised due to their status as a **nurse**.",
   "metadata": {
    "tags": [],
    "cell_id": "00016-b6a67045-ff9b-4d83-ab65-283b2ec1eabe",
    "deepnote_cell_type": "markdown"
   }
  },
  {
   "cell_type": "code",
   "metadata": {
    "tags": [],
    "deepnote_to_be_reexecuted": false,
    "source_hash": "31bd1602",
    "execution_start": 1638392970484,
    "execution_millis": 5,
    "cell_id": "00015-4c398e92-0c09-4dbe-aba3-f17359cb4c39",
    "deepnote_cell_type": "code"
   },
   "source": "?- tick(3).\n?- holdsAt(medStaff(ID)=Level,3).\n?- holdsAt(individualAuthorised(Action,Actor),3).\n?- happensAt(D,3).",
   "outputs": [
    {
     "name": "stdout",
     "text": "true.\nID = AH, Level = nurse ;\nID = PS, Level = doctor ;\nID = EH, Level = doctor ;\nID = GM, Level = acceptor .\nAction = testRequests, Actor = AH ;\nAction = testRequests, Actor = PS ;\nAction = diagnosis, Actor = PS ;\nAction = nurseAct1, Actor = AH ;\nAction = nurseAct2, Actor = AH ;\nAction = testRequests, Actor = EH ;\nAction = diagnosis, Actor = EH .\nD = authorityAdd(acceptor, donorDec) .",
     "output_type": "stream"
    }
   ],
   "execution_count": 7
  },
  {
   "cell_type": "markdown",
   "source": "At time 4, diagnoses are made by **AH** and **EH**. As **EH** is a doctor, the expectation that a diagnosis is made by someone authorised to do so is fulfilled by this action, but also separately violated by the diagnosis made by **AH**, who is not authorised to do so. \n\nAt time 4, the authority for **nurses** to perform action **nurseAct2** is revoked. At time 5, **AH**, who is a nurse, no longer has the authority to perform this action. At time 5, **GM** has the authority to make donor decisions, as an **acceptor**.",
   "metadata": {
    "tags": [],
    "cell_id": "00018-0712bdbb-7963-4274-90cd-2a54fac479f0",
    "deepnote_cell_type": "markdown"
   }
  },
  {
   "cell_type": "code",
   "metadata": {
    "tags": [],
    "deepnote_to_be_reexecuted": false,
    "source_hash": "713eb56e",
    "execution_start": 1638392970533,
    "execution_millis": 2,
    "cell_id": "00016-8df996da-fa34-412d-a5d7-2cea2f3c44f8",
    "deepnote_cell_type": "code"
   },
   "source": "?- initialiseDEC.\n?- run(6).\n?- happensAt(B,4).\n?- holdsAt(levelAuthority(nurse,NurseAction),5).\n?- holdsAt(individualAuthorised(AHAction,'AH'),5).\n?- holdsAt(individualAuthorised(GMAction,'GM'),5).\n?- holdsAt(exp(A,B,C,D),4).",
   "outputs": [
    {
     "name": "stdout",
     "text": "true.\ntrue.\nB = authorityRemove(nurse, nurseAct2) ;\nB = diagnosis(1, 123, HIV, positive, EH) ;\nB = diagnosis(1, 123, HIV, positive, AH) ;\nB = fulf(happ(diagnosis(1, 123, HIV, positive, EH)), individualAuthorised(diagnosis, EH), 4, individualAuthorised(diagnosis, EH)) ;\nB = viol(happ(diagnosis(1, 123, HIV, positive, AH)), individualAuthorised(diagnosis, AH)) .\nNurseAction = testRequests ;\nNurseAction = nurseAct1 .\nAHAction = testRequests ;\nAHAction = nurseAct1 .\nGMAction = donorDec .\nA = happ(diagnosis(1, 123, HIV, positive, EH)), B = individualAuthorised(diagnosis, EH), C = 4, D = individualAuthorised(diagnosis, EH) .",
     "output_type": "stream"
    }
   ],
   "execution_count": 8
  },
  {
   "cell_type": "markdown",
   "source": "<a style='text-decoration:none;line-height:16px;display:flex;color:#5B5B62;padding:10px;justify-content:end;' href='https://deepnote.com?utm_source=created-in-deepnote-cell&projectId=1527cc64-36a2-4b35-bd8b-8d493ca554fa' target=\"_blank\">\n<img alt='Created in deepnote.com' style='display:inline;max-height:16px;margin:0px;margin-right:7.5px;' src='data:image/svg+xml;base64,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' > </img>\nCreated in <span style='font-weight:600;margin-left:4px;'>Deepnote</span></a>",
   "metadata": {
    "tags": [],
    "created_in_deepnote_cell": true,
    "deepnote_cell_type": "markdown"
   }
  }
 ],
 "nbformat": 4,
 "nbformat_minor": 2,
 "metadata": {
  "orig_nbformat": 2,
  "deepnote": {
   "is_reactive": false
  },
  "deepnote_notebook_id": "7c844378-1505-48fc-80b5-aecba8417753",
  "deepnote_execution_queue": []
 }
}